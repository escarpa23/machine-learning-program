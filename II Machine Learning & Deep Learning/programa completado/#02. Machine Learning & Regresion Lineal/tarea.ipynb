{
 "cells": [
  {
   "cell_type": "markdown",
   "id": "e9cc526e",
   "metadata": {},
   "source": [
    "<font size=\"+5\">#02. Machine Learning & Regresión Lineal</font>"
   ]
  },
  {
   "cell_type": "markdown",
   "id": "dc0378df",
   "metadata": {},
   "source": [
    "<table class=\"tfo-notebook-buttons\" align=\"left\"\n",
    "style='border-spacing: 20px;\n",
    "border-collapse: separate; font-family: -apple-system, BlinkMacSystemFont, \"Segoe UI\", Roboto,\n",
    "Oxygen, Ubuntu, Cantarell, \"Open Sans\", \"Helvetica Neue\", sans-serif; font-size: 15px'\n",
    ">\n",
    "<td style=\"padding-right: 100px;\">\n",
    "<div\n",
    "style=\"\n",
    "  display: flex;\n",
    "  flex-direction: row;\n",
    "  justify-content: center;\n",
    "  align-items: center;\n",
    "  padding: 0px;\n",
    "\"\n",
    ">\n",
    "<img\n",
    "  style=\"\n",
    "    position: static;\n",
    "    width: 33px;\n",
    "    height: 50px;\n",
    "    left: 0px;\n",
    "    top: 0px;\n",
    "  \"\n",
    "  src=\"https://res.cloudinary.com/sotastica-com/image/upload/v1629821503/logo%4072.png\"\n",
    "/>\n",
    "<a\n",
    "  style=\"\n",
    "    flex: none;\n",
    "    order: 1;\n",
    "    flex-grow: 0;\n",
    "    margin: 0px 10px;\n",
    "    font-size: 35px;\n",
    "    display: flex;\n",
    "    flex-direction: row;\n",
    "    justify-content: center;\n",
    "    align-items: center;\n",
    "    padding: 0px;\n",
    "    color: #000;\n",
    "    text-decoration-color: #000;\n",
    "    text-decoration-thickness: 1.5pt;\n",
    "    text-underline-position: under;\n",
    "  \"\n",
    "  target=\"_blank\"\n",
    "  href=\"https://sotastica.com\"\n",
    "  >sotastica</a\n",
    ">\n",
    "</div>\n",
    "</td>\n",
    "<td style=\"vertical-align: middle\">\n",
    "  <img\n",
    "    style=\"vertical-align: middle\"\n",
    "    width=\"36px\"\n",
    "    src=\"https://openmoji.org/php/download_asset.php?type=emoji&emoji_hexcode=E040&emoji_variant=color\"\n",
    "  />\n",
    "  <a\n",
    "    style=\"\n",
    "      color: #61b2e4;\n",
    "      text-decoration-color: #61b2e4;\n",
    "      text-decoration-thickness: 1.5pt;\n",
    "      text-underline-position: under;\n",
    "    \"\n",
    "    target=\"_blank\"\n",
    "    href=\"https://twitter.com/sotastica\"\n",
    "    >Follow me!</a\n",
    "  >\n",
    "</td>\n",
    "<td style=\"vertical-align: middle\">\n",
    "  <img\n",
    "    style=\"vertical-align: middle\"\n",
    "    width=\"36px\"\n",
    "    src=\"https://openmoji.org/php/download_asset.php?type=emoji&emoji_hexcode=E043&emoji_variant=color\"\n",
    "  />\n",
    "  <a\n",
    "    style=\"\n",
    "      color: #000;\n",
    "      text-decoration-color: #000;\n",
    "      text-decoration-thickness: 1.5pt;\n",
    "      text-underline-position: under;\n",
    "    \"\n",
    "    target=\"_blank\"\n",
    "    href=\"https://www.instagram.com/sotastica.com_/\"\n",
    "    >Sígueme</a\n",
    "  >\n",
    "</td>\n",
    "<td style=\"vertical-align: middle\">\n",
    "  <img\n",
    "    style=\"vertical-align: middle\"\n",
    "    width=\"36px\"\n",
    "    src=\"https://openmoji.org/php/download_asset.php?type=emoji&emoji_hexcode=E046&emoji_variant=color\"\n",
    "  />\n",
    "  <a\n",
    "    style=\"\n",
    "      color: #61b2e4;\n",
    "      text-decoration-color: #61b2e4;\n",
    "      text-decoration-thickness: 1.5pt;\n",
    "      text-underline-position: under;\n",
    "    \"\n",
    "    target=\"_blank\"\n",
    "    href=\"https://www.linkedin.com/in/jesusloplar/\"\n",
    "    >Conectamos?</a\n",
    "  >\n",
    "</td>\n",
    "<td style=\"vertical-align: middle\">\n",
    "  <img\n",
    "    style=\"vertical-align: middle\"\n",
    "    width=\"36px\"\n",
    "    src=\"https://openmoji.org/php/download_asset.php?type=emoji&emoji_hexcode=E044&emoji_variant=color\"\n",
    "  />\n",
    "  <a\n",
    "    style=\"\n",
    "      color: #ea5a47;\n",
    "      text-decoration-color: #ea5a47;\n",
    "      text-decoration-thickness: 1.5pt;\n",
    "      text-underline-position: under;\n",
    "    \"\n",
    "    target=\"_blank\"\n",
    "    href=\"https://www.youtube.com/channel/UCovCte2I3loteQE_kRsfQcw\"\n",
    "    >Suscríbete</a\n",
    "  >\n",
    "</td>\n",
    "</table>"
   ]
  },
  {
   "cell_type": "markdown",
   "id": "9cc98630",
   "metadata": {},
   "source": [
    "# Cargar Datos"
   ]
  },
  {
   "cell_type": "markdown",
   "id": "bca08c1e",
   "metadata": {},
   "source": [
    "> Si ejecutamos los siguientes comandos:\n",
    "\n",
    "```python\n",
    "import seaborn as sns\n",
    "sns.get_dataset_names()\n",
    "```\n",
    "\n",
    "> Veremos una lista de posibles `datasets` que podemos descargar desde internet y convertirlos directamente a un `DataFrame` de `pandas`. Por ejemplo:\n",
    "\n",
    "```python\n",
    "sns.load_dataset(name='mpg')\n",
    "```"
   ]
  },
  {
   "cell_type": "code",
   "execution_count": 6,
   "id": "95f533b4",
   "metadata": {},
   "outputs": [],
   "source": [
    "import seaborn as sns\n",
    "sns.get_dataset_names()\n",
    "df = sns.load_dataset(name='mpg')"
   ]
  },
  {
   "cell_type": "markdown",
   "id": "b56d9ae7-7ba3-49de-8450-1ebd6b0f06a9",
   "metadata": {},
   "source": [
    "> Si ejecutamos los siguientes comandos:\n",
    "\n",
    "```python\n",
    "import seaborn as sns\n",
    "sns.get_dataset_names()\n",
    "```\n",
    "\n",
    "> Veremos una lista de posibles `datasets` que podemos descargar desde internet y convertirlos directamente a un `DataFrame` de `pandas`. Por ejemplo:\n",
    "\n",
    "```python\n",
    "sns.load_dataset(name='mpg')\n",
    "```"
   ]
  },
  {
   "cell_type": "markdown",
   "id": "d91b9d9c",
   "metadata": {},
   "source": [
    "# Seleccionar 2 Variables para la Regresión"
   ]
  },
  {
   "cell_type": "markdown",
   "id": "b9918644",
   "metadata": {},
   "source": [
    "> - Variable Objetivo `y`\n",
    "> - Variable Explicativa `X`"
   ]
  },
  {
   "cell_type": "code",
   "execution_count": 7,
   "id": "5c904d21-d5cb-4e52-a386-d72710246dae",
   "metadata": {},
   "outputs": [
    {
     "data": {
      "text/html": [
       "<div>\n",
       "<style scoped>\n",
       "    .dataframe tbody tr th:only-of-type {\n",
       "        vertical-align: middle;\n",
       "    }\n",
       "\n",
       "    .dataframe tbody tr th {\n",
       "        vertical-align: top;\n",
       "    }\n",
       "\n",
       "    .dataframe thead th {\n",
       "        text-align: right;\n",
       "    }\n",
       "</style>\n",
       "<table border=\"1\" class=\"dataframe\">\n",
       "  <thead>\n",
       "    <tr style=\"text-align: right;\">\n",
       "      <th></th>\n",
       "      <th>mpg</th>\n",
       "      <th>cylinders</th>\n",
       "      <th>displacement</th>\n",
       "      <th>horsepower</th>\n",
       "      <th>weight</th>\n",
       "      <th>acceleration</th>\n",
       "      <th>model_year</th>\n",
       "      <th>origin</th>\n",
       "      <th>name</th>\n",
       "    </tr>\n",
       "  </thead>\n",
       "  <tbody>\n",
       "    <tr>\n",
       "      <th>0</th>\n",
       "      <td>18.0</td>\n",
       "      <td>8</td>\n",
       "      <td>307.0</td>\n",
       "      <td>130.0</td>\n",
       "      <td>3504</td>\n",
       "      <td>12.0</td>\n",
       "      <td>70</td>\n",
       "      <td>usa</td>\n",
       "      <td>chevrolet chevelle malibu</td>\n",
       "    </tr>\n",
       "    <tr>\n",
       "      <th>1</th>\n",
       "      <td>15.0</td>\n",
       "      <td>8</td>\n",
       "      <td>350.0</td>\n",
       "      <td>165.0</td>\n",
       "      <td>3693</td>\n",
       "      <td>11.5</td>\n",
       "      <td>70</td>\n",
       "      <td>usa</td>\n",
       "      <td>buick skylark 320</td>\n",
       "    </tr>\n",
       "    <tr>\n",
       "      <th>2</th>\n",
       "      <td>18.0</td>\n",
       "      <td>8</td>\n",
       "      <td>318.0</td>\n",
       "      <td>150.0</td>\n",
       "      <td>3436</td>\n",
       "      <td>11.0</td>\n",
       "      <td>70</td>\n",
       "      <td>usa</td>\n",
       "      <td>plymouth satellite</td>\n",
       "    </tr>\n",
       "    <tr>\n",
       "      <th>3</th>\n",
       "      <td>16.0</td>\n",
       "      <td>8</td>\n",
       "      <td>304.0</td>\n",
       "      <td>150.0</td>\n",
       "      <td>3433</td>\n",
       "      <td>12.0</td>\n",
       "      <td>70</td>\n",
       "      <td>usa</td>\n",
       "      <td>amc rebel sst</td>\n",
       "    </tr>\n",
       "    <tr>\n",
       "      <th>4</th>\n",
       "      <td>17.0</td>\n",
       "      <td>8</td>\n",
       "      <td>302.0</td>\n",
       "      <td>140.0</td>\n",
       "      <td>3449</td>\n",
       "      <td>10.5</td>\n",
       "      <td>70</td>\n",
       "      <td>usa</td>\n",
       "      <td>ford torino</td>\n",
       "    </tr>\n",
       "    <tr>\n",
       "      <th>...</th>\n",
       "      <td>...</td>\n",
       "      <td>...</td>\n",
       "      <td>...</td>\n",
       "      <td>...</td>\n",
       "      <td>...</td>\n",
       "      <td>...</td>\n",
       "      <td>...</td>\n",
       "      <td>...</td>\n",
       "      <td>...</td>\n",
       "    </tr>\n",
       "    <tr>\n",
       "      <th>393</th>\n",
       "      <td>27.0</td>\n",
       "      <td>4</td>\n",
       "      <td>140.0</td>\n",
       "      <td>86.0</td>\n",
       "      <td>2790</td>\n",
       "      <td>15.6</td>\n",
       "      <td>82</td>\n",
       "      <td>usa</td>\n",
       "      <td>ford mustang gl</td>\n",
       "    </tr>\n",
       "    <tr>\n",
       "      <th>394</th>\n",
       "      <td>44.0</td>\n",
       "      <td>4</td>\n",
       "      <td>97.0</td>\n",
       "      <td>52.0</td>\n",
       "      <td>2130</td>\n",
       "      <td>24.6</td>\n",
       "      <td>82</td>\n",
       "      <td>europe</td>\n",
       "      <td>vw pickup</td>\n",
       "    </tr>\n",
       "    <tr>\n",
       "      <th>395</th>\n",
       "      <td>32.0</td>\n",
       "      <td>4</td>\n",
       "      <td>135.0</td>\n",
       "      <td>84.0</td>\n",
       "      <td>2295</td>\n",
       "      <td>11.6</td>\n",
       "      <td>82</td>\n",
       "      <td>usa</td>\n",
       "      <td>dodge rampage</td>\n",
       "    </tr>\n",
       "    <tr>\n",
       "      <th>396</th>\n",
       "      <td>28.0</td>\n",
       "      <td>4</td>\n",
       "      <td>120.0</td>\n",
       "      <td>79.0</td>\n",
       "      <td>2625</td>\n",
       "      <td>18.6</td>\n",
       "      <td>82</td>\n",
       "      <td>usa</td>\n",
       "      <td>ford ranger</td>\n",
       "    </tr>\n",
       "    <tr>\n",
       "      <th>397</th>\n",
       "      <td>31.0</td>\n",
       "      <td>4</td>\n",
       "      <td>119.0</td>\n",
       "      <td>82.0</td>\n",
       "      <td>2720</td>\n",
       "      <td>19.4</td>\n",
       "      <td>82</td>\n",
       "      <td>usa</td>\n",
       "      <td>chevy s-10</td>\n",
       "    </tr>\n",
       "  </tbody>\n",
       "</table>\n",
       "<p>398 rows × 9 columns</p>\n",
       "</div>"
      ],
      "text/plain": [
       "      mpg  cylinders  displacement  horsepower  weight  acceleration  \\\n",
       "0    18.0          8         307.0       130.0    3504          12.0   \n",
       "1    15.0          8         350.0       165.0    3693          11.5   \n",
       "2    18.0          8         318.0       150.0    3436          11.0   \n",
       "3    16.0          8         304.0       150.0    3433          12.0   \n",
       "4    17.0          8         302.0       140.0    3449          10.5   \n",
       "..    ...        ...           ...         ...     ...           ...   \n",
       "393  27.0          4         140.0        86.0    2790          15.6   \n",
       "394  44.0          4          97.0        52.0    2130          24.6   \n",
       "395  32.0          4         135.0        84.0    2295          11.6   \n",
       "396  28.0          4         120.0        79.0    2625          18.6   \n",
       "397  31.0          4         119.0        82.0    2720          19.4   \n",
       "\n",
       "     model_year  origin                       name  \n",
       "0            70     usa  chevrolet chevelle malibu  \n",
       "1            70     usa          buick skylark 320  \n",
       "2            70     usa         plymouth satellite  \n",
       "3            70     usa              amc rebel sst  \n",
       "4            70     usa                ford torino  \n",
       "..          ...     ...                        ...  \n",
       "393          82     usa            ford mustang gl  \n",
       "394          82  europe                  vw pickup  \n",
       "395          82     usa              dodge rampage  \n",
       "396          82     usa                ford ranger  \n",
       "397          82     usa                 chevy s-10  \n",
       "\n",
       "[398 rows x 9 columns]"
      ]
     },
     "execution_count": 7,
     "metadata": {},
     "output_type": "execute_result"
    }
   ],
   "source": [
    "df"
   ]
  },
  {
   "cell_type": "code",
   "execution_count": 8,
   "id": "a1e61701",
   "metadata": {},
   "outputs": [],
   "source": [
    "objetivo = df.mpg\n",
    "explicativa = df[['acceleration']]"
   ]
  },
  {
   "cell_type": "markdown",
   "id": "76373cdd",
   "metadata": {},
   "source": [
    "# Scatterplot con las Variables"
   ]
  },
  {
   "cell_type": "markdown",
   "id": "ce985f84",
   "metadata": {},
   "source": [
    "> Deberíamos observar en la gráfica que los puntos podrían relacionarse a través de una línea que los cruce.\n",
    ">\n",
    "> Si no es así, debemos seleccionar otras variables."
   ]
  },
  {
   "cell_type": "code",
   "execution_count": 9,
   "id": "6c576768",
   "metadata": {},
   "outputs": [
    {
     "data": {
      "text/plain": [
       "<AxesSubplot:xlabel='acceleration', ylabel='mpg'>"
      ]
     },
     "execution_count": 9,
     "metadata": {},
     "output_type": "execute_result"
    },
    {
     "data": {
      "image/png": "[encoded data removed]",
      "text/plain": [
       "<Figure size 432x288 with 1 Axes>"
      ]
     },
     "metadata": {
      "needs_background": "light"
     },
     "output_type": "display_data"
    }
   ],
   "source": [
    "sns.scatterplot(y='mpg', x='acceleration', data=df)"
   ]
  },
  {
   "cell_type": "markdown",
   "id": "4b0b8615",
   "metadata": {},
   "source": [
    "# Modelo de Regresión Lineal `LinearRegression()`"
   ]
  },
  {
   "cell_type": "markdown",
   "id": "aa15e251",
   "metadata": {},
   "source": [
    "## Entrenar Modelo"
   ]
  },
  {
   "cell_type": "markdown",
   "id": "3049298a",
   "metadata": {},
   "source": [
    "> 1. **Necesidad:** Entrenar Modelo\n",
    "> 2. **Solución: Función** `fit()`"
   ]
  },
  {
   "cell_type": "code",
   "execution_count": 10,
   "id": "0d3cdb70",
   "metadata": {},
   "outputs": [
    {
     "data": {
      "text/plain": [
       "LinearRegression()"
      ]
     },
     "execution_count": 10,
     "metadata": {},
     "output_type": "execute_result"
    }
   ],
   "source": [
    "from sklearn.linear_model import LinearRegression\n",
    "regresion = LinearRegression()\n",
    "regresion.fit(X = explicativa, y = objetivo)"
   ]
  },
  {
   "cell_type": "markdown",
   "id": "65d6bfe2",
   "metadata": {},
   "source": [
    "## Realizar Predicciones"
   ]
  },
  {
   "cell_type": "markdown",
   "id": "ef542b1d",
   "metadata": {},
   "source": [
    "> - `model.predict()`"
   ]
  },
  {
   "cell_type": "code",
   "execution_count": 15,
   "id": "3648937c",
   "metadata": {},
   "outputs": [],
   "source": [
    "pred = regresion.predict(X = explicativa)"
   ]
  },
  {
   "cell_type": "code",
   "execution_count": 19,
   "id": "4adba509-ee37-4112-9997-350ebcea1734",
   "metadata": {},
   "outputs": [
    {
     "data": {
      "text/plain": [
       "{'fit_intercept': True,\n",
       " 'normalize': False,\n",
       " 'copy_X': True,\n",
       " 'n_jobs': None,\n",
       " 'positive': False,\n",
       " 'n_features_in_': 1,\n",
       " 'coef_': array([1.19120453]),\n",
       " '_residues': 19968.53337426514,\n",
       " 'rank_': 1,\n",
       " 'singular_': array([54.94656267]),\n",
       " 'intercept_': 4.969793004253894}"
      ]
     },
     "execution_count": 19,
     "metadata": {},
     "output_type": "execute_result"
    }
   ],
   "source": [
    "regresion.__dict__"
   ]
  },
  {
   "cell_type": "markdown",
   "id": "66189d1e-c064-4ade-a5a0-6328e4c29a37",
   "metadata": {},
   "source": [
    "$$\n",
    "\\hat y = 4.96 + 1.19 \\cdot x\n",
    "$$"
   ]
  },
  {
   "cell_type": "code",
   "execution_count": 25,
   "id": "088f0faa-8588-48c7-b5ad-b0550a8a7f27",
   "metadata": {},
   "outputs": [
    {
     "data": {
      "text/plain": [
       "19.24"
      ]
     },
     "execution_count": 25,
     "metadata": {},
     "output_type": "execute_result"
    }
   ],
   "source": [
    "(12) * 1.19 + 4.96"
   ]
  },
  {
   "cell_type": "code",
   "execution_count": null,
   "id": "ccca7099-02cb-4908-997d-ea5a9173eb06",
   "metadata": {},
   "outputs": [],
   "source": [
    "regresion.predict()"
   ]
  },
  {
   "cell_type": "code",
   "execution_count": 20,
   "id": "b971248c-6078-410d-b170-c33087baff68",
   "metadata": {},
   "outputs": [],
   "source": [
    "dfsel = df[['acceleration', 'mpg']]"
   ]
  },
  {
   "cell_type": "code",
   "execution_count": 21,
   "id": "92e60618-8e3e-4727-a33a-790c6228b873",
   "metadata": {},
   "outputs": [
    {
     "name": "stderr",
     "output_type": "stream",
     "text": [
      "/var/folders/24/tg28vxls25l9mjvqrnh0plc80000gn/T/ipykernel_24700/3662383453.py:1: SettingWithCopyWarning: \n",
      "A value is trying to be set on a copy of a slice from a DataFrame.\n",
      "Try using .loc[row_indexer,col_indexer] = value instead\n",
      "\n",
      "See the caveats in the documentation: https://pandas.pydata.org/pandas-docs/stable/user_guide/indexing.html#returning-a-view-versus-a-copy\n",
      "  dfsel['pred'] = pred\n"
     ]
    }
   ],
   "source": [
    "dfsel['pred'] = pred"
   ]
  },
  {
   "cell_type": "code",
   "execution_count": 23,
   "id": "5141b8b7-259e-4a50-9049-3a4f9f7be155",
   "metadata": {},
   "outputs": [
    {
     "data": {
      "text/html": [
       "<div>\n",
       "<style scoped>\n",
       "    .dataframe tbody tr th:only-of-type {\n",
       "        vertical-align: middle;\n",
       "    }\n",
       "\n",
       "    .dataframe tbody tr th {\n",
       "        vertical-align: top;\n",
       "    }\n",
       "\n",
       "    .dataframe thead th {\n",
       "        text-align: right;\n",
       "    }\n",
       "</style>\n",
       "<table border=\"1\" class=\"dataframe\">\n",
       "  <thead>\n",
       "    <tr style=\"text-align: right;\">\n",
       "      <th></th>\n",
       "      <th>acceleration</th>\n",
       "      <th>mpg</th>\n",
       "      <th>pred</th>\n",
       "    </tr>\n",
       "  </thead>\n",
       "  <tbody>\n",
       "    <tr>\n",
       "      <th>0</th>\n",
       "      <td>12.0</td>\n",
       "      <td>18.0</td>\n",
       "      <td>19.264247</td>\n",
       "    </tr>\n",
       "    <tr>\n",
       "      <th>1</th>\n",
       "      <td>11.5</td>\n",
       "      <td>15.0</td>\n",
       "      <td>18.668645</td>\n",
       "    </tr>\n",
       "    <tr>\n",
       "      <th>2</th>\n",
       "      <td>11.0</td>\n",
       "      <td>18.0</td>\n",
       "      <td>18.073043</td>\n",
       "    </tr>\n",
       "    <tr>\n",
       "      <th>3</th>\n",
       "      <td>12.0</td>\n",
       "      <td>16.0</td>\n",
       "      <td>19.264247</td>\n",
       "    </tr>\n",
       "    <tr>\n",
       "      <th>4</th>\n",
       "      <td>10.5</td>\n",
       "      <td>17.0</td>\n",
       "      <td>17.477441</td>\n",
       "    </tr>\n",
       "    <tr>\n",
       "      <th>...</th>\n",
       "      <td>...</td>\n",
       "      <td>...</td>\n",
       "      <td>...</td>\n",
       "    </tr>\n",
       "    <tr>\n",
       "      <th>393</th>\n",
       "      <td>15.6</td>\n",
       "      <td>27.0</td>\n",
       "      <td>23.552584</td>\n",
       "    </tr>\n",
       "    <tr>\n",
       "      <th>394</th>\n",
       "      <td>24.6</td>\n",
       "      <td>44.0</td>\n",
       "      <td>34.273424</td>\n",
       "    </tr>\n",
       "    <tr>\n",
       "      <th>395</th>\n",
       "      <td>11.6</td>\n",
       "      <td>32.0</td>\n",
       "      <td>18.787766</td>\n",
       "    </tr>\n",
       "    <tr>\n",
       "      <th>396</th>\n",
       "      <td>18.6</td>\n",
       "      <td>28.0</td>\n",
       "      <td>27.126197</td>\n",
       "    </tr>\n",
       "    <tr>\n",
       "      <th>397</th>\n",
       "      <td>19.4</td>\n",
       "      <td>31.0</td>\n",
       "      <td>28.079161</td>\n",
       "    </tr>\n",
       "  </tbody>\n",
       "</table>\n",
       "<p>398 rows × 3 columns</p>\n",
       "</div>"
      ],
      "text/plain": [
       "     acceleration   mpg       pred\n",
       "0            12.0  18.0  19.264247\n",
       "1            11.5  15.0  18.668645\n",
       "2            11.0  18.0  18.073043\n",
       "3            12.0  16.0  19.264247\n",
       "4            10.5  17.0  17.477441\n",
       "..            ...   ...        ...\n",
       "393          15.6  27.0  23.552584\n",
       "394          24.6  44.0  34.273424\n",
       "395          11.6  32.0  18.787766\n",
       "396          18.6  28.0  27.126197\n",
       "397          19.4  31.0  28.079161\n",
       "\n",
       "[398 rows x 3 columns]"
      ]
     },
     "execution_count": 23,
     "metadata": {},
     "output_type": "execute_result"
    }
   ],
   "source": [
    "dfsel"
   ]
  },
  {
   "cell_type": "markdown",
   "id": "cc16d8d3",
   "metadata": {},
   "source": [
    "# Visualizar Modelo"
   ]
  },
  {
   "cell_type": "markdown",
   "id": "be2ba8e9",
   "metadata": {},
   "source": [
    "> 1. Los **datos reales**.\n",
    "> 2. **Modelo: las predicciones** con la ecuación matemática."
   ]
  },
  {
   "cell_type": "code",
   "execution_count": 27,
   "id": "2c2d3948",
   "metadata": {},
   "outputs": [
    {
     "ename": "NameError",
     "evalue": "name 'x' is not defined",
     "output_type": "error",
     "traceback": [
      "\u001b[0;31m---------------------------------------------------------------------------\u001b[0m",
      "\u001b[0;31mNameError\u001b[0m                                 Traceback (most recent call last)",
      "\u001b[0;32m/var/folders/24/tg28vxls25l9mjvqrnh0plc80000gn/T/ipykernel_24700/149610026.py\u001b[0m in \u001b[0;36m<module>\u001b[0;34m\u001b[0m\n\u001b[0;32m----> 1\u001b[0;31m \u001b[0msns\u001b[0m\u001b[0;34m.\u001b[0m\u001b[0mscatterplot\u001b[0m\u001b[0;34m(\u001b[0m \u001b[0mx\u001b[0m \u001b[0;34m=\u001b[0m \u001b[0mx\u001b[0m\u001b[0;34m,\u001b[0m \u001b[0my\u001b[0m \u001b[0;34m=\u001b[0m \u001b[0my\u001b[0m\u001b[0;34m)\u001b[0m\u001b[0;34m\u001b[0m\u001b[0;34m\u001b[0m\u001b[0m\n\u001b[0m",
      "\u001b[0;31mNameError\u001b[0m: name 'x' is not defined"
     ]
    }
   ],
   "source": [
    "sns.scatterplot( x = x, y = y)"
   ]
  },
  {
   "cell_type": "code",
   "execution_count": null,
   "id": "d11f6da7-a576-4029-a2bc-e9963f8a5bc1",
   "metadata": {},
   "outputs": [],
   "source": []
  },
  {
   "cell_type": "code",
   "execution_count": 33,
   "id": "fc5a22fc-b6e5-4982-9bd8-7564a62910b6",
   "metadata": {},
   "outputs": [
    {
     "data": {
      "text/plain": [
       "<AxesSubplot:xlabel='acceleration', ylabel='mpg'>"
      ]
     },
     "execution_count": 33,
     "metadata": {},
     "output_type": "execute_result"
    },
    {
     "data": {
      "image/png": "[encoded data removed]",
      "text/plain": [
       "<Figure size 432x288 with 1 Axes>"
      ]
     },
     "metadata": {
      "needs_background": "light"
     },
     "output_type": "display_data"
    }
   ],
   "source": [
    "sns.scatterplot( x = 'acceleration', y= 'mpg', data=df)\n",
    "sns.scatterplot( x = 'acceleration', y= 'pred', data=dfsel)\n",
    "sns.lineplot( x = 'acceleration', y= 'pred', data=dfsel)"
   ]
  },
  {
   "cell_type": "markdown",
   "id": "d1fd8242",
   "metadata": {},
   "source": [
    "# Interpretar Modelo"
   ]
  },
  {
   "cell_type": "markdown",
   "id": "ace9049f",
   "metadata": {},
   "source": [
    "> 1. Especifica la **Fórmula Matemática** del Modelo.\n",
    "> 2. **Interpreta los Coeficientes** de la Ecuación Matemática."
   ]
  },
  {
   "cell_type": "code",
   "execution_count": null,
   "id": "ddd5fe61",
   "metadata": {},
   "outputs": [],
   "source": []
  },
  {
   "cell_type": "markdown",
   "id": "25c04f25",
   "metadata": {},
   "source": [
    "# Realidad vs Predicciones"
   ]
  },
  {
   "cell_type": "markdown",
   "id": "9f6f8ffa",
   "metadata": {},
   "source": [
    "> ¿Cómo de bueno es nuestro modelo?\n",
    ">\n",
    "> 1. Si pasamos las predicciones como una nuevo columna del `DataFrame`, podremos observar que **las predicciones de nuestro modelo pueden no coincidir con la realidad**.\n",
    ">\n",
    ">    - `df['pred'] = predicciones`\n",
    ">\n",
    "> 2. ¿Cómo medimos el **error de nuestro modelo**? ¿Cómo de bueno es nuestro modelo para describir la realidad?\n",
    ">    - `df.sample(10)` para comprobar si las predicciones de nuestro modelo coinciden con la realidad..."
   ]
  },
  {
   "cell_type": "code",
   "execution_count": 37,
   "id": "f9ced2e4-4bbb-4ef3-95a5-7dcaa466f6bc",
   "metadata": {},
   "outputs": [],
   "source": [
    "rss = ((dfsel['pred'] - dfsel['mpg'])**2).sum()"
   ]
  },
  {
   "cell_type": "code",
   "execution_count": 38,
   "id": "2c0a90af-87a3-42ed-8443-8768262d1967",
   "metadata": {},
   "outputs": [
    {
     "data": {
      "text/plain": [
       "19968.533374265142"
      ]
     },
     "execution_count": 38,
     "metadata": {},
     "output_type": "execute_result"
    }
   ],
   "source": [
    "rss"
   ]
  },
  {
   "cell_type": "code",
   "execution_count": 41,
   "id": "3a5383f6-07cf-4b0e-be37-db90da94439f",
   "metadata": {},
   "outputs": [
    {
     "data": {
      "text/plain": [
       "23.514572864321615"
      ]
     },
     "execution_count": 41,
     "metadata": {},
     "output_type": "execute_result"
    }
   ],
   "source": [
    "dfsel['mpg'].mean()"
   ]
  },
  {
   "cell_type": "code",
   "execution_count": 42,
   "id": "e8de3c2c-c3ad-449a-b765-59bc9092bc68",
   "metadata": {},
   "outputs": [
    {
     "data": {
      "text/plain": [
       "0      18.0\n",
       "1      15.0\n",
       "2      18.0\n",
       "3      16.0\n",
       "4      17.0\n",
       "       ... \n",
       "393    27.0\n",
       "394    44.0\n",
       "395    32.0\n",
       "396    28.0\n",
       "397    31.0\n",
       "Name: mpg, Length: 398, dtype: float64"
      ]
     },
     "execution_count": 42,
     "metadata": {},
     "output_type": "execute_result"
    }
   ],
   "source": [
    "dfsel['mpg']"
   ]
  },
  {
   "cell_type": "code",
   "execution_count": 46,
   "id": "dd8355b7-c48e-4b9a-9b2c-56e7c42d8934",
   "metadata": {},
   "outputs": [],
   "source": [
    "tss = ((dfsel['mpg'] - dfsel['mpg'].mean())**2).sum()"
   ]
  },
  {
   "cell_type": "code",
   "execution_count": 47,
   "id": "a11d5265-d70b-4aef-9b93-703ddc83eacc",
   "metadata": {},
   "outputs": [
    {
     "data": {
      "text/plain": [
       "0.8233572303644111"
      ]
     },
     "execution_count": 47,
     "metadata": {},
     "output_type": "execute_result"
    }
   ],
   "source": [
    "rss/tss"
   ]
  },
  {
   "cell_type": "code",
   "execution_count": 48,
   "id": "b34f12ee-9813-4cf6-9405-eabc34053656",
   "metadata": {},
   "outputs": [
    {
     "data": {
      "text/plain": [
       "0.1766427696355889"
      ]
     },
     "execution_count": 48,
     "metadata": {},
     "output_type": "execute_result"
    }
   ],
   "source": [
    "1 - rss/tss"
   ]
  },
  {
   "cell_type": "code",
   "execution_count": 49,
   "id": "95843792-eacd-4060-90a7-d76f59be5c04",
   "metadata": {},
   "outputs": [
    {
     "data": {
      "text/plain": [
       "0.176642769635589"
      ]
     },
     "execution_count": 49,
     "metadata": {},
     "output_type": "execute_result"
    }
   ],
   "source": [
    "regresion.score(X=explicativa, y=objetivo)"
   ]
  },
  {
   "cell_type": "markdown",
   "id": "dea4c137",
   "metadata": {},
   "source": [
    "# Objetivos Alcanzados"
   ]
  },
  {
   "cell_type": "markdown",
   "id": "78ca9903-ea82-4942-8cbf-cc999bd62d9b",
   "metadata": {},
   "source": [
    "_Haz doble click sobre esta celda y pon una `X` dentro de las casillas [X] si crees que has superado los objetivos:_\n",
    "\n",
    "- [X] Entender **cómo la máquina optimiza un modelo**, que no es más que encontrar **los números** una ecuación matemática.\n",
    "- [X] La `función` como elemento indivisible de la programación. Como un **átomo**: el núcleo de todo.\n",
    "- [X] Entender **qué sucede dentro del ordenador** cuando ejecutamos una función. Descargamos código de internet, o es un proceso local del ordenador?\n",
    "- [X] Usar **la programación como una herramienta**, como un medio hacia un fin. No como el fin en sí mismo.\n",
    "- [X] Entender que la estadística no es una ciencia perfecta. Sino que trata de **aproximarse a la realidad** de la mejor forma posible.\n",
    "- [X] **Medir el error** del modelo no es más que comparar la predicción contra la realidad.\n",
    "- [X] De la misma manera que en el código existen diversas formas de obtener el mismo resultado, en la programación existen **diversos algoritmos/modelos/ecuaciones para predecir la misma variable**."
   ]
  },
  {
   "cell_type": "code",
   "execution_count": null,
   "id": "55a0ecac-e887-4118-99c3-ed354bb3d892",
   "metadata": {},
   "outputs": [],
   "source": []
  }
 ],
 "metadata": {
  "authors": [
   {
    "name": "Jesús López @sotastica"
   }
  ],
  "kernelspec": {
   "display_name": "Python 3 (ipykernel)",
   "language": "python",
   "name": "python3"
  },
  "language_info": {
   "codemirror_mode": {
    "name": "ipython",
    "version": 3
   },
   "file_extension": ".py",
   "mimetype": "text/x-python",
   "name": "python",
   "nbconvert_exporter": "python",
   "pygments_lexer": "ipython3",
   "version": "3.8.11"
  }
 },
 "nbformat": 4,
 "nbformat_minor": 5
}
