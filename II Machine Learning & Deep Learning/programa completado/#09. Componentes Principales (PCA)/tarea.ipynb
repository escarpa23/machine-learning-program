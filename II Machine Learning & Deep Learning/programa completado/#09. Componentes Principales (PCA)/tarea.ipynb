{
 "cells": [
  {
   "cell_type": "markdown",
   "metadata": {},
   "source": [
    "<font size=\"+5\">#09. Componentes Principales (PCA)</font>"
   ]
  },
  {
   "cell_type": "markdown",
   "metadata": {},
   "source": [
    "<ul>\n",
    "    <li>Resolver dudas → Pregunta en <img src=\"https://discord.com/assets/f9bb9c4af2b9c32a2c5ee0014661546d.png\" style=\"height: 1em; vertical-align: middle;\"> <a href=\"https://discord.gg/cmB3KGsqMy\">Discord</a></li>\n",
    "    <li>Tutoriales → <img src=\"https://openmoji.org/php/download_asset.php?type=emoji&emoji_hexcode=E044&emoji_variant=color\" style=\"height: 1em; vertical-align: middle;\"> <a href=\"https://www.youtube.com/channel/UCovCte2I3loteQE_kRsfQcw\">YouTube</a></li>\n",
    "    <li>Reservar Clases → <span style=\"color: orange\">@</span> <a href=\"https://sotastica.com/reservar\">sotastica</a></li>\n",
    "</ul>"
   ]
  },
  {
   "cell_type": "markdown",
   "metadata": {},
   "source": [
    "# Cargar Datos"
   ]
  },
  {
   "cell_type": "markdown",
   "metadata": {},
   "source": [
    "> - Simplemente, copiamos y pegamos las siguientes líneas de código para cargar los datos.\n",
    "> - La tabla contiene **estadísticas sobre Coches** (columnas).\n",
    "> - Para distintas **Marcas/Modelos de coche** (filas).\n",
    "\n",
    "```python\n",
    "import seaborn as sns\n",
    "\n",
    "df = sns.load_dataset(name='mpg', index_col='name')\n",
    "df.sample(10)\n",
    "```"
   ]
  },
  {
   "cell_type": "code",
   "execution_count": 2,
   "metadata": {},
   "outputs": [
    {
     "data": {
      "text/html": [
       "<div>\n",
       "<style scoped>\n",
       "    .dataframe tbody tr th:only-of-type {\n",
       "        vertical-align: middle;\n",
       "    }\n",
       "\n",
       "    .dataframe tbody tr th {\n",
       "        vertical-align: top;\n",
       "    }\n",
       "\n",
       "    .dataframe thead th {\n",
       "        text-align: right;\n",
       "    }\n",
       "</style>\n",
       "<table border=\"1\" class=\"dataframe\">\n",
       "  <thead>\n",
       "    <tr style=\"text-align: right;\">\n",
       "      <th></th>\n",
       "      <th>mpg</th>\n",
       "      <th>cylinders</th>\n",
       "      <th>displacement</th>\n",
       "      <th>horsepower</th>\n",
       "      <th>weight</th>\n",
       "      <th>acceleration</th>\n",
       "      <th>model_year</th>\n",
       "      <th>origin</th>\n",
       "    </tr>\n",
       "    <tr>\n",
       "      <th>name</th>\n",
       "      <th></th>\n",
       "      <th></th>\n",
       "      <th></th>\n",
       "      <th></th>\n",
       "      <th></th>\n",
       "      <th></th>\n",
       "      <th></th>\n",
       "      <th></th>\n",
       "    </tr>\n",
       "  </thead>\n",
       "  <tbody>\n",
       "    <tr>\n",
       "      <th>chevrolet chevette</th>\n",
       "      <td>30.5</td>\n",
       "      <td>4</td>\n",
       "      <td>98.0</td>\n",
       "      <td>63.0</td>\n",
       "      <td>2051</td>\n",
       "      <td>17.0</td>\n",
       "      <td>77</td>\n",
       "      <td>usa</td>\n",
       "    </tr>\n",
       "    <tr>\n",
       "      <th>chevrolet impala</th>\n",
       "      <td>13.0</td>\n",
       "      <td>8</td>\n",
       "      <td>350.0</td>\n",
       "      <td>165.0</td>\n",
       "      <td>4274</td>\n",
       "      <td>12.0</td>\n",
       "      <td>72</td>\n",
       "      <td>usa</td>\n",
       "    </tr>\n",
       "    <tr>\n",
       "      <th>datsun f-10 hatchback</th>\n",
       "      <td>33.5</td>\n",
       "      <td>4</td>\n",
       "      <td>85.0</td>\n",
       "      <td>70.0</td>\n",
       "      <td>1945</td>\n",
       "      <td>16.8</td>\n",
       "      <td>77</td>\n",
       "      <td>japan</td>\n",
       "    </tr>\n",
       "    <tr>\n",
       "      <th>mercury capri 2000</th>\n",
       "      <td>23.0</td>\n",
       "      <td>4</td>\n",
       "      <td>122.0</td>\n",
       "      <td>86.0</td>\n",
       "      <td>2220</td>\n",
       "      <td>14.0</td>\n",
       "      <td>71</td>\n",
       "      <td>usa</td>\n",
       "    </tr>\n",
       "    <tr>\n",
       "      <th>volkswagen rabbit</th>\n",
       "      <td>29.0</td>\n",
       "      <td>4</td>\n",
       "      <td>90.0</td>\n",
       "      <td>70.0</td>\n",
       "      <td>1937</td>\n",
       "      <td>14.0</td>\n",
       "      <td>75</td>\n",
       "      <td>europe</td>\n",
       "    </tr>\n",
       "    <tr>\n",
       "      <th>dodge colt hardtop</th>\n",
       "      <td>25.0</td>\n",
       "      <td>4</td>\n",
       "      <td>97.5</td>\n",
       "      <td>80.0</td>\n",
       "      <td>2126</td>\n",
       "      <td>17.0</td>\n",
       "      <td>72</td>\n",
       "      <td>usa</td>\n",
       "    </tr>\n",
       "    <tr>\n",
       "      <th>ford gran torino</th>\n",
       "      <td>14.0</td>\n",
       "      <td>8</td>\n",
       "      <td>302.0</td>\n",
       "      <td>137.0</td>\n",
       "      <td>4042</td>\n",
       "      <td>14.5</td>\n",
       "      <td>73</td>\n",
       "      <td>usa</td>\n",
       "    </tr>\n",
       "    <tr>\n",
       "      <th>chevrolet caprice classic</th>\n",
       "      <td>17.5</td>\n",
       "      <td>8</td>\n",
       "      <td>305.0</td>\n",
       "      <td>145.0</td>\n",
       "      <td>3880</td>\n",
       "      <td>12.5</td>\n",
       "      <td>77</td>\n",
       "      <td>usa</td>\n",
       "    </tr>\n",
       "    <tr>\n",
       "      <th>nissan stanza xe</th>\n",
       "      <td>36.0</td>\n",
       "      <td>4</td>\n",
       "      <td>120.0</td>\n",
       "      <td>88.0</td>\n",
       "      <td>2160</td>\n",
       "      <td>14.5</td>\n",
       "      <td>82</td>\n",
       "      <td>japan</td>\n",
       "    </tr>\n",
       "    <tr>\n",
       "      <th>chevrolet monte carlo s</th>\n",
       "      <td>15.0</td>\n",
       "      <td>8</td>\n",
       "      <td>350.0</td>\n",
       "      <td>145.0</td>\n",
       "      <td>4082</td>\n",
       "      <td>13.0</td>\n",
       "      <td>73</td>\n",
       "      <td>usa</td>\n",
       "    </tr>\n",
       "  </tbody>\n",
       "</table>\n",
       "</div>"
      ],
      "text/plain": [
       "                            mpg  cylinders  displacement  horsepower  weight  \\\n",
       "name                                                                           \n",
       "chevrolet chevette         30.5          4          98.0        63.0    2051   \n",
       "chevrolet impala           13.0          8         350.0       165.0    4274   \n",
       "datsun f-10 hatchback      33.5          4          85.0        70.0    1945   \n",
       "mercury capri 2000         23.0          4         122.0        86.0    2220   \n",
       "volkswagen rabbit          29.0          4          90.0        70.0    1937   \n",
       "dodge colt hardtop         25.0          4          97.5        80.0    2126   \n",
       "ford gran torino           14.0          8         302.0       137.0    4042   \n",
       "chevrolet caprice classic  17.5          8         305.0       145.0    3880   \n",
       "nissan stanza xe           36.0          4         120.0        88.0    2160   \n",
       "chevrolet monte carlo s    15.0          8         350.0       145.0    4082   \n",
       "\n",
       "                           acceleration  model_year  origin  \n",
       "name                                                         \n",
       "chevrolet chevette                 17.0          77     usa  \n",
       "chevrolet impala                   12.0          72     usa  \n",
       "datsun f-10 hatchback              16.8          77   japan  \n",
       "mercury capri 2000                 14.0          71     usa  \n",
       "volkswagen rabbit                  14.0          75  europe  \n",
       "dodge colt hardtop                 17.0          72     usa  \n",
       "ford gran torino                   14.5          73     usa  \n",
       "chevrolet caprice classic          12.5          77     usa  \n",
       "nissan stanza xe                   14.5          82   japan  \n",
       "chevrolet monte carlo s            13.0          73     usa  "
      ]
     },
     "execution_count": 2,
     "metadata": {},
     "output_type": "execute_result"
    }
   ],
   "source": [
    "import seaborn as sns\n",
    "\n",
    "df = sns.load_dataset(name='mpg', index_col='name')\n",
    "df.sample(10)"
   ]
  },
  {
   "cell_type": "markdown",
   "metadata": {},
   "source": [
    "# Seleccionar Todas las Variables para el Análisis de Clúster"
   ]
  },
  {
   "cell_type": "markdown",
   "metadata": {},
   "source": [
    "> Todas son explicativas, por lo que `model.fit(df)`"
   ]
  },
  {
   "cell_type": "code",
   "execution_count": null,
   "metadata": {},
   "outputs": [],
   "source": []
  },
  {
   "cell_type": "markdown",
   "metadata": {},
   "source": [
    "# Escalar los Datos"
   ]
  },
  {
   "cell_type": "markdown",
   "metadata": {},
   "source": [
    "> 1. Recuerda que no es lo mismo incrementar 1 kilogramo que un 1 metro de algura.\n",
    "> 2. La solución está en `StandardScaler()`."
   ]
  },
  {
   "cell_type": "code",
   "execution_count": null,
   "metadata": {},
   "outputs": [],
   "source": []
  },
  {
   "cell_type": "code",
   "execution_count": 4,
   "metadata": {},
   "outputs": [],
   "source": [
    "import pandas as pd"
   ]
  },
  {
   "cell_type": "code",
   "execution_count": 32,
   "metadata": {},
   "outputs": [],
   "source": [
    "df = pd.get_dummies(df)"
   ]
  },
  {
   "cell_type": "code",
   "execution_count": 33,
   "metadata": {},
   "outputs": [
    {
     "data": {
      "text/html": [
       "<div>\n",
       "<style scoped>\n",
       "    .dataframe tbody tr th:only-of-type {\n",
       "        vertical-align: middle;\n",
       "    }\n",
       "\n",
       "    .dataframe tbody tr th {\n",
       "        vertical-align: top;\n",
       "    }\n",
       "\n",
       "    .dataframe thead th {\n",
       "        text-align: right;\n",
       "    }\n",
       "</style>\n",
       "<table border=\"1\" class=\"dataframe\">\n",
       "  <thead>\n",
       "    <tr style=\"text-align: right;\">\n",
       "      <th></th>\n",
       "      <th>mpg</th>\n",
       "      <th>cylinders</th>\n",
       "      <th>displacement</th>\n",
       "      <th>horsepower</th>\n",
       "      <th>weight</th>\n",
       "      <th>acceleration</th>\n",
       "      <th>model_year</th>\n",
       "      <th>origin_europe</th>\n",
       "      <th>origin_japan</th>\n",
       "      <th>origin_usa</th>\n",
       "    </tr>\n",
       "    <tr>\n",
       "      <th>name</th>\n",
       "      <th></th>\n",
       "      <th></th>\n",
       "      <th></th>\n",
       "      <th></th>\n",
       "      <th></th>\n",
       "      <th></th>\n",
       "      <th></th>\n",
       "      <th></th>\n",
       "      <th></th>\n",
       "      <th></th>\n",
       "    </tr>\n",
       "  </thead>\n",
       "  <tbody>\n",
       "  </tbody>\n",
       "</table>\n",
       "</div>"
      ],
      "text/plain": [
       "Empty DataFrame\n",
       "Columns: [mpg, cylinders, displacement, horsepower, weight, acceleration, model_year, origin_europe, origin_japan, origin_usa]\n",
       "Index: []"
      ]
     },
     "execution_count": 33,
     "metadata": {},
     "output_type": "execute_result"
    }
   ],
   "source": [
    "df.loc[df.isna().sum(axis=1)>0,]"
   ]
  },
  {
   "cell_type": "code",
   "execution_count": 34,
   "metadata": {},
   "outputs": [],
   "source": [
    "df = df.dropna()"
   ]
  },
  {
   "cell_type": "code",
   "execution_count": 35,
   "metadata": {},
   "outputs": [
    {
     "data": {
      "text/html": [
       "<div>\n",
       "<style scoped>\n",
       "    .dataframe tbody tr th:only-of-type {\n",
       "        vertical-align: middle;\n",
       "    }\n",
       "\n",
       "    .dataframe tbody tr th {\n",
       "        vertical-align: top;\n",
       "    }\n",
       "\n",
       "    .dataframe thead th {\n",
       "        text-align: right;\n",
       "    }\n",
       "</style>\n",
       "<table border=\"1\" class=\"dataframe\">\n",
       "  <thead>\n",
       "    <tr style=\"text-align: right;\">\n",
       "      <th></th>\n",
       "      <th>mpg</th>\n",
       "      <th>cylinders</th>\n",
       "      <th>displacement</th>\n",
       "      <th>horsepower</th>\n",
       "      <th>weight</th>\n",
       "      <th>acceleration</th>\n",
       "      <th>model_year</th>\n",
       "      <th>origin_europe</th>\n",
       "      <th>origin_japan</th>\n",
       "      <th>origin_usa</th>\n",
       "    </tr>\n",
       "    <tr>\n",
       "      <th>name</th>\n",
       "      <th></th>\n",
       "      <th></th>\n",
       "      <th></th>\n",
       "      <th></th>\n",
       "      <th></th>\n",
       "      <th></th>\n",
       "      <th></th>\n",
       "      <th></th>\n",
       "      <th></th>\n",
       "      <th></th>\n",
       "    </tr>\n",
       "  </thead>\n",
       "  <tbody>\n",
       "  </tbody>\n",
       "</table>\n",
       "</div>"
      ],
      "text/plain": [
       "Empty DataFrame\n",
       "Columns: [mpg, cylinders, displacement, horsepower, weight, acceleration, model_year, origin_europe, origin_japan, origin_usa]\n",
       "Index: []"
      ]
     },
     "execution_count": 35,
     "metadata": {},
     "output_type": "execute_result"
    }
   ],
   "source": [
    "df.loc[df.isna().sum(axis=1)>0,]"
   ]
  },
  {
   "cell_type": "code",
   "execution_count": 36,
   "metadata": {},
   "outputs": [],
   "source": [
    "from sklearn.preprocessing import StandardScaler\n",
    "\n",
    "scaler = StandardScaler()"
   ]
  },
  {
   "cell_type": "code",
   "execution_count": 37,
   "metadata": {},
   "outputs": [
    {
     "data": {
      "text/html": [
       "<div>\n",
       "<style scoped>\n",
       "    .dataframe tbody tr th:only-of-type {\n",
       "        vertical-align: middle;\n",
       "    }\n",
       "\n",
       "    .dataframe tbody tr th {\n",
       "        vertical-align: top;\n",
       "    }\n",
       "\n",
       "    .dataframe thead th {\n",
       "        text-align: right;\n",
       "    }\n",
       "</style>\n",
       "<table border=\"1\" class=\"dataframe\">\n",
       "  <thead>\n",
       "    <tr style=\"text-align: right;\">\n",
       "      <th></th>\n",
       "      <th>mpg</th>\n",
       "      <th>cylinders</th>\n",
       "      <th>displacement</th>\n",
       "      <th>horsepower</th>\n",
       "      <th>weight</th>\n",
       "      <th>acceleration</th>\n",
       "      <th>model_year</th>\n",
       "      <th>origin_europe</th>\n",
       "      <th>origin_japan</th>\n",
       "      <th>origin_usa</th>\n",
       "    </tr>\n",
       "    <tr>\n",
       "      <th>name</th>\n",
       "      <th></th>\n",
       "      <th></th>\n",
       "      <th></th>\n",
       "      <th></th>\n",
       "      <th></th>\n",
       "      <th></th>\n",
       "      <th></th>\n",
       "      <th></th>\n",
       "      <th></th>\n",
       "      <th></th>\n",
       "    </tr>\n",
       "  </thead>\n",
       "  <tbody>\n",
       "    <tr>\n",
       "      <th>chevrolet chevelle malibu</th>\n",
       "      <td>-0.698638</td>\n",
       "      <td>1.483947</td>\n",
       "      <td>1.077290</td>\n",
       "      <td>0.664133</td>\n",
       "      <td>0.620540</td>\n",
       "      <td>-1.285258</td>\n",
       "      <td>-1.625315</td>\n",
       "      <td>-0.458123</td>\n",
       "      <td>-0.50239</td>\n",
       "      <td>0.774597</td>\n",
       "    </tr>\n",
       "    <tr>\n",
       "      <th>buick skylark 320</th>\n",
       "      <td>-1.083498</td>\n",
       "      <td>1.483947</td>\n",
       "      <td>1.488732</td>\n",
       "      <td>1.574594</td>\n",
       "      <td>0.843334</td>\n",
       "      <td>-1.466724</td>\n",
       "      <td>-1.625315</td>\n",
       "      <td>-0.458123</td>\n",
       "      <td>-0.50239</td>\n",
       "      <td>0.774597</td>\n",
       "    </tr>\n",
       "    <tr>\n",
       "      <th>plymouth satellite</th>\n",
       "      <td>-0.698638</td>\n",
       "      <td>1.483947</td>\n",
       "      <td>1.182542</td>\n",
       "      <td>1.184397</td>\n",
       "      <td>0.540382</td>\n",
       "      <td>-1.648189</td>\n",
       "      <td>-1.625315</td>\n",
       "      <td>-0.458123</td>\n",
       "      <td>-0.50239</td>\n",
       "      <td>0.774597</td>\n",
       "    </tr>\n",
       "    <tr>\n",
       "      <th>amc rebel sst</th>\n",
       "      <td>-0.955212</td>\n",
       "      <td>1.483947</td>\n",
       "      <td>1.048584</td>\n",
       "      <td>1.184397</td>\n",
       "      <td>0.536845</td>\n",
       "      <td>-1.285258</td>\n",
       "      <td>-1.625315</td>\n",
       "      <td>-0.458123</td>\n",
       "      <td>-0.50239</td>\n",
       "      <td>0.774597</td>\n",
       "    </tr>\n",
       "    <tr>\n",
       "      <th>ford torino</th>\n",
       "      <td>-0.826925</td>\n",
       "      <td>1.483947</td>\n",
       "      <td>1.029447</td>\n",
       "      <td>0.924265</td>\n",
       "      <td>0.555706</td>\n",
       "      <td>-1.829655</td>\n",
       "      <td>-1.625315</td>\n",
       "      <td>-0.458123</td>\n",
       "      <td>-0.50239</td>\n",
       "      <td>0.774597</td>\n",
       "    </tr>\n",
       "  </tbody>\n",
       "</table>\n",
       "</div>"
      ],
      "text/plain": [
       "                                mpg  cylinders  displacement  horsepower  \\\n",
       "name                                                                       \n",
       "chevrolet chevelle malibu -0.698638   1.483947      1.077290    0.664133   \n",
       "buick skylark 320         -1.083498   1.483947      1.488732    1.574594   \n",
       "plymouth satellite        -0.698638   1.483947      1.182542    1.184397   \n",
       "amc rebel sst             -0.955212   1.483947      1.048584    1.184397   \n",
       "ford torino               -0.826925   1.483947      1.029447    0.924265   \n",
       "\n",
       "                             weight  acceleration  model_year  origin_europe  \\\n",
       "name                                                                           \n",
       "chevrolet chevelle malibu  0.620540     -1.285258   -1.625315      -0.458123   \n",
       "buick skylark 320          0.843334     -1.466724   -1.625315      -0.458123   \n",
       "plymouth satellite         0.540382     -1.648189   -1.625315      -0.458123   \n",
       "amc rebel sst              0.536845     -1.285258   -1.625315      -0.458123   \n",
       "ford torino                0.555706     -1.829655   -1.625315      -0.458123   \n",
       "\n",
       "                           origin_japan  origin_usa  \n",
       "name                                                 \n",
       "chevrolet chevelle malibu      -0.50239    0.774597  \n",
       "buick skylark 320              -0.50239    0.774597  \n",
       "plymouth satellite             -0.50239    0.774597  \n",
       "amc rebel sst                  -0.50239    0.774597  \n",
       "ford torino                    -0.50239    0.774597  "
      ]
     },
     "execution_count": 37,
     "metadata": {},
     "output_type": "execute_result"
    }
   ],
   "source": [
    "dfnorm = pd.DataFrame(scaler.fit_transform(df), columns=df.columns, index=df.index)\n",
    "dfnorm.head()"
   ]
  },
  {
   "cell_type": "markdown",
   "metadata": {},
   "source": [
    "# Entrenar Modelo `KMeans()`"
   ]
  },
  {
   "cell_type": "markdown",
   "metadata": {},
   "source": [
    "## Seleccionar Número Óptimo k de Clústers"
   ]
  },
  {
   "cell_type": "markdown",
   "metadata": {},
   "source": [
    "> - Aplicar el método del codo.\n",
    "> - Recuerda que este método es muy `subjetivo`.\n",
    "> - Pueden haber más de 2-3 números posibles."
   ]
  },
  {
   "cell_type": "code",
   "execution_count": 38,
   "metadata": {},
   "outputs": [],
   "source": [
    "from sklearn.cluster import KMeans"
   ]
  },
  {
   "cell_type": "code",
   "execution_count": 39,
   "metadata": {},
   "outputs": [],
   "source": [
    "model = KMeans(n_clusters=1)"
   ]
  },
  {
   "cell_type": "code",
   "execution_count": 40,
   "metadata": {},
   "outputs": [
    {
     "data": {
      "text/plain": [
       "KMeans(n_clusters=1)"
      ]
     },
     "execution_count": 40,
     "metadata": {},
     "output_type": "execute_result"
    }
   ],
   "source": [
    "model.fit(dfnorm)"
   ]
  },
  {
   "cell_type": "code",
   "execution_count": 41,
   "metadata": {},
   "outputs": [
    {
     "data": {
      "text/plain": [
       "3919.999999999999"
      ]
     },
     "execution_count": 41,
     "metadata": {},
     "output_type": "execute_result"
    }
   ],
   "source": [
    "model.inertia_"
   ]
  },
  {
   "cell_type": "code",
   "execution_count": null,
   "metadata": {},
   "outputs": [],
   "source": []
  },
  {
   "cell_type": "code",
   "execution_count": 47,
   "metadata": {},
   "outputs": [],
   "source": [
    "def calcular_error(n):\n",
    "    model = KMeans(n_clusters=n)\n",
    "\n",
    "    model.fit(dfnorm)\n",
    "\n",
    "    error = model.inertia_\n",
    "\n",
    "    return error"
   ]
  },
  {
   "cell_type": "code",
   "execution_count": 53,
   "metadata": {},
   "outputs": [],
   "source": [
    "pepa = 1"
   ]
  },
  {
   "cell_type": "code",
   "execution_count": 54,
   "metadata": {},
   "outputs": [],
   "source": [
    "e = calcular_error(pepa)"
   ]
  },
  {
   "cell_type": "code",
   "execution_count": 55,
   "metadata": {},
   "outputs": [
    {
     "data": {
      "text/plain": [
       "3919.999999999999"
      ]
     },
     "execution_count": 55,
     "metadata": {},
     "output_type": "execute_result"
    }
   ],
   "source": [
    "e"
   ]
  },
  {
   "cell_type": "code",
   "execution_count": 60,
   "metadata": {},
   "outputs": [],
   "source": [
    "todos_errores = []"
   ]
  },
  {
   "cell_type": "code",
   "execution_count": 62,
   "metadata": {},
   "outputs": [],
   "source": [
    "for pepa in [1,2,3,4,5,6,7,8,9,10]:\n",
    "\n",
    "    e = calcular_error(pepa)\n",
    "\n",
    "    e\n",
    "    todos_errores.append(e)"
   ]
  },
  {
   "cell_type": "code",
   "execution_count": 64,
   "metadata": {},
   "outputs": [],
   "source": [
    "intentos_cluster = [1,2,3,4,5,6,7,8,9,10]"
   ]
  },
  {
   "cell_type": "code",
   "execution_count": 65,
   "metadata": {},
   "outputs": [
    {
     "data": {
      "text/plain": [
       "[3919.999999999999,\n",
       " 2186.9631261396516,\n",
       " 1630.983105669787,\n",
       " 1131.3292866255406,\n",
       " 932.1714858974422,\n",
       " 850.6452682837702,\n",
       " 775.401689725416,\n",
       " 706.7660348217246,\n",
       " 642.771275242191,\n",
       " 598.8456672831676]"
      ]
     },
     "execution_count": 65,
     "metadata": {},
     "output_type": "execute_result"
    }
   ],
   "source": [
    "todos_errores"
   ]
  },
  {
   "cell_type": "code",
   "execution_count": 67,
   "metadata": {},
   "outputs": [
    {
     "data": {
      "text/plain": [
       "<AxesSubplot:>"
      ]
     },
     "execution_count": 67,
     "metadata": {},
     "output_type": "execute_result"
    },
    {
     "data": {
      "image/png": "[encoded data removed]",
      "text/plain": [
       "<Figure size 432x288 with 1 Axes>"
      ]
     },
     "metadata": {
      "needs_background": "light"
     },
     "output_type": "display_data"
    }
   ],
   "source": [
    "sns.scatterplot(x=intentos_cluster, y=todos_errores)\n",
    "sns.lineplot(x=intentos_cluster, y=todos_errores)"
   ]
  },
  {
   "cell_type": "markdown",
   "metadata": {},
   "source": [
    "## Entrenar Modelo con Número k de Clústers Óptimo"
   ]
  },
  {
   "cell_type": "markdown",
   "metadata": {},
   "source": [
    "> `model.fit()`"
   ]
  },
  {
   "cell_type": "code",
   "execution_count": 68,
   "metadata": {},
   "outputs": [],
   "source": [
    "model = KMeans(n_clusters=4)"
   ]
  },
  {
   "cell_type": "code",
   "execution_count": 69,
   "metadata": {},
   "outputs": [
    {
     "data": {
      "text/plain": [
       "KMeans(n_clusters=4)"
      ]
     },
     "execution_count": 69,
     "metadata": {},
     "output_type": "execute_result"
    }
   ],
   "source": [
    "model.fit(X=dfnorm)"
   ]
  },
  {
   "cell_type": "markdown",
   "metadata": {},
   "source": [
    "# Realizar Predicciones"
   ]
  },
  {
   "cell_type": "markdown",
   "metadata": {},
   "source": [
    "> - Son las mismas que `model.labels_`?"
   ]
  },
  {
   "cell_type": "code",
   "execution_count": 71,
   "metadata": {},
   "outputs": [],
   "source": [
    "model_pred = model.predict(dfnorm)"
   ]
  },
  {
   "cell_type": "code",
   "execution_count": 75,
   "metadata": {},
   "outputs": [
    {
     "data": {
      "text/plain": [
       "array([3, 3, 3, 3, 3, 3, 3, 3, 3, 3, 3, 3, 3, 3, 0, 1, 1, 1, 0, 2, 2, 2,\n",
       "       2, 2, 1, 3, 3, 3, 3, 0, 1, 0, 1, 1, 1, 1, 1, 3, 3, 3, 3, 3, 3, 3,\n",
       "       1, 1, 1, 1, 1, 2, 2, 2, 0, 0, 2, 1, 0, 1, 2, 1, 1, 3, 3, 3, 3, 3,\n",
       "       3, 3, 3, 3, 0, 3, 3, 3, 3, 2, 2, 2, 2, 1, 0, 0, 1, 0, 3, 3, 3, 3,\n",
       "       3, 3, 3, 3, 3, 3, 3, 3, 1, 1, 1, 1, 1, 2, 3, 3, 3, 3, 1, 0, 1, 0,\n",
       "       0, 1, 1, 2, 3, 3, 2, 2, 2, 2, 3, 2, 0, 3, 1, 1, 1, 0, 1, 0, 1, 1,\n",
       "       1, 1, 3, 3, 3, 3, 3, 2, 2, 2, 0, 0, 1, 2, 2, 0, 0, 2, 1, 1, 1, 1,\n",
       "       3, 3, 3, 3, 1, 1, 1, 1, 1, 3, 3, 0, 1, 1, 1, 0, 2, 0, 1, 2, 1, 2,\n",
       "       2, 2, 2, 0, 2, 2, 1, 1, 2, 3, 3, 3, 3, 1, 1, 1, 1, 1, 1, 2, 0, 1,\n",
       "       1, 1, 1, 2, 0, 0, 1, 2, 3, 2, 0, 2, 3, 3, 3, 3, 0, 1, 2, 1, 0, 3,\n",
       "       1, 3, 3, 1, 1, 1, 1, 3, 3, 3, 3, 2, 1, 0, 1, 1, 1, 0, 2, 0, 2, 0,\n",
       "       2, 1, 0, 0, 0, 1, 3, 3, 1, 1, 1, 1, 1, 1, 1, 1, 1, 1, 3, 3, 3, 3,\n",
       "       1, 0, 0, 1, 0, 1, 1, 0, 2, 2, 2, 2, 2, 0, 1, 1, 1, 1, 1, 3, 3, 3,\n",
       "       3, 3, 3, 3, 3, 2, 0, 1, 1, 2, 3, 2, 1, 1, 1, 0, 2, 1, 1, 1, 1, 2,\n",
       "       0, 1, 0, 1, 1, 1, 1, 2, 0, 0, 0, 0, 0, 1, 0, 2, 2, 2, 2, 0, 0, 2,\n",
       "       0, 0, 2, 0, 1, 1, 1, 1, 1, 0, 1, 0, 0, 0, 0, 0, 1, 1, 1, 2, 0, 0,\n",
       "       0, 0, 2, 2, 0, 0, 1, 1, 1, 1, 1, 1, 1, 1, 1, 1, 1, 2, 0, 0, 1, 1,\n",
       "       0, 0, 0, 0, 0, 0, 1, 1, 1, 1, 0, 1, 1, 1, 2, 1, 1, 1], dtype=int32)"
      ]
     },
     "execution_count": 75,
     "metadata": {},
     "output_type": "execute_result"
    }
   ],
   "source": [
    "model_pred"
   ]
  },
  {
   "cell_type": "code",
   "execution_count": 76,
   "metadata": {},
   "outputs": [
    {
     "data": {
      "text/plain": [
       "array([ True,  True,  True,  True,  True,  True,  True,  True,  True,\n",
       "        True,  True,  True,  True,  True,  True,  True,  True,  True,\n",
       "        True,  True,  True,  True,  True,  True,  True,  True,  True,\n",
       "        True,  True,  True,  True,  True,  True,  True,  True,  True,\n",
       "        True,  True,  True,  True,  True,  True,  True,  True,  True,\n",
       "        True,  True,  True,  True,  True,  True,  True,  True,  True,\n",
       "        True,  True,  True,  True,  True,  True,  True,  True,  True,\n",
       "        True,  True,  True,  True,  True,  True,  True,  True,  True,\n",
       "        True,  True,  True,  True,  True,  True,  True,  True,  True,\n",
       "        True,  True,  True,  True,  True,  True,  True,  True,  True,\n",
       "        True,  True,  True,  True,  True,  True,  True,  True,  True,\n",
       "        True,  True,  True,  True,  True,  True,  True,  True,  True,\n",
       "        True,  True,  True,  True,  True,  True,  True,  True,  True,\n",
       "        True,  True,  True,  True,  True,  True,  True,  True,  True,\n",
       "        True,  True,  True,  True,  True,  True,  True,  True,  True,\n",
       "        True,  True,  True,  True,  True,  True,  True,  True,  True,\n",
       "        True,  True,  True,  True,  True,  True,  True,  True,  True,\n",
       "        True,  True,  True,  True,  True,  True,  True,  True,  True,\n",
       "        True,  True,  True,  True,  True,  True,  True,  True,  True,\n",
       "        True,  True,  True,  True,  True,  True,  True,  True,  True,\n",
       "        True,  True,  True,  True,  True,  True,  True,  True,  True,\n",
       "        True,  True,  True,  True,  True,  True,  True,  True,  True,\n",
       "        True,  True,  True,  True,  True,  True,  True,  True,  True,\n",
       "        True,  True,  True,  True,  True,  True,  True,  True,  True,\n",
       "        True,  True,  True,  True,  True,  True,  True,  True,  True,\n",
       "        True,  True,  True,  True,  True,  True,  True,  True,  True,\n",
       "        True,  True,  True,  True,  True,  True,  True,  True,  True,\n",
       "        True,  True,  True,  True,  True,  True,  True,  True,  True,\n",
       "        True,  True,  True,  True,  True,  True,  True,  True,  True,\n",
       "        True,  True,  True,  True,  True,  True,  True,  True,  True,\n",
       "        True,  True,  True,  True,  True,  True,  True,  True,  True,\n",
       "        True,  True,  True,  True,  True,  True,  True,  True,  True,\n",
       "        True,  True,  True,  True,  True,  True,  True,  True,  True,\n",
       "        True,  True,  True,  True,  True,  True,  True,  True,  True,\n",
       "        True,  True,  True,  True,  True,  True,  True,  True,  True,\n",
       "        True,  True,  True,  True,  True,  True,  True,  True,  True,\n",
       "        True,  True,  True,  True,  True,  True,  True,  True,  True,\n",
       "        True,  True,  True,  True,  True,  True,  True,  True,  True,\n",
       "        True,  True,  True,  True,  True,  True,  True,  True,  True,\n",
       "        True,  True,  True,  True,  True,  True,  True,  True,  True,\n",
       "        True,  True,  True,  True,  True,  True,  True,  True,  True,\n",
       "        True,  True,  True,  True,  True,  True,  True,  True,  True,\n",
       "        True,  True,  True,  True,  True,  True,  True,  True,  True,\n",
       "        True,  True,  True,  True,  True])"
      ]
     },
     "execution_count": 76,
     "metadata": {},
     "output_type": "execute_result"
    }
   ],
   "source": [
    "model.labels_ == model_pred"
   ]
  },
  {
   "cell_type": "markdown",
   "metadata": {},
   "source": [
    "# Visualizar Modelo"
   ]
  },
  {
   "cell_type": "markdown",
   "metadata": {},
   "source": [
    "> - Haz un `scatterplot` con 2 variables.\n",
    "> - Colorea los puntos según el grupo.\n",
    "> Por qué están mezclados los grupos?\n",
    "> Cómo lo solucionamos?\n",
    "> - PCA. Siguiente apartado."
   ]
  },
  {
   "cell_type": "code",
   "execution_count": 77,
   "metadata": {},
   "outputs": [
    {
     "data": {
      "text/html": [
       "<div>\n",
       "<style scoped>\n",
       "    .dataframe tbody tr th:only-of-type {\n",
       "        vertical-align: middle;\n",
       "    }\n",
       "\n",
       "    .dataframe tbody tr th {\n",
       "        vertical-align: top;\n",
       "    }\n",
       "\n",
       "    .dataframe thead th {\n",
       "        text-align: right;\n",
       "    }\n",
       "</style>\n",
       "<table border=\"1\" class=\"dataframe\">\n",
       "  <thead>\n",
       "    <tr style=\"text-align: right;\">\n",
       "      <th></th>\n",
       "      <th>mpg</th>\n",
       "      <th>cylinders</th>\n",
       "      <th>displacement</th>\n",
       "      <th>horsepower</th>\n",
       "      <th>weight</th>\n",
       "      <th>acceleration</th>\n",
       "      <th>model_year</th>\n",
       "      <th>origin_europe</th>\n",
       "      <th>origin_japan</th>\n",
       "      <th>origin_usa</th>\n",
       "    </tr>\n",
       "    <tr>\n",
       "      <th>name</th>\n",
       "      <th></th>\n",
       "      <th></th>\n",
       "      <th></th>\n",
       "      <th></th>\n",
       "      <th></th>\n",
       "      <th></th>\n",
       "      <th></th>\n",
       "      <th></th>\n",
       "      <th></th>\n",
       "      <th></th>\n",
       "    </tr>\n",
       "  </thead>\n",
       "  <tbody>\n",
       "    <tr>\n",
       "      <th>chevrolet chevelle malibu</th>\n",
       "      <td>-0.698638</td>\n",
       "      <td>1.483947</td>\n",
       "      <td>1.077290</td>\n",
       "      <td>0.664133</td>\n",
       "      <td>0.620540</td>\n",
       "      <td>-1.285258</td>\n",
       "      <td>-1.625315</td>\n",
       "      <td>-0.458123</td>\n",
       "      <td>-0.50239</td>\n",
       "      <td>0.774597</td>\n",
       "    </tr>\n",
       "    <tr>\n",
       "      <th>buick skylark 320</th>\n",
       "      <td>-1.083498</td>\n",
       "      <td>1.483947</td>\n",
       "      <td>1.488732</td>\n",
       "      <td>1.574594</td>\n",
       "      <td>0.843334</td>\n",
       "      <td>-1.466724</td>\n",
       "      <td>-1.625315</td>\n",
       "      <td>-0.458123</td>\n",
       "      <td>-0.50239</td>\n",
       "      <td>0.774597</td>\n",
       "    </tr>\n",
       "    <tr>\n",
       "      <th>plymouth satellite</th>\n",
       "      <td>-0.698638</td>\n",
       "      <td>1.483947</td>\n",
       "      <td>1.182542</td>\n",
       "      <td>1.184397</td>\n",
       "      <td>0.540382</td>\n",
       "      <td>-1.648189</td>\n",
       "      <td>-1.625315</td>\n",
       "      <td>-0.458123</td>\n",
       "      <td>-0.50239</td>\n",
       "      <td>0.774597</td>\n",
       "    </tr>\n",
       "    <tr>\n",
       "      <th>amc rebel sst</th>\n",
       "      <td>-0.955212</td>\n",
       "      <td>1.483947</td>\n",
       "      <td>1.048584</td>\n",
       "      <td>1.184397</td>\n",
       "      <td>0.536845</td>\n",
       "      <td>-1.285258</td>\n",
       "      <td>-1.625315</td>\n",
       "      <td>-0.458123</td>\n",
       "      <td>-0.50239</td>\n",
       "      <td>0.774597</td>\n",
       "    </tr>\n",
       "    <tr>\n",
       "      <th>ford torino</th>\n",
       "      <td>-0.826925</td>\n",
       "      <td>1.483947</td>\n",
       "      <td>1.029447</td>\n",
       "      <td>0.924265</td>\n",
       "      <td>0.555706</td>\n",
       "      <td>-1.829655</td>\n",
       "      <td>-1.625315</td>\n",
       "      <td>-0.458123</td>\n",
       "      <td>-0.50239</td>\n",
       "      <td>0.774597</td>\n",
       "    </tr>\n",
       "  </tbody>\n",
       "</table>\n",
       "</div>"
      ],
      "text/plain": [
       "                                mpg  cylinders  displacement  horsepower  \\\n",
       "name                                                                       \n",
       "chevrolet chevelle malibu -0.698638   1.483947      1.077290    0.664133   \n",
       "buick skylark 320         -1.083498   1.483947      1.488732    1.574594   \n",
       "plymouth satellite        -0.698638   1.483947      1.182542    1.184397   \n",
       "amc rebel sst             -0.955212   1.483947      1.048584    1.184397   \n",
       "ford torino               -0.826925   1.483947      1.029447    0.924265   \n",
       "\n",
       "                             weight  acceleration  model_year  origin_europe  \\\n",
       "name                                                                           \n",
       "chevrolet chevelle malibu  0.620540     -1.285258   -1.625315      -0.458123   \n",
       "buick skylark 320          0.843334     -1.466724   -1.625315      -0.458123   \n",
       "plymouth satellite         0.540382     -1.648189   -1.625315      -0.458123   \n",
       "amc rebel sst              0.536845     -1.285258   -1.625315      -0.458123   \n",
       "ford torino                0.555706     -1.829655   -1.625315      -0.458123   \n",
       "\n",
       "                           origin_japan  origin_usa  \n",
       "name                                                 \n",
       "chevrolet chevelle malibu      -0.50239    0.774597  \n",
       "buick skylark 320              -0.50239    0.774597  \n",
       "plymouth satellite             -0.50239    0.774597  \n",
       "amc rebel sst                  -0.50239    0.774597  \n",
       "ford torino                    -0.50239    0.774597  "
      ]
     },
     "execution_count": 77,
     "metadata": {},
     "output_type": "execute_result"
    }
   ],
   "source": [
    "dfnorm.head()"
   ]
  },
  {
   "cell_type": "code",
   "execution_count": 78,
   "metadata": {},
   "outputs": [
    {
     "data": {
      "text/plain": [
       "<AxesSubplot:xlabel='mpg', ylabel='horsepower'>"
      ]
     },
     "execution_count": 78,
     "metadata": {},
     "output_type": "execute_result"
    },
    {
     "data": {
      "image/png": "[encoded data removed]",
      "text/plain": [
       "<Figure size 432x288 with 1 Axes>"
      ]
     },
     "metadata": {
      "needs_background": "light"
     },
     "output_type": "display_data"
    }
   ],
   "source": [
    "sns.scatterplot(x='mpg', y='horsepower', data=df)"
   ]
  },
  {
   "cell_type": "code",
   "execution_count": 80,
   "metadata": {},
   "outputs": [
    {
     "data": {
      "text/plain": [
       "<AxesSubplot:xlabel='mpg', ylabel='horsepower'>"
      ]
     },
     "execution_count": 80,
     "metadata": {},
     "output_type": "execute_result"
    },
    {
     "data": {
      "image/png": "[encoded data removed]",
      "text/plain": [
       "<Figure size 432x288 with 1 Axes>"
      ]
     },
     "metadata": {
      "needs_background": "light"
     },
     "output_type": "display_data"
    }
   ],
   "source": [
    "sns.scatterplot(x='mpg', y='horsepower', data=df, hue=model_pred, palette='Set1')"
   ]
  },
  {
   "cell_type": "code",
   "execution_count": 83,
   "metadata": {},
   "outputs": [],
   "source": [
    "import plotly.express as px"
   ]
  },
  {
   "cell_type": "code",
   "execution_count": 90,
   "metadata": {},
   "outputs": [
    {
     "data": {
      "application/vnd.plotly.v1+json": {
       "config": {
        "plotlyServerURL": "https://plotly.com"
       },
       "data": [
        {
         "hovertemplate": "color=3<br>mpg=%{x}<br>horsepower=%{y}<br>weight=%{z}<extra></extra>",
         "legendgroup": "3",
         "marker": {
          "color": "#636efa",
          "symbol": "circle"
         },
         "mode": "markers",
         "name": "3",
         "scene": "scene",
         "showlegend": true,
         "type": "scatter3d",
         "x": [
          18,
          15,
          18,
          16,
          17,
          15,
          14,
          14,
          14,
          15,
          15,
          14,
          15,
          14,
          10,
          10,
          11,
          9,
          14,
          14,
          14,
          14,
          12,
          13,
          13,
          13,
          14,
          15,
          14,
          17,
          11,
          13,
          12,
          13,
          15,
          13,
          13,
          14,
          13,
          14,
          13,
          14,
          15,
          12,
          13,
          13,
          14,
          13,
          12,
          13,
          11,
          12,
          13,
          12,
          15,
          16,
          15,
          11,
          16,
          13,
          14,
          14,
          14,
          16,
          15,
          16,
          14,
          20,
          13,
          17.5,
          16,
          15.5,
          14.5,
          13,
          16.5,
          13,
          13,
          13,
          17.5,
          15.5,
          15,
          16,
          15.5,
          15.5,
          16,
          19.4,
          20.2,
          19.2,
          17.7,
          18.1,
          17.5,
          17,
          17.6,
          16.5,
          18.2,
          16.9,
          15.5,
          19.2,
          18.5,
          23
         ],
         "y": [
          130,
          165,
          150,
          150,
          140,
          198,
          220,
          215,
          225,
          190,
          170,
          160,
          150,
          225,
          215,
          200,
          210,
          193,
          165,
          175,
          153,
          150,
          180,
          170,
          175,
          165,
          175,
          150,
          153,
          150,
          208,
          155,
          160,
          190,
          150,
          130,
          140,
          150,
          175,
          150,
          145,
          137,
          150,
          198,
          150,
          158,
          150,
          215,
          225,
          175,
          150,
          167,
          170,
          180,
          145,
          230,
          150,
          180,
          140,
          150,
          150,
          140,
          150,
          170,
          145,
          150,
          148,
          110,
          129,
          140,
          150,
          120,
          152,
          150,
          180,
          145,
          130,
          150,
          145,
          145,
          130,
          180,
          170,
          190,
          149,
          140,
          139,
          145,
          165,
          139,
          140,
          130,
          129,
          138,
          135,
          155,
          142,
          125,
          150,
          125
         ],
         "z": [
          3504,
          3693,
          3436,
          3433,
          3449,
          4341,
          4354,
          4312,
          4425,
          3850,
          3563,
          3609,
          3761,
          3086,
          4615,
          4376,
          4382,
          4732,
          4209,
          4464,
          4154,
          4096,
          4955,
          4746,
          5140,
          4274,
          4385,
          4135,
          4129,
          3672,
          4633,
          4502,
          4456,
          4422,
          3892,
          4098,
          4294,
          4077,
          4100,
          3672,
          3988,
          4042,
          3777,
          4952,
          4464,
          4363,
          4237,
          4735,
          4951,
          3821,
          4997,
          4906,
          4654,
          4499,
          4082,
          4278,
          3399,
          3664,
          4141,
          4699,
          4457,
          4638,
          4257,
          4668,
          4440,
          4498,
          4657,
          3221,
          3169,
          4215,
          4190,
          3962,
          4215,
          3940,
          4380,
          4055,
          3870,
          3755,
          3880,
          4140,
          4295,
          4220,
          4165,
          4325,
          4335,
          3735,
          3570,
          3425,
          3445,
          3205,
          4080,
          3840,
          3725,
          3955,
          3830,
          4360,
          4054,
          3605,
          3940,
          3900
         ]
        },
        {
         "hovertemplate": "color=0<br>mpg=%{x}<br>horsepower=%{y}<br>weight=%{z}<extra></extra>",
         "legendgroup": "0",
         "marker": {
          "color": "#EF553B",
          "symbol": "circle"
         },
         "mode": "markers",
         "name": "0",
         "scene": "scene",
         "showlegend": true,
         "type": "scatter3d",
         "x": [
          24,
          27,
          27,
          25,
          31,
          35,
          24,
          19,
          28,
          23,
          27,
          20,
          22,
          18,
          20,
          31,
          32,
          31,
          32,
          24,
          26,
          29,
          24,
          24,
          33,
          33,
          32,
          28,
          19,
          31.5,
          33.5,
          26,
          30,
          22,
          21.5,
          32.8,
          39.4,
          36.1,
          27.5,
          27.2,
          21.1,
          23.9,
          29.5,
          34.1,
          31.8,
          38.1,
          37.2,
          29.8,
          31.3,
          37,
          32.2,
          46.6,
          40.8,
          44.6,
          33.8,
          32.7,
          23.7,
          32.4,
          39.1,
          35.1,
          32.3,
          37,
          37.7,
          34.1,
          33.7,
          32.4,
          32.9,
          31.6,
          25.4,
          24.2,
          37,
          31,
          36,
          36,
          34,
          38,
          32,
          38,
          32
         ],
         "y": [
          95,
          88,
          88,
          95,
          65,
          69,
          95,
          97,
          92,
          97,
          88,
          88,
          94,
          90,
          122,
          67,
          65,
          52,
          61,
          97,
          93,
          75,
          96,
          97,
          53,
          53,
          70,
          75,
          108,
          68,
          70,
          75,
          67,
          97,
          110,
          52,
          70,
          60,
          95,
          97,
          95,
          97,
          68,
          65,
          65,
          60,
          65,
          90,
          75,
          92,
          75,
          65,
          65,
          67,
          67,
          132,
          100,
          72,
          58,
          60,
          67,
          65,
          62,
          68,
          75,
          75,
          100,
          74,
          116,
          120,
          68,
          68,
          88,
          75,
          70,
          67,
          67,
          67,
          96
         ],
         "z": [
          2372,
          2130,
          2130,
          2228,
          1773,
          1613,
          2278,
          2330,
          2288,
          2506,
          2100,
          2279,
          2379,
          2124,
          2807,
          1950,
          1836,
          1649,
          2003,
          2489,
          2391,
          2171,
          2702,
          2545,
          1795,
          1795,
          1990,
          2155,
          2930,
          2045,
          1945,
          2265,
          1985,
          2815,
          2720,
          1985,
          2070,
          1800,
          2560,
          2300,
          2515,
          2405,
          2135,
          1975,
          2020,
          1968,
          2019,
          2711,
          2542,
          2434,
          2265,
          2110,
          2110,
          1850,
          2145,
          2910,
          2420,
          2290,
          1755,
          1760,
          2065,
          1975,
          2050,
          1985,
          2210,
          2350,
          2615,
          2635,
          2900,
          2930,
          2025,
          1970,
          2160,
          2205,
          2245,
          1965,
          1965,
          1995,
          2665
         ]
        },
        {
         "hovertemplate": "color=1<br>mpg=%{x}<br>horsepower=%{y}<br>weight=%{z}<extra></extra>",
         "legendgroup": "1",
         "marker": {
          "color": "#00cc96",
          "symbol": "circle"
         },
         "mode": "markers",
         "name": "1",
         "scene": "scene",
         "showlegend": true,
         "type": "scatter3d",
         "x": [
          22,
          18,
          21,
          21,
          28,
          19,
          16,
          17,
          19,
          18,
          18,
          22,
          19,
          18,
          23,
          26,
          25,
          20,
          21,
          22,
          28,
          18,
          16,
          18,
          18,
          23,
          18,
          21,
          19,
          21,
          20,
          19,
          15,
          26,
          25,
          16,
          16,
          18,
          28,
          19,
          18,
          15,
          15,
          17,
          16,
          15,
          18,
          21,
          23,
          20,
          23,
          18,
          19,
          25,
          26,
          22,
          22,
          24,
          22.5,
          29,
          24.5,
          20,
          18,
          18.5,
          17.5,
          26.5,
          30,
          25.5,
          17,
          17.5,
          20.5,
          19,
          18.5,
          24.5,
          25.5,
          30.5,
          33.5,
          36.1,
          19.9,
          19.2,
          20.5,
          20.2,
          25.1,
          20.5,
          19.4,
          20.6,
          20.8,
          18.6,
          18.1,
          30,
          30.9,
          23.2,
          23.8,
          21.5,
          19.8,
          22.3,
          20.2,
          20.6,
          35.7,
          27.4,
          23.9,
          34.2,
          34.5,
          28.4,
          28.8,
          26.8,
          33.5,
          32.1,
          28,
          26.4,
          24.3,
          19.1,
          27.9,
          27.2,
          26.6,
          25.8,
          23.5,
          30,
          39,
          34.7,
          34.4,
          29.9,
          22.4,
          26.6,
          20.2,
          17.6,
          28,
          27,
          34,
          31,
          29,
          27,
          24,
          38,
          36,
          25,
          38,
          26,
          22,
          36,
          27,
          27,
          32,
          28,
          31
         ],
         "y": [
          95,
          97,
          85,
          90,
          90,
          100,
          105,
          100,
          88,
          100,
          110,
          72,
          100,
          88,
          86,
          70,
          80,
          90,
          86,
          86,
          80,
          105,
          100,
          100,
          88,
          95,
          100,
          72,
          85,
          107,
          95,
          100,
          100,
          80,
          75,
          100,
          110,
          105,
          75,
          95,
          105,
          72,
          72,
          110,
          105,
          110,
          95,
          110,
          83,
          100,
          78,
          97,
          90,
          92,
          79,
          100,
          105,
          81,
          90,
          52,
          60,
          100,
          78,
          110,
          95,
          72,
          80,
          96,
          110,
          110,
          105,
          100,
          98,
          88,
          89,
          63,
          83,
          66,
          110,
          105,
          95,
          85,
          88,
          100,
          90,
          105,
          85,
          110,
          120,
          68,
          75,
          105,
          85,
          115,
          85,
          88,
          90,
          110,
          80,
          80,
          90,
          70,
          70,
          90,
          115,
          115,
          90,
          70,
          90,
          88,
          90,
          90,
          105,
          84,
          84,
          92,
          110,
          84,
          64,
          63,
          65,
          65,
          110,
          105,
          88,
          85,
          88,
          88,
          88,
          85,
          84,
          90,
          92,
          63,
          70,
          110,
          85,
          92,
          112,
          84,
          90,
          86,
          84,
          79,
          82
         ],
         "z": [
          2833,
          2774,
          2587,
          2648,
          2264,
          2634,
          3439,
          3329,
          3302,
          3288,
          2962,
          2408,
          3282,
          3139,
          2220,
          1955,
          2126,
          2408,
          2226,
          2395,
          2164,
          3121,
          3278,
          2945,
          3021,
          2904,
          2789,
          2401,
          2310,
          2472,
          3102,
          2901,
          3336,
          2451,
          2542,
          3781,
          3632,
          3613,
          2125,
          3264,
          3459,
          3432,
          3158,
          3907,
          3897,
          3730,
          3785,
          3039,
          2639,
          2914,
          2592,
          2984,
          3211,
          2572,
          2255,
          3233,
          3353,
          3012,
          3085,
          2035,
          2164,
          3651,
          3574,
          3645,
          3193,
          2565,
          2155,
          2300,
          4060,
          3520,
          3425,
          3630,
          3525,
          2740,
          2755,
          2051,
          2075,
          1800,
          3365,
          3535,
          3155,
          2965,
          2720,
          3430,
          3210,
          3380,
          3070,
          3620,
          3410,
          2155,
          2230,
          2745,
          2855,
          3245,
          2990,
          2890,
          3265,
          3360,
          1915,
          2670,
          3420,
          2200,
          2150,
          2670,
          2595,
          2700,
          2556,
          2120,
          2678,
          2870,
          3003,
          3381,
          2800,
          2490,
          2635,
          2620,
          2725,
          2385,
          1875,
          2215,
          2045,
          2380,
          3415,
          3725,
          3060,
          3465,
          2605,
          2640,
          2395,
          2575,
          2525,
          2735,
          2865,
          2125,
          2125,
          2945,
          3015,
          2585,
          2835,
          2370,
          2950,
          2790,
          2295,
          2625,
          2720
         ]
        },
        {
         "hovertemplate": "color=2<br>mpg=%{x}<br>horsepower=%{y}<br>weight=%{z}<extra></extra>",
         "legendgroup": "2",
         "marker": {
          "color": "#ab63fa",
          "symbol": "circle"
         },
         "mode": "markers",
         "name": "2",
         "scene": "scene",
         "showlegend": true,
         "type": "scatter3d",
         "x": [
          26,
          25,
          24,
          25,
          26,
          28,
          30,
          30,
          27,
          23,
          18,
          22,
          21,
          26,
          26,
          26,
          29,
          24,
          20,
          19,
          24,
          29,
          26,
          26,
          24,
          26,
          31,
          25,
          29,
          23,
          23,
          22,
          25,
          28,
          25,
          27,
          29,
          29.5,
          20,
          19,
          16.5,
          36,
          29,
          30.5,
          21.5,
          43.1,
          20.3,
          17,
          21.6,
          16.2,
          31.5,
          31.9,
          25.4,
          27.2,
          37.3,
          41.5,
          34.3,
          44.3,
          43.4,
          36.4,
          30,
          29.8,
          35,
          33,
          28.1,
          30.7,
          36,
          44
         ],
         "y": [
          46,
          87,
          90,
          95,
          113,
          90,
          70,
          76,
          60,
          54,
          112,
          76,
          87,
          69,
          46,
          90,
          49,
          75,
          91,
          112,
          110,
          83,
          67,
          78,
          75,
          75,
          67,
          71,
          70,
          95,
          88,
          98,
          115,
          86,
          81,
          83,
          70,
          71,
          102,
          88,
          120,
          58,
          78,
          78,
          110,
          48,
          103,
          125,
          115,
          133,
          71,
          71,
          77,
          71,
          69,
          76,
          78,
          48,
          48,
          67,
          67,
          62,
          88,
          74,
          80,
          76,
          74,
          52
         ],
         "z": [
          1835,
          2672,
          2430,
          2375,
          2234,
          2123,
          2074,
          2065,
          1834,
          2254,
          2933,
          2511,
          2979,
          2189,
          1950,
          2265,
          1867,
          2158,
          2582,
          2868,
          2660,
          2219,
          1963,
          2300,
          2108,
          2246,
          2000,
          2223,
          1937,
          2694,
          2957,
          2945,
          2671,
          2464,
          2220,
          2202,
          1937,
          1825,
          3150,
          3270,
          3820,
          1825,
          1940,
          2190,
          2600,
          1985,
          2830,
          3140,
          2795,
          3410,
          1990,
          1925,
          3530,
          3190,
          2130,
          2144,
          2188,
          2085,
          2335,
          2950,
          3250,
          1845,
          2500,
          2190,
          3230,
          3160,
          1980,
          2130
         ]
        }
       ],
       "layout": {
        "autosize": true,
        "legend": {
         "title": {
          "text": "color"
         },
         "tracegroupgap": 0
        },
        "margin": {
         "t": 60
        },
        "scene": {
         "aspectmode": "auto",
         "aspectratio": {
          "x": 1,
          "y": 1,
          "z": 1
         },
         "camera": {
          "center": {
           "x": 0,
           "y": 0,
           "z": 0
          },
          "eye": {
           "x": 1.2242235744123725e-16,
           "y": -7.581975589966585e-17,
           "z": 2.3516910376176283
          },
          "projection": {
           "type": "perspective"
          },
          "up": {
           "x": 0,
           "y": 0,
           "z": 1
          }
         },
         "domain": {
          "x": [
           0,
           1
          ],
          "y": [
           0,
           1
          ]
         },
         "xaxis": {
          "title": {
           "text": "mpg"
          },
          "type": "linear"
         },
         "yaxis": {
          "title": {
           "text": "horsepower"
          },
          "type": "linear"
         },
         "zaxis": {
          "title": {
           "text": "weight"
          },
          "type": "linear"
         }
        },
        "template": {
         "data": {
          "bar": [
           {
            "error_x": {
             "color": "#2a3f5f"
            },
            "error_y": {
             "color": "#2a3f5f"
            },
            "marker": {
             "line": {
              "color": "#E5ECF6",
              "width": 0.5
             },
             "pattern": {
              "fillmode": "overlay",
              "size": 10,
              "solidity": 0.2
             }
            },
            "type": "bar"
           }
          ],
          "barpolar": [
           {
            "marker": {
             "line": {
              "color": "#E5ECF6",
              "width": 0.5
             },
             "pattern": {
              "fillmode": "overlay",
              "size": 10,
              "solidity": 0.2
             }
            },
            "type": "barpolar"
           }
          ],
          "carpet": [
           {
            "aaxis": {
             "endlinecolor": "#2a3f5f",
             "gridcolor": "white",
             "linecolor": "white",
             "minorgridcolor": "white",
             "startlinecolor": "#2a3f5f"
            },
            "baxis": {
             "endlinecolor": "#2a3f5f",
             "gridcolor": "white",
             "linecolor": "white",
             "minorgridcolor": "white",
             "startlinecolor": "#2a3f5f"
            },
            "type": "carpet"
           }
          ],
          "choropleth": [
           {
            "colorbar": {
             "outlinewidth": 0,
             "ticks": ""
            },
            "type": "choropleth"
           }
          ],
          "contour": [
           {
            "colorbar": {
             "outlinewidth": 0,
             "ticks": ""
            },
            "colorscale": [
             [
              0,
              "#0d0887"
             ],
             [
              0.1111111111111111,
              "#46039f"
             ],
             [
              0.2222222222222222,
              "#7201a8"
             ],
             [
              0.3333333333333333,
              "#9c179e"
             ],
             [
              0.4444444444444444,
              "#bd3786"
             ],
             [
              0.5555555555555556,
              "#d8576b"
             ],
             [
              0.6666666666666666,
              "#ed7953"
             ],
             [
              0.7777777777777778,
              "#fb9f3a"
             ],
             [
              0.8888888888888888,
              "#fdca26"
             ],
             [
              1,
              "#f0f921"
             ]
            ],
            "type": "contour"
           }
          ],
          "contourcarpet": [
           {
            "colorbar": {
             "outlinewidth": 0,
             "ticks": ""
            },
            "type": "contourcarpet"
           }
          ],
          "heatmap": [
           {
            "colorbar": {
             "outlinewidth": 0,
             "ticks": ""
            },
            "colorscale": [
             [
              0,
              "#0d0887"
             ],
             [
              0.1111111111111111,
              "#46039f"
             ],
             [
              0.2222222222222222,
              "#7201a8"
             ],
             [
              0.3333333333333333,
              "#9c179e"
             ],
             [
              0.4444444444444444,
              "#bd3786"
             ],
             [
              0.5555555555555556,
              "#d8576b"
             ],
             [
              0.6666666666666666,
              "#ed7953"
             ],
             [
              0.7777777777777778,
              "#fb9f3a"
             ],
             [
              0.8888888888888888,
              "#fdca26"
             ],
             [
              1,
              "#f0f921"
             ]
            ],
            "type": "heatmap"
           }
          ],
          "heatmapgl": [
           {
            "colorbar": {
             "outlinewidth": 0,
             "ticks": ""
            },
            "colorscale": [
             [
              0,
              "#0d0887"
             ],
             [
              0.1111111111111111,
              "#46039f"
             ],
             [
              0.2222222222222222,
              "#7201a8"
             ],
             [
              0.3333333333333333,
              "#9c179e"
             ],
             [
              0.4444444444444444,
              "#bd3786"
             ],
             [
              0.5555555555555556,
              "#d8576b"
             ],
             [
              0.6666666666666666,
              "#ed7953"
             ],
             [
              0.7777777777777778,
              "#fb9f3a"
             ],
             [
              0.8888888888888888,
              "#fdca26"
             ],
             [
              1,
              "#f0f921"
             ]
            ],
            "type": "heatmapgl"
           }
          ],
          "histogram": [
           {
            "marker": {
             "pattern": {
              "fillmode": "overlay",
              "size": 10,
              "solidity": 0.2
             }
            },
            "type": "histogram"
           }
          ],
          "histogram2d": [
           {
            "colorbar": {
             "outlinewidth": 0,
             "ticks": ""
            },
            "colorscale": [
             [
              0,
              "#0d0887"
             ],
             [
              0.1111111111111111,
              "#46039f"
             ],
             [
              0.2222222222222222,
              "#7201a8"
             ],
             [
              0.3333333333333333,
              "#9c179e"
             ],
             [
              0.4444444444444444,
              "#bd3786"
             ],
             [
              0.5555555555555556,
              "#d8576b"
             ],
             [
              0.6666666666666666,
              "#ed7953"
             ],
             [
              0.7777777777777778,
              "#fb9f3a"
             ],
             [
              0.8888888888888888,
              "#fdca26"
             ],
             [
              1,
              "#f0f921"
             ]
            ],
            "type": "histogram2d"
           }
          ],
          "histogram2dcontour": [
           {
            "colorbar": {
             "outlinewidth": 0,
             "ticks": ""
            },
            "colorscale": [
             [
              0,
              "#0d0887"
             ],
             [
              0.1111111111111111,
              "#46039f"
             ],
             [
              0.2222222222222222,
              "#7201a8"
             ],
             [
              0.3333333333333333,
              "#9c179e"
             ],
             [
              0.4444444444444444,
              "#bd3786"
             ],
             [
              0.5555555555555556,
              "#d8576b"
             ],
             [
              0.6666666666666666,
              "#ed7953"
             ],
             [
              0.7777777777777778,
              "#fb9f3a"
             ],
             [
              0.8888888888888888,
              "#fdca26"
             ],
             [
              1,
              "#f0f921"
             ]
            ],
            "type": "histogram2dcontour"
           }
          ],
          "mesh3d": [
           {
            "colorbar": {
             "outlinewidth": 0,
             "ticks": ""
            },
            "type": "mesh3d"
           }
          ],
          "parcoords": [
           {
            "line": {
             "colorbar": {
              "outlinewidth": 0,
              "ticks": ""
             }
            },
            "type": "parcoords"
           }
          ],
          "pie": [
           {
            "automargin": true,
            "type": "pie"
           }
          ],
          "scatter": [
           {
            "marker": {
             "colorbar": {
              "outlinewidth": 0,
              "ticks": ""
             }
            },
            "type": "scatter"
           }
          ],
          "scatter3d": [
           {
            "line": {
             "colorbar": {
              "outlinewidth": 0,
              "ticks": ""
             }
            },
            "marker": {
             "colorbar": {
              "outlinewidth": 0,
              "ticks": ""
             }
            },
            "type": "scatter3d"
           }
          ],
          "scattercarpet": [
           {
            "marker": {
             "colorbar": {
              "outlinewidth": 0,
              "ticks": ""
             }
            },
            "type": "scattercarpet"
           }
          ],
          "scattergeo": [
           {
            "marker": {
             "colorbar": {
              "outlinewidth": 0,
              "ticks": ""
             }
            },
            "type": "scattergeo"
           }
          ],
          "scattergl": [
           {
            "marker": {
             "colorbar": {
              "outlinewidth": 0,
              "ticks": ""
             }
            },
            "type": "scattergl"
           }
          ],
          "scattermapbox": [
           {
            "marker": {
             "colorbar": {
              "outlinewidth": 0,
              "ticks": ""
             }
            },
            "type": "scattermapbox"
           }
          ],
          "scatterpolar": [
           {
            "marker": {
             "colorbar": {
              "outlinewidth": 0,
              "ticks": ""
             }
            },
            "type": "scatterpolar"
           }
          ],
          "scatterpolargl": [
           {
            "marker": {
             "colorbar": {
              "outlinewidth": 0,
              "ticks": ""
             }
            },
            "type": "scatterpolargl"
           }
          ],
          "scatterternary": [
           {
            "marker": {
             "colorbar": {
              "outlinewidth": 0,
              "ticks": ""
             }
            },
            "type": "scatterternary"
           }
          ],
          "surface": [
           {
            "colorbar": {
             "outlinewidth": 0,
             "ticks": ""
            },
            "colorscale": [
             [
              0,
              "#0d0887"
             ],
             [
              0.1111111111111111,
              "#46039f"
             ],
             [
              0.2222222222222222,
              "#7201a8"
             ],
             [
              0.3333333333333333,
              "#9c179e"
             ],
             [
              0.4444444444444444,
              "#bd3786"
             ],
             [
              0.5555555555555556,
              "#d8576b"
             ],
             [
              0.6666666666666666,
              "#ed7953"
             ],
             [
              0.7777777777777778,
              "#fb9f3a"
             ],
             [
              0.8888888888888888,
              "#fdca26"
             ],
             [
              1,
              "#f0f921"
             ]
            ],
            "type": "surface"
           }
          ],
          "table": [
           {
            "cells": {
             "fill": {
              "color": "#EBF0F8"
             },
             "line": {
              "color": "white"
             }
            },
            "header": {
             "fill": {
              "color": "#C8D4E3"
             },
             "line": {
              "color": "white"
             }
            },
            "type": "table"
           }
          ]
         },
         "layout": {
          "annotationdefaults": {
           "arrowcolor": "#2a3f5f",
           "arrowhead": 0,
           "arrowwidth": 1
          },
          "autotypenumbers": "strict",
          "coloraxis": {
           "colorbar": {
            "outlinewidth": 0,
            "ticks": ""
           }
          },
          "colorscale": {
           "diverging": [
            [
             0,
             "#8e0152"
            ],
            [
             0.1,
             "#c51b7d"
            ],
            [
             0.2,
             "#de77ae"
            ],
            [
             0.3,
             "#f1b6da"
            ],
            [
             0.4,
             "#fde0ef"
            ],
            [
             0.5,
             "#f7f7f7"
            ],
            [
             0.6,
             "#e6f5d0"
            ],
            [
             0.7,
             "#b8e186"
            ],
            [
             0.8,
             "#7fbc41"
            ],
            [
             0.9,
             "#4d9221"
            ],
            [
             1,
             "#276419"
            ]
           ],
           "sequential": [
            [
             0,
             "#0d0887"
            ],
            [
             0.1111111111111111,
             "#46039f"
            ],
            [
             0.2222222222222222,
             "#7201a8"
            ],
            [
             0.3333333333333333,
             "#9c179e"
            ],
            [
             0.4444444444444444,
             "#bd3786"
            ],
            [
             0.5555555555555556,
             "#d8576b"
            ],
            [
             0.6666666666666666,
             "#ed7953"
            ],
            [
             0.7777777777777778,
             "#fb9f3a"
            ],
            [
             0.8888888888888888,
             "#fdca26"
            ],
            [
             1,
             "#f0f921"
            ]
           ],
           "sequentialminus": [
            [
             0,
             "#0d0887"
            ],
            [
             0.1111111111111111,
             "#46039f"
            ],
            [
             0.2222222222222222,
             "#7201a8"
            ],
            [
             0.3333333333333333,
             "#9c179e"
            ],
            [
             0.4444444444444444,
             "#bd3786"
            ],
            [
             0.5555555555555556,
             "#d8576b"
            ],
            [
             0.6666666666666666,
             "#ed7953"
            ],
            [
             0.7777777777777778,
             "#fb9f3a"
            ],
            [
             0.8888888888888888,
             "#fdca26"
            ],
            [
             1,
             "#f0f921"
            ]
           ]
          },
          "colorway": [
           "#636efa",
           "#EF553B",
           "#00cc96",
           "#ab63fa",
           "#FFA15A",
           "#19d3f3",
           "#FF6692",
           "#B6E880",
           "#FF97FF",
           "#FECB52"
          ],
          "font": {
           "color": "#2a3f5f"
          },
          "geo": {
           "bgcolor": "white",
           "lakecolor": "white",
           "landcolor": "#E5ECF6",
           "showlakes": true,
           "showland": true,
           "subunitcolor": "white"
          },
          "hoverlabel": {
           "align": "left"
          },
          "hovermode": "closest",
          "mapbox": {
           "style": "light"
          },
          "paper_bgcolor": "white",
          "plot_bgcolor": "#E5ECF6",
          "polar": {
           "angularaxis": {
            "gridcolor": "white",
            "linecolor": "white",
            "ticks": ""
           },
           "bgcolor": "#E5ECF6",
           "radialaxis": {
            "gridcolor": "white",
            "linecolor": "white",
            "ticks": ""
           }
          },
          "scene": {
           "xaxis": {
            "backgroundcolor": "#E5ECF6",
            "gridcolor": "white",
            "gridwidth": 2,
            "linecolor": "white",
            "showbackground": true,
            "ticks": "",
            "zerolinecolor": "white"
           },
           "yaxis": {
            "backgroundcolor": "#E5ECF6",
            "gridcolor": "white",
            "gridwidth": 2,
            "linecolor": "white",
            "showbackground": true,
            "ticks": "",
            "zerolinecolor": "white"
           },
           "zaxis": {
            "backgroundcolor": "#E5ECF6",
            "gridcolor": "white",
            "gridwidth": 2,
            "linecolor": "white",
            "showbackground": true,
            "ticks": "",
            "zerolinecolor": "white"
           }
          },
          "shapedefaults": {
           "line": {
            "color": "#2a3f5f"
           }
          },
          "ternary": {
           "aaxis": {
            "gridcolor": "white",
            "linecolor": "white",
            "ticks": ""
           },
           "baxis": {
            "gridcolor": "white",
            "linecolor": "white",
            "ticks": ""
           },
           "bgcolor": "#E5ECF6",
           "caxis": {
            "gridcolor": "white",
            "linecolor": "white",
            "ticks": ""
           }
          },
          "title": {
           "x": 0.05
          },
          "xaxis": {
           "automargin": true,
           "gridcolor": "white",
           "linecolor": "white",
           "ticks": "",
           "title": {
            "standoff": 15
           },
           "zerolinecolor": "white",
           "zerolinewidth": 2
          },
          "yaxis": {
           "automargin": true,
           "gridcolor": "white",
           "linecolor": "white",
           "ticks": "",
           "title": {
            "standoff": 15
           },
           "zerolinecolor": "white",
           "zerolinewidth": 2
          }
         }
        }
       }
      },
      "image/png": "[encoded data removed]",
      "text/html": [
       "<div>                            <div id=\"70755872-9b54-4f38-8cf3-eb15588755b8\" class=\"plotly-graph-div\" style=\"height:525px; width:100%;\"></div>            <script type=\"text/javascript\">                require([\"plotly\"], function(Plotly) {                    window.PLOTLYENV=window.PLOTLYENV || {};                                    if (document.getElementById(\"70755872-9b54-4f38-8cf3-eb15588755b8\")) {                    Plotly.newPlot(                        \"70755872-9b54-4f38-8cf3-eb15588755b8\",                        [{\"hovertemplate\":\"color=3<br>mpg=%{x}<br>horsepower=%{y}<br>weight=%{z}<extra></extra>\",\"legendgroup\":\"3\",\"marker\":{\"color\":\"#636efa\",\"symbol\":\"circle\"},\"mode\":\"markers\",\"name\":\"3\",\"scene\":\"scene\",\"showlegend\":true,\"type\":\"scatter3d\",\"x\":[18.0,15.0,18.0,16.0,17.0,15.0,14.0,14.0,14.0,15.0,15.0,14.0,15.0,14.0,10.0,10.0,11.0,9.0,14.0,14.0,14.0,14.0,12.0,13.0,13.0,13.0,14.0,15.0,14.0,17.0,11.0,13.0,12.0,13.0,15.0,13.0,13.0,14.0,13.0,14.0,13.0,14.0,15.0,12.0,13.0,13.0,14.0,13.0,12.0,13.0,11.0,12.0,13.0,12.0,15.0,16.0,15.0,11.0,16.0,13.0,14.0,14.0,14.0,16.0,15.0,16.0,14.0,20.0,13.0,17.5,16.0,15.5,14.5,13.0,16.5,13.0,13.0,13.0,17.5,15.5,15.0,16.0,15.5,15.5,16.0,19.4,20.2,19.2,17.7,18.1,17.5,17.0,17.6,16.5,18.2,16.9,15.5,19.2,18.5,23.0],\"y\":[130.0,165.0,150.0,150.0,140.0,198.0,220.0,215.0,225.0,190.0,170.0,160.0,150.0,225.0,215.0,200.0,210.0,193.0,165.0,175.0,153.0,150.0,180.0,170.0,175.0,165.0,175.0,150.0,153.0,150.0,208.0,155.0,160.0,190.0,150.0,130.0,140.0,150.0,175.0,150.0,145.0,137.0,150.0,198.0,150.0,158.0,150.0,215.0,225.0,175.0,150.0,167.0,170.0,180.0,145.0,230.0,150.0,180.0,140.0,150.0,150.0,140.0,150.0,170.0,145.0,150.0,148.0,110.0,129.0,140.0,150.0,120.0,152.0,150.0,180.0,145.0,130.0,150.0,145.0,145.0,130.0,180.0,170.0,190.0,149.0,140.0,139.0,145.0,165.0,139.0,140.0,130.0,129.0,138.0,135.0,155.0,142.0,125.0,150.0,125.0],\"z\":[3504,3693,3436,3433,3449,4341,4354,4312,4425,3850,3563,3609,3761,3086,4615,4376,4382,4732,4209,4464,4154,4096,4955,4746,5140,4274,4385,4135,4129,3672,4633,4502,4456,4422,3892,4098,4294,4077,4100,3672,3988,4042,3777,4952,4464,4363,4237,4735,4951,3821,4997,4906,4654,4499,4082,4278,3399,3664,4141,4699,4457,4638,4257,4668,4440,4498,4657,3221,3169,4215,4190,3962,4215,3940,4380,4055,3870,3755,3880,4140,4295,4220,4165,4325,4335,3735,3570,3425,3445,3205,4080,3840,3725,3955,3830,4360,4054,3605,3940,3900]},{\"hovertemplate\":\"color=0<br>mpg=%{x}<br>horsepower=%{y}<br>weight=%{z}<extra></extra>\",\"legendgroup\":\"0\",\"marker\":{\"color\":\"#EF553B\",\"symbol\":\"circle\"},\"mode\":\"markers\",\"name\":\"0\",\"scene\":\"scene\",\"showlegend\":true,\"type\":\"scatter3d\",\"x\":[24.0,27.0,27.0,25.0,31.0,35.0,24.0,19.0,28.0,23.0,27.0,20.0,22.0,18.0,20.0,31.0,32.0,31.0,32.0,24.0,26.0,29.0,24.0,24.0,33.0,33.0,32.0,28.0,19.0,31.5,33.5,26.0,30.0,22.0,21.5,32.8,39.4,36.1,27.5,27.2,21.1,23.9,29.5,34.1,31.8,38.1,37.2,29.8,31.3,37.0,32.2,46.6,40.8,44.6,33.8,32.7,23.7,32.4,39.1,35.1,32.3,37.0,37.7,34.1,33.7,32.4,32.9,31.6,25.4,24.2,37.0,31.0,36.0,36.0,34.0,38.0,32.0,38.0,32.0],\"y\":[95.0,88.0,88.0,95.0,65.0,69.0,95.0,97.0,92.0,97.0,88.0,88.0,94.0,90.0,122.0,67.0,65.0,52.0,61.0,97.0,93.0,75.0,96.0,97.0,53.0,53.0,70.0,75.0,108.0,68.0,70.0,75.0,67.0,97.0,110.0,52.0,70.0,60.0,95.0,97.0,95.0,97.0,68.0,65.0,65.0,60.0,65.0,90.0,75.0,92.0,75.0,65.0,65.0,67.0,67.0,132.0,100.0,72.0,58.0,60.0,67.0,65.0,62.0,68.0,75.0,75.0,100.0,74.0,116.0,120.0,68.0,68.0,88.0,75.0,70.0,67.0,67.0,67.0,96.0],\"z\":[2372,2130,2130,2228,1773,1613,2278,2330,2288,2506,2100,2279,2379,2124,2807,1950,1836,1649,2003,2489,2391,2171,2702,2545,1795,1795,1990,2155,2930,2045,1945,2265,1985,2815,2720,1985,2070,1800,2560,2300,2515,2405,2135,1975,2020,1968,2019,2711,2542,2434,2265,2110,2110,1850,2145,2910,2420,2290,1755,1760,2065,1975,2050,1985,2210,2350,2615,2635,2900,2930,2025,1970,2160,2205,2245,1965,1965,1995,2665]},{\"hovertemplate\":\"color=1<br>mpg=%{x}<br>horsepower=%{y}<br>weight=%{z}<extra></extra>\",\"legendgroup\":\"1\",\"marker\":{\"color\":\"#00cc96\",\"symbol\":\"circle\"},\"mode\":\"markers\",\"name\":\"1\",\"scene\":\"scene\",\"showlegend\":true,\"type\":\"scatter3d\",\"x\":[22.0,18.0,21.0,21.0,28.0,19.0,16.0,17.0,19.0,18.0,18.0,22.0,19.0,18.0,23.0,26.0,25.0,20.0,21.0,22.0,28.0,18.0,16.0,18.0,18.0,23.0,18.0,21.0,19.0,21.0,20.0,19.0,15.0,26.0,25.0,16.0,16.0,18.0,28.0,19.0,18.0,15.0,15.0,17.0,16.0,15.0,18.0,21.0,23.0,20.0,23.0,18.0,19.0,25.0,26.0,22.0,22.0,24.0,22.5,29.0,24.5,20.0,18.0,18.5,17.5,26.5,30.0,25.5,17.0,17.5,20.5,19.0,18.5,24.5,25.5,30.5,33.5,36.1,19.9,19.2,20.5,20.2,25.1,20.5,19.4,20.6,20.8,18.6,18.1,30.0,30.9,23.2,23.8,21.5,19.8,22.3,20.2,20.6,35.7,27.4,23.9,34.2,34.5,28.4,28.8,26.8,33.5,32.1,28.0,26.4,24.3,19.1,27.9,27.2,26.6,25.8,23.5,30.0,39.0,34.7,34.4,29.9,22.4,26.6,20.2,17.6,28.0,27.0,34.0,31.0,29.0,27.0,24.0,38.0,36.0,25.0,38.0,26.0,22.0,36.0,27.0,27.0,32.0,28.0,31.0],\"y\":[95.0,97.0,85.0,90.0,90.0,100.0,105.0,100.0,88.0,100.0,110.0,72.0,100.0,88.0,86.0,70.0,80.0,90.0,86.0,86.0,80.0,105.0,100.0,100.0,88.0,95.0,100.0,72.0,85.0,107.0,95.0,100.0,100.0,80.0,75.0,100.0,110.0,105.0,75.0,95.0,105.0,72.0,72.0,110.0,105.0,110.0,95.0,110.0,83.0,100.0,78.0,97.0,90.0,92.0,79.0,100.0,105.0,81.0,90.0,52.0,60.0,100.0,78.0,110.0,95.0,72.0,80.0,96.0,110.0,110.0,105.0,100.0,98.0,88.0,89.0,63.0,83.0,66.0,110.0,105.0,95.0,85.0,88.0,100.0,90.0,105.0,85.0,110.0,120.0,68.0,75.0,105.0,85.0,115.0,85.0,88.0,90.0,110.0,80.0,80.0,90.0,70.0,70.0,90.0,115.0,115.0,90.0,70.0,90.0,88.0,90.0,90.0,105.0,84.0,84.0,92.0,110.0,84.0,64.0,63.0,65.0,65.0,110.0,105.0,88.0,85.0,88.0,88.0,88.0,85.0,84.0,90.0,92.0,63.0,70.0,110.0,85.0,92.0,112.0,84.0,90.0,86.0,84.0,79.0,82.0],\"z\":[2833,2774,2587,2648,2264,2634,3439,3329,3302,3288,2962,2408,3282,3139,2220,1955,2126,2408,2226,2395,2164,3121,3278,2945,3021,2904,2789,2401,2310,2472,3102,2901,3336,2451,2542,3781,3632,3613,2125,3264,3459,3432,3158,3907,3897,3730,3785,3039,2639,2914,2592,2984,3211,2572,2255,3233,3353,3012,3085,2035,2164,3651,3574,3645,3193,2565,2155,2300,4060,3520,3425,3630,3525,2740,2755,2051,2075,1800,3365,3535,3155,2965,2720,3430,3210,3380,3070,3620,3410,2155,2230,2745,2855,3245,2990,2890,3265,3360,1915,2670,3420,2200,2150,2670,2595,2700,2556,2120,2678,2870,3003,3381,2800,2490,2635,2620,2725,2385,1875,2215,2045,2380,3415,3725,3060,3465,2605,2640,2395,2575,2525,2735,2865,2125,2125,2945,3015,2585,2835,2370,2950,2790,2295,2625,2720]},{\"hovertemplate\":\"color=2<br>mpg=%{x}<br>horsepower=%{y}<br>weight=%{z}<extra></extra>\",\"legendgroup\":\"2\",\"marker\":{\"color\":\"#ab63fa\",\"symbol\":\"circle\"},\"mode\":\"markers\",\"name\":\"2\",\"scene\":\"scene\",\"showlegend\":true,\"type\":\"scatter3d\",\"x\":[26.0,25.0,24.0,25.0,26.0,28.0,30.0,30.0,27.0,23.0,18.0,22.0,21.0,26.0,26.0,26.0,29.0,24.0,20.0,19.0,24.0,29.0,26.0,26.0,24.0,26.0,31.0,25.0,29.0,23.0,23.0,22.0,25.0,28.0,25.0,27.0,29.0,29.5,20.0,19.0,16.5,36.0,29.0,30.5,21.5,43.1,20.3,17.0,21.6,16.2,31.5,31.9,25.4,27.2,37.3,41.5,34.3,44.3,43.4,36.4,30.0,29.8,35.0,33.0,28.1,30.7,36.0,44.0],\"y\":[46.0,87.0,90.0,95.0,113.0,90.0,70.0,76.0,60.0,54.0,112.0,76.0,87.0,69.0,46.0,90.0,49.0,75.0,91.0,112.0,110.0,83.0,67.0,78.0,75.0,75.0,67.0,71.0,70.0,95.0,88.0,98.0,115.0,86.0,81.0,83.0,70.0,71.0,102.0,88.0,120.0,58.0,78.0,78.0,110.0,48.0,103.0,125.0,115.0,133.0,71.0,71.0,77.0,71.0,69.0,76.0,78.0,48.0,48.0,67.0,67.0,62.0,88.0,74.0,80.0,76.0,74.0,52.0],\"z\":[1835,2672,2430,2375,2234,2123,2074,2065,1834,2254,2933,2511,2979,2189,1950,2265,1867,2158,2582,2868,2660,2219,1963,2300,2108,2246,2000,2223,1937,2694,2957,2945,2671,2464,2220,2202,1937,1825,3150,3270,3820,1825,1940,2190,2600,1985,2830,3140,2795,3410,1990,1925,3530,3190,2130,2144,2188,2085,2335,2950,3250,1845,2500,2190,3230,3160,1980,2130]}],                        {\"legend\":{\"title\":{\"text\":\"color\"},\"tracegroupgap\":0},\"margin\":{\"t\":60},\"scene\":{\"domain\":{\"x\":[0.0,1.0],\"y\":[0.0,1.0]},\"xaxis\":{\"title\":{\"text\":\"mpg\"}},\"yaxis\":{\"title\":{\"text\":\"horsepower\"}},\"zaxis\":{\"title\":{\"text\":\"weight\"}}},\"template\":{\"data\":{\"bar\":[{\"error_x\":{\"color\":\"#2a3f5f\"},\"error_y\":{\"color\":\"#2a3f5f\"},\"marker\":{\"line\":{\"color\":\"#E5ECF6\",\"width\":0.5},\"pattern\":{\"fillmode\":\"overlay\",\"size\":10,\"solidity\":0.2}},\"type\":\"bar\"}],\"barpolar\":[{\"marker\":{\"line\":{\"color\":\"#E5ECF6\",\"width\":0.5},\"pattern\":{\"fillmode\":\"overlay\",\"size\":10,\"solidity\":0.2}},\"type\":\"barpolar\"}],\"carpet\":[{\"aaxis\":{\"endlinecolor\":\"#2a3f5f\",\"gridcolor\":\"white\",\"linecolor\":\"white\",\"minorgridcolor\":\"white\",\"startlinecolor\":\"#2a3f5f\"},\"baxis\":{\"endlinecolor\":\"#2a3f5f\",\"gridcolor\":\"white\",\"linecolor\":\"white\",\"minorgridcolor\":\"white\",\"startlinecolor\":\"#2a3f5f\"},\"type\":\"carpet\"}],\"choropleth\":[{\"colorbar\":{\"outlinewidth\":0,\"ticks\":\"\"},\"type\":\"choropleth\"}],\"contour\":[{\"colorbar\":{\"outlinewidth\":0,\"ticks\":\"\"},\"colorscale\":[[0.0,\"#0d0887\"],[0.1111111111111111,\"#46039f\"],[0.2222222222222222,\"#7201a8\"],[0.3333333333333333,\"#9c179e\"],[0.4444444444444444,\"#bd3786\"],[0.5555555555555556,\"#d8576b\"],[0.6666666666666666,\"#ed7953\"],[0.7777777777777778,\"#fb9f3a\"],[0.8888888888888888,\"#fdca26\"],[1.0,\"#f0f921\"]],\"type\":\"contour\"}],\"contourcarpet\":[{\"colorbar\":{\"outlinewidth\":0,\"ticks\":\"\"},\"type\":\"contourcarpet\"}],\"heatmap\":[{\"colorbar\":{\"outlinewidth\":0,\"ticks\":\"\"},\"colorscale\":[[0.0,\"#0d0887\"],[0.1111111111111111,\"#46039f\"],[0.2222222222222222,\"#7201a8\"],[0.3333333333333333,\"#9c179e\"],[0.4444444444444444,\"#bd3786\"],[0.5555555555555556,\"#d8576b\"],[0.6666666666666666,\"#ed7953\"],[0.7777777777777778,\"#fb9f3a\"],[0.8888888888888888,\"#fdca26\"],[1.0,\"#f0f921\"]],\"type\":\"heatmap\"}],\"heatmapgl\":[{\"colorbar\":{\"outlinewidth\":0,\"ticks\":\"\"},\"colorscale\":[[0.0,\"#0d0887\"],[0.1111111111111111,\"#46039f\"],[0.2222222222222222,\"#7201a8\"],[0.3333333333333333,\"#9c179e\"],[0.4444444444444444,\"#bd3786\"],[0.5555555555555556,\"#d8576b\"],[0.6666666666666666,\"#ed7953\"],[0.7777777777777778,\"#fb9f3a\"],[0.8888888888888888,\"#fdca26\"],[1.0,\"#f0f921\"]],\"type\":\"heatmapgl\"}],\"histogram\":[{\"marker\":{\"pattern\":{\"fillmode\":\"overlay\",\"size\":10,\"solidity\":0.2}},\"type\":\"histogram\"}],\"histogram2d\":[{\"colorbar\":{\"outlinewidth\":0,\"ticks\":\"\"},\"colorscale\":[[0.0,\"#0d0887\"],[0.1111111111111111,\"#46039f\"],[0.2222222222222222,\"#7201a8\"],[0.3333333333333333,\"#9c179e\"],[0.4444444444444444,\"#bd3786\"],[0.5555555555555556,\"#d8576b\"],[0.6666666666666666,\"#ed7953\"],[0.7777777777777778,\"#fb9f3a\"],[0.8888888888888888,\"#fdca26\"],[1.0,\"#f0f921\"]],\"type\":\"histogram2d\"}],\"histogram2dcontour\":[{\"colorbar\":{\"outlinewidth\":0,\"ticks\":\"\"},\"colorscale\":[[0.0,\"#0d0887\"],[0.1111111111111111,\"#46039f\"],[0.2222222222222222,\"#7201a8\"],[0.3333333333333333,\"#9c179e\"],[0.4444444444444444,\"#bd3786\"],[0.5555555555555556,\"#d8576b\"],[0.6666666666666666,\"#ed7953\"],[0.7777777777777778,\"#fb9f3a\"],[0.8888888888888888,\"#fdca26\"],[1.0,\"#f0f921\"]],\"type\":\"histogram2dcontour\"}],\"mesh3d\":[{\"colorbar\":{\"outlinewidth\":0,\"ticks\":\"\"},\"type\":\"mesh3d\"}],\"parcoords\":[{\"line\":{\"colorbar\":{\"outlinewidth\":0,\"ticks\":\"\"}},\"type\":\"parcoords\"}],\"pie\":[{\"automargin\":true,\"type\":\"pie\"}],\"scatter\":[{\"marker\":{\"colorbar\":{\"outlinewidth\":0,\"ticks\":\"\"}},\"type\":\"scatter\"}],\"scatter3d\":[{\"line\":{\"colorbar\":{\"outlinewidth\":0,\"ticks\":\"\"}},\"marker\":{\"colorbar\":{\"outlinewidth\":0,\"ticks\":\"\"}},\"type\":\"scatter3d\"}],\"scattercarpet\":[{\"marker\":{\"colorbar\":{\"outlinewidth\":0,\"ticks\":\"\"}},\"type\":\"scattercarpet\"}],\"scattergeo\":[{\"marker\":{\"colorbar\":{\"outlinewidth\":0,\"ticks\":\"\"}},\"type\":\"scattergeo\"}],\"scattergl\":[{\"marker\":{\"colorbar\":{\"outlinewidth\":0,\"ticks\":\"\"}},\"type\":\"scattergl\"}],\"scattermapbox\":[{\"marker\":{\"colorbar\":{\"outlinewidth\":0,\"ticks\":\"\"}},\"type\":\"scattermapbox\"}],\"scatterpolar\":[{\"marker\":{\"colorbar\":{\"outlinewidth\":0,\"ticks\":\"\"}},\"type\":\"scatterpolar\"}],\"scatterpolargl\":[{\"marker\":{\"colorbar\":{\"outlinewidth\":0,\"ticks\":\"\"}},\"type\":\"scatterpolargl\"}],\"scatterternary\":[{\"marker\":{\"colorbar\":{\"outlinewidth\":0,\"ticks\":\"\"}},\"type\":\"scatterternary\"}],\"surface\":[{\"colorbar\":{\"outlinewidth\":0,\"ticks\":\"\"},\"colorscale\":[[0.0,\"#0d0887\"],[0.1111111111111111,\"#46039f\"],[0.2222222222222222,\"#7201a8\"],[0.3333333333333333,\"#9c179e\"],[0.4444444444444444,\"#bd3786\"],[0.5555555555555556,\"#d8576b\"],[0.6666666666666666,\"#ed7953\"],[0.7777777777777778,\"#fb9f3a\"],[0.8888888888888888,\"#fdca26\"],[1.0,\"#f0f921\"]],\"type\":\"surface\"}],\"table\":[{\"cells\":{\"fill\":{\"color\":\"#EBF0F8\"},\"line\":{\"color\":\"white\"}},\"header\":{\"fill\":{\"color\":\"#C8D4E3\"},\"line\":{\"color\":\"white\"}},\"type\":\"table\"}]},\"layout\":{\"annotationdefaults\":{\"arrowcolor\":\"#2a3f5f\",\"arrowhead\":0,\"arrowwidth\":1},\"autotypenumbers\":\"strict\",\"coloraxis\":{\"colorbar\":{\"outlinewidth\":0,\"ticks\":\"\"}},\"colorscale\":{\"diverging\":[[0,\"#8e0152\"],[0.1,\"#c51b7d\"],[0.2,\"#de77ae\"],[0.3,\"#f1b6da\"],[0.4,\"#fde0ef\"],[0.5,\"#f7f7f7\"],[0.6,\"#e6f5d0\"],[0.7,\"#b8e186\"],[0.8,\"#7fbc41\"],[0.9,\"#4d9221\"],[1,\"#276419\"]],\"sequential\":[[0.0,\"#0d0887\"],[0.1111111111111111,\"#46039f\"],[0.2222222222222222,\"#7201a8\"],[0.3333333333333333,\"#9c179e\"],[0.4444444444444444,\"#bd3786\"],[0.5555555555555556,\"#d8576b\"],[0.6666666666666666,\"#ed7953\"],[0.7777777777777778,\"#fb9f3a\"],[0.8888888888888888,\"#fdca26\"],[1.0,\"#f0f921\"]],\"sequentialminus\":[[0.0,\"#0d0887\"],[0.1111111111111111,\"#46039f\"],[0.2222222222222222,\"#7201a8\"],[0.3333333333333333,\"#9c179e\"],[0.4444444444444444,\"#bd3786\"],[0.5555555555555556,\"#d8576b\"],[0.6666666666666666,\"#ed7953\"],[0.7777777777777778,\"#fb9f3a\"],[0.8888888888888888,\"#fdca26\"],[1.0,\"#f0f921\"]]},\"colorway\":[\"#636efa\",\"#EF553B\",\"#00cc96\",\"#ab63fa\",\"#FFA15A\",\"#19d3f3\",\"#FF6692\",\"#B6E880\",\"#FF97FF\",\"#FECB52\"],\"font\":{\"color\":\"#2a3f5f\"},\"geo\":{\"bgcolor\":\"white\",\"lakecolor\":\"white\",\"landcolor\":\"#E5ECF6\",\"showlakes\":true,\"showland\":true,\"subunitcolor\":\"white\"},\"hoverlabel\":{\"align\":\"left\"},\"hovermode\":\"closest\",\"mapbox\":{\"style\":\"light\"},\"paper_bgcolor\":\"white\",\"plot_bgcolor\":\"#E5ECF6\",\"polar\":{\"angularaxis\":{\"gridcolor\":\"white\",\"linecolor\":\"white\",\"ticks\":\"\"},\"bgcolor\":\"#E5ECF6\",\"radialaxis\":{\"gridcolor\":\"white\",\"linecolor\":\"white\",\"ticks\":\"\"}},\"scene\":{\"xaxis\":{\"backgroundcolor\":\"#E5ECF6\",\"gridcolor\":\"white\",\"gridwidth\":2,\"linecolor\":\"white\",\"showbackground\":true,\"ticks\":\"\",\"zerolinecolor\":\"white\"},\"yaxis\":{\"backgroundcolor\":\"#E5ECF6\",\"gridcolor\":\"white\",\"gridwidth\":2,\"linecolor\":\"white\",\"showbackground\":true,\"ticks\":\"\",\"zerolinecolor\":\"white\"},\"zaxis\":{\"backgroundcolor\":\"#E5ECF6\",\"gridcolor\":\"white\",\"gridwidth\":2,\"linecolor\":\"white\",\"showbackground\":true,\"ticks\":\"\",\"zerolinecolor\":\"white\"}},\"shapedefaults\":{\"line\":{\"color\":\"#2a3f5f\"}},\"ternary\":{\"aaxis\":{\"gridcolor\":\"white\",\"linecolor\":\"white\",\"ticks\":\"\"},\"baxis\":{\"gridcolor\":\"white\",\"linecolor\":\"white\",\"ticks\":\"\"},\"bgcolor\":\"#E5ECF6\",\"caxis\":{\"gridcolor\":\"white\",\"linecolor\":\"white\",\"ticks\":\"\"}},\"title\":{\"x\":0.05},\"xaxis\":{\"automargin\":true,\"gridcolor\":\"white\",\"linecolor\":\"white\",\"ticks\":\"\",\"title\":{\"standoff\":15},\"zerolinecolor\":\"white\",\"zerolinewidth\":2},\"yaxis\":{\"automargin\":true,\"gridcolor\":\"white\",\"linecolor\":\"white\",\"ticks\":\"\",\"title\":{\"standoff\":15},\"zerolinecolor\":\"white\",\"zerolinewidth\":2}}}},                        {\"responsive\": true}                    ).then(function(){\n",
       "                            \n",
       "var gd = document.getElementById('70755872-9b54-4f38-8cf3-eb15588755b8');\n",
       "var x = new MutationObserver(function (mutations, observer) {{\n",
       "        var display = window.getComputedStyle(gd).display;\n",
       "        if (!display || display === 'none') {{\n",
       "            console.log([gd, 'removed!']);\n",
       "            Plotly.purge(gd);\n",
       "            observer.disconnect();\n",
       "        }}\n",
       "}});\n",
       "\n",
       "// Listen for the removal of the full notebook cells\n",
       "var notebookContainer = gd.closest('#notebook-container');\n",
       "if (notebookContainer) {{\n",
       "    x.observe(notebookContainer, {childList: true});\n",
       "}}\n",
       "\n",
       "// Listen for the clearing of the current output cell\n",
       "var outputEl = gd.closest('.output');\n",
       "if (outputEl) {{\n",
       "    x.observe(outputEl, {childList: true});\n",
       "}}\n",
       "\n",
       "                        })                };                });            </script>        </div>"
      ]
     },
     "metadata": {},
     "output_type": "display_data"
    }
   ],
   "source": [
    "px.scatter_3d(x='mpg', y='horsepower', data_frame=df, z='weight', color=model_pred.astype(str))"
   ]
  },
  {
   "cell_type": "markdown",
   "metadata": {},
   "source": [
    "## Agrupación de Variables en Componentes Principales con `PCA()`"
   ]
  },
  {
   "cell_type": "markdown",
   "metadata": {},
   "source": [
    "> Obviamente, no vamos a poder representar más que **2 variables en un Scatterplot**. Sin embargo, nuestro Análisis de Clúster ha tenido en cuenta más de 2 variables. Por este motivo debemos **Agrupar las Variables** que más se correlacionen en otras nuevas variables: las **Componentes Principales**.\n",
    ">\n",
    "> - La función `fit_transform()` nos devolverá una matriz con las nuevas variables.\n",
    "> - Tras obtener la matriz, vamos a representarla en un `DataFrame` con la función `pd.DataFrame(matriz)`.\n",
    "> - Posteriormente renombraremos las columnas. Por ejemplo, si el `DataFrame` tiene 4 columnas, deberemos renombrarlas aplicando el siguiente código: `matriz.columns = ['PC1', 'PC2', 'PC3', 'PC4']`."
   ]
  },
  {
   "cell_type": "code",
   "execution_count": 89,
   "metadata": {},
   "outputs": [
    {
     "data": {
      "text/plain": [
       "<AxesSubplot:>"
      ]
     },
     "execution_count": 89,
     "metadata": {},
     "output_type": "execute_result"
    },
    {
     "data": {
      "image/png": "[encoded data removed]",
      "text/plain": [
       "<Figure size 432x288 with 2 Axes>"
      ]
     },
     "metadata": {
      "needs_background": "light"
     },
     "output_type": "display_data"
    }
   ],
   "source": [
    "sns.heatmap(dfnorm.corr(),annot=True)"
   ]
  },
  {
   "cell_type": "code",
   "execution_count": 91,
   "metadata": {},
   "outputs": [
    {
     "data": {
      "text/html": [
       "<div>\n",
       "<style scoped>\n",
       "    .dataframe tbody tr th:only-of-type {\n",
       "        vertical-align: middle;\n",
       "    }\n",
       "\n",
       "    .dataframe tbody tr th {\n",
       "        vertical-align: top;\n",
       "    }\n",
       "\n",
       "    .dataframe thead th {\n",
       "        text-align: right;\n",
       "    }\n",
       "</style>\n",
       "<table border=\"1\" class=\"dataframe\">\n",
       "  <thead>\n",
       "    <tr style=\"text-align: right;\">\n",
       "      <th></th>\n",
       "      <th>PC1</th>\n",
       "      <th>PC2</th>\n",
       "      <th>PC3</th>\n",
       "      <th>PC4</th>\n",
       "      <th>PC5</th>\n",
       "      <th>PC6</th>\n",
       "      <th>PC7</th>\n",
       "      <th>PC8</th>\n",
       "      <th>PC9</th>\n",
       "      <th>PC10</th>\n",
       "    </tr>\n",
       "    <tr>\n",
       "      <th>name</th>\n",
       "      <th></th>\n",
       "      <th></th>\n",
       "      <th></th>\n",
       "      <th></th>\n",
       "      <th></th>\n",
       "      <th></th>\n",
       "      <th></th>\n",
       "      <th></th>\n",
       "      <th></th>\n",
       "      <th></th>\n",
       "    </tr>\n",
       "  </thead>\n",
       "  <tbody>\n",
       "    <tr>\n",
       "      <th>chevrolet chevelle malibu</th>\n",
       "      <td>2.801005</td>\n",
       "      <td>0.320339</td>\n",
       "      <td>0.656663</td>\n",
       "      <td>0.518870</td>\n",
       "      <td>-0.738652</td>\n",
       "      <td>0.766243</td>\n",
       "      <td>-0.476786</td>\n",
       "      <td>-0.096779</td>\n",
       "      <td>-0.120803</td>\n",
       "      <td>5.116497e-15</td>\n",
       "    </tr>\n",
       "    <tr>\n",
       "      <th>buick skylark 320</th>\n",
       "      <td>3.584368</td>\n",
       "      <td>0.369645</td>\n",
       "      <td>0.964884</td>\n",
       "      <td>0.282461</td>\n",
       "      <td>-0.588088</td>\n",
       "      <td>0.495804</td>\n",
       "      <td>0.004389</td>\n",
       "      <td>0.214274</td>\n",
       "      <td>0.073724</td>\n",
       "      <td>1.146165e-15</td>\n",
       "    </tr>\n",
       "    <tr>\n",
       "      <th>plymouth satellite</th>\n",
       "      <td>3.099742</td>\n",
       "      <td>0.307663</td>\n",
       "      <td>0.944898</td>\n",
       "      <td>0.251333</td>\n",
       "      <td>-0.963157</td>\n",
       "      <td>0.735577</td>\n",
       "      <td>-0.220338</td>\n",
       "      <td>0.142800</td>\n",
       "      <td>-0.084338</td>\n",
       "      <td>-1.450774e-15</td>\n",
       "    </tr>\n",
       "    <tr>\n",
       "      <th>amc rebel sst</th>\n",
       "      <td>3.049356</td>\n",
       "      <td>0.367393</td>\n",
       "      <td>0.793047</td>\n",
       "      <td>0.490174</td>\n",
       "      <td>-0.709139</td>\n",
       "      <td>0.540139</td>\n",
       "      <td>-0.237422</td>\n",
       "      <td>0.291771</td>\n",
       "      <td>-0.148300</td>\n",
       "      <td>1.341127e-15</td>\n",
       "    </tr>\n",
       "    <tr>\n",
       "      <th>ford torino</th>\n",
       "      <td>3.037469</td>\n",
       "      <td>0.322174</td>\n",
       "      <td>0.968737</td>\n",
       "      <td>0.272668</td>\n",
       "      <td>-1.099928</td>\n",
       "      <td>0.590524</td>\n",
       "      <td>-0.477794</td>\n",
       "      <td>-0.003369</td>\n",
       "      <td>-0.175006</td>\n",
       "      <td>4.345340e-16</td>\n",
       "    </tr>\n",
       "  </tbody>\n",
       "</table>\n",
       "</div>"
      ],
      "text/plain": [
       "                                PC1       PC2       PC3       PC4       PC5  \\\n",
       "name                                                                          \n",
       "chevrolet chevelle malibu  2.801005  0.320339  0.656663  0.518870 -0.738652   \n",
       "buick skylark 320          3.584368  0.369645  0.964884  0.282461 -0.588088   \n",
       "plymouth satellite         3.099742  0.307663  0.944898  0.251333 -0.963157   \n",
       "amc rebel sst              3.049356  0.367393  0.793047  0.490174 -0.709139   \n",
       "ford torino                3.037469  0.322174  0.968737  0.272668 -1.099928   \n",
       "\n",
       "                                PC6       PC7       PC8       PC9  \\\n",
       "name                                                                \n",
       "chevrolet chevelle malibu  0.766243 -0.476786 -0.096779 -0.120803   \n",
       "buick skylark 320          0.495804  0.004389  0.214274  0.073724   \n",
       "plymouth satellite         0.735577 -0.220338  0.142800 -0.084338   \n",
       "amc rebel sst              0.540139 -0.237422  0.291771 -0.148300   \n",
       "ford torino                0.590524 -0.477794 -0.003369 -0.175006   \n",
       "\n",
       "                                   PC10  \n",
       "name                                     \n",
       "chevrolet chevelle malibu  5.116497e-15  \n",
       "buick skylark 320          1.146165e-15  \n",
       "plymouth satellite        -1.450774e-15  \n",
       "amc rebel sst              1.341127e-15  \n",
       "ford torino                4.345340e-16  "
      ]
     },
     "execution_count": 91,
     "metadata": {},
     "output_type": "execute_result"
    }
   ],
   "source": [
    "from sklearn.decomposition import PCA\n",
    "\n",
    "pca = PCA()\n",
    "dfpca = pd.DataFrame(pca.fit_transform(dfnorm), index=df.index)\n",
    "\n",
    "pca_columns = ['PC' + str(i+1) for i in range(pca.n_components_)]\n",
    "dfpca.columns = pca_columns\n",
    "\n",
    "dfpca.head()"
   ]
  },
  {
   "cell_type": "markdown",
   "metadata": {},
   "source": [
    "## Visualizar las 2 Primeras Componentes con el Cluster"
   ]
  },
  {
   "cell_type": "markdown",
   "metadata": {},
   "source": [
    "> - Eje X: `PC1`\n",
    "> - Eje Y: `PC2`\n",
    "> - `hue = model.labels_`\n",
    "> - (Opcional) Representar los centroides. Deberíamos transformar los centroides en términos de Componentes Principales con `modelopca.transform(datos)`."
   ]
  },
  {
   "cell_type": "code",
   "execution_count": 92,
   "metadata": {},
   "outputs": [
    {
     "data": {
      "text/plain": [
       "<AxesSubplot:xlabel='PC1', ylabel='PC2'>"
      ]
     },
     "execution_count": 92,
     "metadata": {},
     "output_type": "execute_result"
    },
    {
     "data": {
      "image/png": "[encoded data removed]",
      "text/plain": [
       "<Figure size 432x288 with 1 Axes>"
      ]
     },
     "metadata": {
      "needs_background": "light"
     },
     "output_type": "display_data"
    }
   ],
   "source": [
    "sns.scatterplot(x='PC1', y='PC2', data=dfpca, hue=model_pred, palette='Set1')"
   ]
  },
  {
   "cell_type": "code",
   "execution_count": 94,
   "metadata": {},
   "outputs": [
    {
     "data": {
      "application/vnd.plotly.v1+json": {
       "config": {
        "plotlyServerURL": "https://plotly.com"
       },
       "data": [
        {
         "hovertemplate": "color=3<br>PC1=%{x}<br>PC2=%{y}<br>PC3=%{z}<extra></extra>",
         "legendgroup": "3",
         "marker": {
          "color": "#636efa",
          "symbol": "circle"
         },
         "mode": "markers",
         "name": "3",
         "scene": "scene",
         "showlegend": true,
         "type": "scatter3d",
         "x": [
          2.8010053925697003,
          3.5843677216333694,
          3.0997424557229882,
          3.0493563335969744,
          3.0374694323636136,
          4.64258774182745,
          5.098861210497749,
          5.021478315769318,
          5.094612727458124,
          4.325466600106039,
          3.8361061590902117,
          3.819686885185852,
          3.8385036763689526,
          4.4868709117224,
          4.547196234612775,
          3.9972040266291646,
          4.228339292928204,
          3.8113009862357092,
          3.7685759448259493,
          4.220039317432944,
          3.494294219184748,
          3.3564331820271898,
          4.521474412905388,
          4.301000457807533,
          4.529235148279989,
          3.7929463552318716,
          4.0869548908831055,
          3.2296706797600163,
          3.4754409451373043,
          3.0507238553525755,
          4.8684201418539015,
          3.663033734601399,
          3.738797983489546,
          4.25434407884225,
          3.155326319576284,
          3.0226085921166996,
          3.0117340397365786,
          3.205720511540576,
          3.6706966935924927,
          3.1400634496732382,
          3.323420417103428,
          2.9026925657272153,
          3.104537124110996,
          4.7699293036050365,
          3.87064457664869,
          3.6259236348577,
          3.1811127795096605,
          4.879297941927822,
          5.180999991696969,
          3.761918401375256,
          4.027588887903247,
          4.241616905332304,
          3.911147712102041,
          3.9932972647942213,
          3.271613677293492,
          4.65933302288281,
          3.0675541341023034,
          3.796127917691505,
          2.8752930743177205,
          3.508584350839617,
          3.3183203511909247,
          3.015897799787,
          2.994327396999508,
          3.9592831825981376,
          3.23964555378279,
          3.1003691098749484,
          3.4637186356491516,
          1.8111953054629577,
          2.5942119965642934,
          2.834536896342746,
          3.042790310284386,
          2.531958534427682,
          3.2894506455161414,
          3.053083430495636,
          3.6055126555354335,
          3.286450296424116,
          2.600728894454318,
          2.897338695595047,
          2.724388635189004,
          2.8791347749254084,
          2.6557605193882217,
          3.7859143750051767,
          3.4667886371991568,
          3.857309355657027,
          3.0385240782651075,
          2.4541822268470397,
          2.3060553624007993,
          2.322401426160607,
          1.8435760656731157,
          2.383139730247638,
          2.6556566901582923,
          2.216702741658335,
          2.294204640818577,
          2.745641318980752,
          2.272765530871965,
          2.922183211246442,
          2.778642436865955,
          1.846647119530452,
          2.815452058010306,
          1.9045159688337865
         ],
         "y": [
          0.32033883146139275,
          0.36964487186921674,
          0.3076631084518731,
          0.36739276225374806,
          0.32217414260840155,
          0.33465994321395676,
          0.3376721055076673,
          0.3331875166958079,
          0.3550304745803665,
          0.3192893719381092,
          0.33478224798492756,
          0.33710238720057417,
          0.3150542990964916,
          0.3427103520452007,
          0.5287730337709162,
          0.5565927732797205,
          0.5137014886483264,
          0.6313298675910325,
          0.28910572477228746,
          0.2683508643863819,
          0.30662651767292426,
          0.31002641185809854,
          0.320392103586275,
          0.2962860796997461,
          0.3017632348319804,
          0.19679849962061574,
          0.16276305944825964,
          0.1859502533114701,
          0.1862987008699834,
          0.11744057653708913,
          0.20962499038848958,
          0.2180476906642606,
          0.239050481364431,
          0.19585189668224473,
          0.17384979934777292,
          0.22918958032676598,
          0.2670892974327063,
          0.21260909878260148,
          0.10165896540506122,
          0.06368342749975077,
          0.08951665892023711,
          0.10875074147648933,
          0.0549400750028117,
          0.0844211764448726,
          0.06132481823942444,
          0.09739840861722841,
          0.10922032990564769,
          0.05730768912418706,
          0.07681712109853331,
          0.06478083711333196,
          0.13585081540216026,
          0.09888084188418231,
          0.1010670242950852,
          0.11913776303294119,
          0.051233411449309006,
          -0.0075694833160473655,
          0.028606803849616207,
          0.10817371065672014,
          -0.048473113580069054,
          0.00828646544580279,
          -0.01647167751031067,
          0.02572164802533595,
          0.017534106599692817,
          -0.22068967845392018,
          -0.15519448877186093,
          -0.1524850716386593,
          -0.14051478952892188,
          -0.25109460158677405,
          -0.14572167821637494,
          -0.3185001266432384,
          -0.2906536331625433,
          -0.27499078921238757,
          -0.27603225354160604,
          -0.23118429657568423,
          -0.31357329482285196,
          -0.2625418186342624,
          -0.2056701565482257,
          -0.2206969871402045,
          -0.439828283657303,
          -0.38499216731533287,
          -0.3549109231192753,
          -0.45216125409135355,
          -0.4228265341261171,
          -0.420943631628803,
          -0.3919771085082316,
          -0.5870071990370432,
          -0.6045100416966391,
          -0.579104206199638,
          -0.4599092164294043,
          -0.5911418391989461,
          -0.539023692379566,
          -0.616736995955212,
          -0.6592324785364452,
          -0.6541014878447309,
          -0.6465018161014721,
          -0.6256216284924997,
          -0.6153743954020381,
          -0.6553270696504844,
          -0.6954438877594182,
          -0.7222755436571136
         ],
         "z": [
          0.6566625150371935,
          0.9648836233569161,
          0.9448984734374967,
          0.7930468886717251,
          0.9687365288265433,
          1.3877335557950286,
          1.6921806330734097,
          1.7431449226113984,
          1.55690590035164,
          1.6010632683202282,
          1.249366777336936,
          1.5113503458037862,
          1.2020899141314438,
          1.6215308771387675,
          0.8494674523990522,
          0.6006189940556361,
          0.8997394202452756,
          -0.02126303821355003,
          0.7695905120710744,
          0.9058245670876858,
          0.45625769441367914,
          0.5175226240872031,
          0.9222945073346304,
          0.7868758270328957,
          0.7981541059138605,
          0.6772035068326214,
          0.7331533474564687,
          0.3330613405846754,
          0.44325867357738746,
          0.6658664885071917,
          1.105640605739828,
          0.36219346825285,
          0.40080269414586916,
          0.7472057608115455,
          0.5051599752133359,
          0.14322219365166922,
          -0.13088743535327335,
          0.26081637079378794,
          0.4885663976418858,
          0.5888065333186042,
          0.31220706959536654,
          0.005076374755424494,
          0.4172733195516469,
          0.8470772266048285,
          0.48861994113233476,
          0.37300925997352474,
          0.07661014783760854,
          1.0370938034118373,
          1.095396237502407,
          0.8279515681687227,
          0.15052848335208488,
          0.4952432483720338,
          0.4328969693597293,
          0.5868375330167434,
          0.2954803747905893,
          1.369714458412494,
          0.6789346157614311,
          0.8766502576466337,
          -0.007920763991073259,
          -0.030576695457062528,
          0.13292575893082234,
          -0.34427473173074324,
          -0.18388624333415218,
          0.472115420553231,
          -0.07476608838682636,
          -0.13886622635126664,
          0.02030764307433601,
          -0.18931955500301653,
          0.21984126700128068,
          -0.048637103521765784,
          0.024071788931686034,
          -0.29159992875285945,
          0.0810780701812905,
          0.021966878101671437,
          0.3440304828826389,
          0.18521735722074933,
          -0.3901128263947531,
          -0.09892710071887312,
          -0.016380262461304845,
          -0.20970142551487742,
          -0.5019317615349878,
          0.42854752044376515,
          0.31816390856423893,
          0.30860932693669607,
          -0.3232506506148117,
          -0.25842475054949937,
          -0.19866508351137968,
          -0.21372147862828483,
          -0.15046202698996367,
          0.09139604014197843,
          -0.3446344942079677,
          -0.7635817797888876,
          -0.4435992261669989,
          -0.35433276153191046,
          -0.7058916824441247,
          -0.5493270374444847,
          -0.507286865075399,
          -0.7362099752560913,
          -0.25941061528398984,
          -1.1517659545973917
         ]
        },
        {
         "hovertemplate": "color=0<br>PC1=%{x}<br>PC2=%{y}<br>PC3=%{z}<extra></extra>",
         "legendgroup": "0",
         "marker": {
          "color": "#EF553B",
          "symbol": "circle"
         },
         "mode": "markers",
         "name": "0",
         "scene": "scene",
         "showlegend": true,
         "type": "scatter3d",
         "x": [
          -1.4207873669281632,
          -1.7580973495827472,
          -1.8104645759693214,
          -1.496026769533781,
          -2.8923272887755345,
          -3.020801727551429,
          -1.6130471806084405,
          -1.546327128944939,
          -2.0231336160372475,
          -1.3259559909558984,
          -2.055891671492581,
          -1.9206700325799995,
          -1.6439097266442106,
          -1.7141272915518775,
          -0.17076036229840086,
          -2.918601910541776,
          -3.2475138473623884,
          -2.990658558032495,
          -2.9857064380816216,
          -1.5305028530534122,
          -1.7999324785409163,
          -2.358836587517926,
          -1.3077190065028421,
          -1.7407374886421478,
          -3.0934563488668045,
          -3.13685139787093,
          -2.8202831563094293,
          -2.407118954658668,
          -0.5425826685856852,
          -2.9284818496001574,
          -2.945983920516323,
          -2.4765876480027966,
          -2.710167752507619,
          -0.8462361943815909,
          -1.5823719446629665,
          -3.3851599094375913,
          -3.3818057476456453,
          -3.2268552690620997,
          -1.7672825401934542,
          -1.9538329889097612,
          -1.5392322025442962,
          -1.7682427156896368,
          -2.6750575274522057,
          -2.967454584427309,
          -3.201116296615045,
          -3.5728237824814686,
          -3.2539477159520627,
          -2.078168711592649,
          -2.607165882067798,
          -2.536980353762289,
          -2.6151338235173673,
          -3.791242239725344,
          -3.63775502066014,
          -3.407952097175538,
          -3.117699194747775,
          -0.7571521160282886,
          -2.027057353231047,
          -2.8082183991659253,
          -3.6568038786766452,
          -3.3663698544587466,
          -3.117578846649784,
          -3.5898447422772306,
          -3.414733359330461,
          -3.0905785064857887,
          -2.6953812922557887,
          -2.7819234318550174,
          -2.216534228214355,
          -2.7131520132927633,
          -0.7350067195666854,
          -0.8173500870385815,
          -3.4591617999862363,
          -3.146878350337914,
          -2.7096653219252946,
          -2.8676319788149813,
          -3.015903933475214,
          -3.256401773945833,
          -3.0357933742084917,
          -3.350451581047475,
          -2.066446669156449
         ],
         "y": [
          -0.1755168424091727,
          -0.24053716116100984,
          -0.3530165206709523,
          -0.32413207950678874,
          -0.3645736659677919,
          -0.45848112928180357,
          -0.39372202167279247,
          -0.2832064562270439,
          -0.44404245849761675,
          -0.38923233075339303,
          -0.43529817941037474,
          -0.3710199080165867,
          -0.4493388079437917,
          -0.3805999014142049,
          -0.5108098208204359,
          -0.7027122411399048,
          -0.6905324220281966,
          -0.7479786026755084,
          -0.7255559470498651,
          -0.6263031041213679,
          -0.6556112946276454,
          -0.8236646722689298,
          -0.7654205954961599,
          -0.7074097456861991,
          -0.8884114833807538,
          -1.0024145294107782,
          -0.9785419350170793,
          -0.9106224313442701,
          -0.8022538820391607,
          -1.0636022127311557,
          -1.1238438172501504,
          -0.9555151845302771,
          -1.0667772446421044,
          -0.9899874336370607,
          -0.8899722547467569,
          -1.1866183905122154,
          -1.3232337098651286,
          -1.300650973813514,
          -1.1623790473861058,
          -1.1447838806694028,
          -1.0283769237040579,
          -1.0761759724004931,
          -1.1650553869142497,
          -1.3868856312638334,
          -1.2801200324195017,
          -1.525876126268146,
          -1.541355526562196,
          -1.4130128198410166,
          -1.4136388082795113,
          -1.557616461297601,
          -1.46424414819213,
          -1.7016591983607705,
          -1.5679379344539304,
          -1.728552336941578,
          -1.4527456474166796,
          -1.5787065984099011,
          -1.2883370587682854,
          -1.4412300275237022,
          -1.6857428742680607,
          -1.6196167589334114,
          -1.539647353746774,
          -1.6042305876650687,
          -1.6518858881337983,
          -1.6003703298202219,
          -1.618396427190648,
          -1.5554772534574668,
          -1.5882609818642517,
          -1.5193155980150255,
          -1.5360293085323078,
          -1.4840564745838472,
          -1.7357253498370775,
          -1.6279291023360576,
          -1.775005918404835,
          -1.7744184664813571,
          -1.7005695083852685,
          -1.8049798410948383,
          -1.676869614509059,
          -1.7864195732227512,
          -1.707451686111532
         ],
         "z": [
          2.4477738267595615,
          2.4777157580223585,
          2.3823709299522107,
          2.515562435080342,
          1.5020720399863219,
          1.6720644104738736,
          2.1804817332417707,
          2.5274843879945963,
          1.8918447225640254,
          2.350922606476086,
          1.9639171425376212,
          1.4969017466276304,
          1.9234335558131803,
          2.405765022728716,
          2.6015445735690563,
          1.2207027572514402,
          0.8823451228660846,
          1.5496349363658366,
          1.1762419596524794,
          2.073819257188757,
          1.9593493393226464,
          1.6646404740643208,
          2.2074609590760135,
          1.6510785236215952,
          1.2808782327204216,
          1.2017612480358533,
          1.3655386049681866,
          1.5112514478748558,
          1.9062881570808599,
          1.016823030914658,
          1.2956788897791423,
          1.1306863567724321,
          1.3634508912662606,
          1.892477337765294,
          2.0968275692711473,
          0.6707332194625706,
          0.866239679238368,
          1.1966261379898981,
          1.7872938239886282,
          1.730605157870876,
          1.731106355039872,
          1.7131951519844082,
          1.2376534173234446,
          1.3293719782618634,
          0.6919685073304112,
          0.5958974874851287,
          1.018275061981995,
          1.3340418537424112,
          0.9157088167486618,
          1.3947399206846045,
          1.2951974673416422,
          0.7131728207890567,
          0.5374253355141311,
          1.4160518883756816,
          0.7868878959450997,
          2.2547619644560073,
          1.9121906566017004,
          0.9823579438080181,
          0.7995864636786731,
          0.9659379310521623,
          0.7370022800659579,
          0.4393012473083094,
          0.754568333887153,
          1.0272348016766444,
          1.3230511730883832,
          0.9348857465365248,
          1.3965750192065332,
          0.6781654099469819,
          1.9127175878305718,
          1.7450867606697351,
          0.5552714975153707,
          0.6918628022650777,
          1.2804096306704769,
          1.1977014171513172,
          0.7883346800594554,
          1.0653045165404558,
          0.9882793586045203,
          0.869122487546351,
          1.4295246366787335
         ]
        },
        {
         "hovertemplate": "color=1<br>PC1=%{x}<br>PC2=%{y}<br>PC3=%{z}<extra></extra>",
         "legendgroup": "1",
         "marker": {
          "color": "#00cc96",
          "symbol": "circle"
         },
         "mode": "markers",
         "name": "1",
         "scene": "scene",
         "showlegend": true,
         "type": "scatter3d",
         "x": [
          0.7747612264006061,
          0.9605286840547924,
          0.5743500969848153,
          0.7373243977709647,
          -0.5456669240688596,
          1.1780844875777723,
          1.4833782035993928,
          1.432833957899309,
          1.2075312509149114,
          1.2978514683515265,
          1.5280108622888864,
          -0.6887863536598683,
          1.361891394009277,
          1.2705066182251306,
          -0.3035403448944276,
          -1.4258894519626355,
          -0.9156013599002374,
          -0.5136780473929342,
          -0.4830175277398241,
          -0.40868697001578047,
          -0.8586967949089089,
          1.0501177554269931,
          1.127882930938237,
          0.992576186323082,
          0.9327710866179517,
          0.5577883476138624,
          1.0114930884113584,
          -0.7943232281233128,
          -0.5921127881249325,
          0.5890420986151947,
          0.6921347768413122,
          0.8730027481854229,
          1.2387979734881664,
          -0.7810960057873609,
          -0.7176875356058543,
          1.3935378019870968,
          1.365730261283165,
          1.2210582014392068,
          -1.016406540279889,
          0.9090990452213431,
          1.2396796199187845,
          0.594436671602988,
          0.6046569294184283,
          1.018071521906739,
          1.3086446928832887,
          1.3153568515011138,
          0.9236394471539177,
          0.9734941688656048,
          -0.5525062394835295,
          0.779300320874453,
          -0.7578281388179475,
          0.7761807164453397,
          0.7728017334804127,
          -0.4524061364189982,
          -1.1845218344504034,
          0.8041948651518183,
          1.0848416240692935,
          0.12825736630161919,
          0.4440882683922373,
          -2.146560405213152,
          -1.737493676851576,
          0.8820267452227303,
          0.5241016148047427,
          1.2795784301402966,
          0.8606135770167291,
          -0.6074263888822907,
          -1.1512117473674102,
          -0.7352911873721587,
          1.7278190516420224,
          1.1997677830256943,
          0.8476958174857049,
          0.867363700697157,
          0.802948147253647,
          -0.5008727665435259,
          -0.5557254025838031,
          -1.637337441458089,
          -1.4718292473671941,
          -1.805226476708395,
          1.5370499924916887,
          0.700301312397649,
          0.33825854363113006,
          0.382710776924459,
          -0.579076785402025,
          0.6982284742843297,
          0.5784075794119058,
          0.8688744993842181,
          0.3212769415480401,
          0.8384441726183385,
          1.31531294952409,
          -1.5246157280568293,
          -1.2575866556815645,
          -0.3651807782937525,
          -0.641178208141427,
          0.8474244928209864,
          0.14525247069321287,
          -0.592496527631209,
          0.42349334973976405,
          0.762013337898007,
          -1.6481639568169857,
          -0.8789211747834264,
          0.52193970353128,
          -1.4122164019622665,
          -1.601607968680821,
          -0.8018347024006867,
          0.3526658263885984,
          0.3512393272813187,
          -0.8432573525478311,
          -1.6349460892628163,
          -0.8765375538751395,
          -0.9193847090357448,
          -0.8772540446539134,
          0.40398721547403704,
          -0.46059924765110166,
          -1.0254121455418186,
          -0.9326078826019426,
          -0.6239278326296603,
          0.39123884240632895,
          -0.9541080033670954,
          -2.3105689004184917,
          -1.755457315184726,
          -1.9422082585216567,
          -1.9813470863912868,
          0.6920414378027622,
          1.2091219446800003,
          0.18173334413088396,
          0.5996078230378761,
          -1.4621041599796039,
          -1.3092610708503603,
          -1.697277213689032,
          -1.3420174721315028,
          -1.1738342880977262,
          -1.0427480496559027,
          -0.7209704753759065,
          -1.986606654047559,
          -2.0831292149248117,
          0.05765644935224606,
          -0.5143825011157603,
          -0.7106000661815175,
          0.5176173189250196,
          -1.3056692092944586,
          -0.8823591706500297,
          -0.8842290826631977,
          -1.025157102049867,
          -1.4215094814013343,
          -1.566072163827157
         ],
         "y": [
          0.36885921040037956,
          0.4469696869147271,
          0.3893168737650648,
          0.3768769670232538,
          0.2049030140832841,
          0.2639839718943115,
          0.372743232071931,
          0.34071178148802833,
          0.29687049616015376,
          0.3276676510120593,
          0.28792129253900733,
          0.37033432794345816,
          0.2935127621504805,
          0.2997079401211816,
          0.2849388310065891,
          0.3287873906658455,
          0.18533611445340245,
          0.31128861886620257,
          0.2497549807399746,
          0.22411744490394644,
          0.09629794499586716,
          0.12094732384803503,
          0.1729500452548295,
          0.10717142581023516,
          0.10413723495389693,
          0.02011876444038193,
          0.09049920652765353,
          0.1725037047675892,
          0.2072999817184353,
          0.04576355199003922,
          -0.024198156431229606,
          -0.0252868473162023,
          0.06534154798841724,
          -0.07322622600667082,
          -0.053955579522115486,
          0.04986191735899945,
          0.06436190948934985,
          0.012994850288280096,
          -0.13542015326524162,
          -0.1335920886421786,
          -0.1181131997303948,
          0.004321934630066497,
          -0.021054433801951343,
          -0.009089882691061953,
          -0.036842863799096674,
          -0.01240481786728735,
          -0.06351370828860639,
          -0.18679381185284372,
          -0.12343115734653197,
          -0.15722066414353256,
          -0.10286027194438338,
          -0.11798726591983746,
          -0.12338096739120961,
          -0.3043390015107934,
          -0.27286492000100476,
          -0.3123690423870244,
          -0.332719442368284,
          -0.3174736624534501,
          -0.296386777782693,
          -0.2700575516235357,
          -0.18433636847475898,
          -0.23433009924996231,
          -0.16335073592616123,
          -0.23376887158906323,
          -0.20260041933990455,
          -0.3609803023300918,
          -0.5133656938154342,
          -0.4115771926753862,
          -0.32504125838206815,
          -0.32477691136426245,
          -0.371315836635814,
          -0.32742860934414636,
          -0.30913384540596756,
          -0.394427635621329,
          -0.4123196162552072,
          -0.4918966934783747,
          -0.5597507680589768,
          -0.7548049637200414,
          -0.5540091360057386,
          -0.42229200633168806,
          -0.45827977082424726,
          -0.4944281458766386,
          -0.52375652154749,
          -0.47872770423152533,
          -0.46561050193159226,
          -0.5029271993290699,
          -0.4914933055815446,
          -0.41322955351329105,
          -0.46918667227980837,
          -0.5993985818117769,
          -0.6468922745341614,
          -0.46637087018597145,
          -0.4688792276999776,
          -0.6366561694471046,
          -0.5622793761490208,
          -0.5509142728251691,
          -0.5780061980430484,
          -0.5992467270629589,
          -0.8532110768454445,
          -0.6834832710389809,
          -0.649599588884673,
          -0.8459019859331399,
          -0.8263315855241969,
          -0.6956285110040533,
          -0.825742201467252,
          -0.7612489731219974,
          -0.8391684039679768,
          -0.8802809615421263,
          -0.792586201948946,
          -0.731641847574425,
          -0.6623191066394528,
          -0.6575822075811234,
          -0.8178664545844447,
          -0.8994082266409416,
          -0.8818035514020811,
          -0.8957115560904259,
          -0.9278062614666739,
          -0.9978449493532018,
          -1.1139800408331757,
          -1.057199806742657,
          -1.0296569168286038,
          -0.8699253768353133,
          -0.8734246035958305,
          -1.0023399676789677,
          -0.8100730262273609,
          -0.7737769617863728,
          -0.9567575402884062,
          -0.9520983007620589,
          -1.1005131529726817,
          -1.0686723016610917,
          -1.042227818304575,
          -0.9745910967109674,
          -0.9340899012145286,
          -1.238149059705955,
          -1.1541061918764122,
          -1.0127922790116526,
          -1.297811143483243,
          -1.0109040776814213,
          -0.9998144054730409,
          -1.2263830581038266,
          -0.9832786899952568,
          -1.0079140370979607,
          -1.1701084628326004,
          -0.9782137823503826,
          -1.0223774950122093
         ],
         "z": [
          -0.15377418157563225,
          -0.11429286560360023,
          -0.27726132547130006,
          -0.08776910535924905,
          -0.3199790883449647,
          0.21939391581611822,
          -0.1775292901913265,
          -0.2052025050732894,
          -0.2887952438441132,
          -0.21177161360005528,
          0.19265063890892184,
          -0.9673927328097763,
          -0.1339848136245638,
          -0.11255488356628224,
          -0.07065132317049637,
          -1.232121954103075,
          -0.7001763087872818,
          -1.0226279509831204,
          -0.5597919022991894,
          -0.49290419346675685,
          -0.3956701934722709,
          -0.527339466750001,
          -0.7930318440017324,
          -0.4670460676705,
          -0.6221063011740454,
          -0.5304695568100825,
          -0.297238510305524,
          -1.2327888029651148,
          -0.9776166546751487,
          -0.10602679881349804,
          -0.6982249241497581,
          -0.566362254429348,
          -0.7228025700987214,
          -0.8281686298524875,
          -0.9354460609684051,
          -0.7503748351719678,
          -0.8437835025979133,
          -0.64642999204141,
          -0.5347226979108435,
          -0.7104748443454056,
          -0.6497961193970809,
          -1.6415416361429969,
          -1.3848997556059999,
          -1.4490105217302025,
          -1.0644417509425868,
          -1.1000416408960265,
          -1.2163605302617782,
          -0.4578269336813017,
          -0.9748119168067082,
          -0.6684294670857812,
          -1.2462553199180681,
          -0.44268964467069577,
          -0.899535520354913,
          -0.6837988312289266,
          -1.2134621790433988,
          -0.69494717090138,
          -0.5209871842950191,
          -1.172008009826609,
          -1.1074985452916621,
          -2.1167419584400724,
          -2.0290706028453322,
          -1.0761718434309597,
          -1.7256717995091067,
          -0.7593270028254429,
          -1.0808546089438078,
          -0.6028180267829794,
          -0.8499226082951049,
          -0.8446481412163737,
          -1.295021446136741,
          -0.8749996085097708,
          -1.0027220317608818,
          -1.164408178016916,
          -1.3759657532701028,
          -0.9854470277643661,
          -0.9552504548842209,
          -1.3097348905693909,
          -1.0294952444918213,
          -0.9869969013931739,
          -0.8065239223248032,
          -1.4686928101302335,
          -1.360810473247277,
          -1.0209319425856664,
          -0.987615528353408,
          -1.1781035031522793,
          -1.2204154107751526,
          -0.9179982158016486,
          -1.175707186917219,
          -1.3585225365638638,
          -0.6960519615911422,
          -1.2956182964679657,
          -0.9368009340941763,
          -1.0830231720292909,
          -1.3598976803338865,
          -0.8868132603360335,
          -1.5045136191648065,
          -1.3824283134739614,
          -1.4855691374759539,
          -1.1127240296092475,
          -1.000630463931822,
          -1.0807140666778665,
          -2.1373451548221127,
          -0.8701433920572255,
          -1.1454320362883172,
          -1.1844109089528598,
          -0.24249750325516933,
          -0.4950207614550948,
          -0.7556135262601154,
          -1.323022046500069,
          -1.3588430797979378,
          -1.6316199426554454,
          -1.9361797724356695,
          -1.6619012366042656,
          -0.9317732298221438,
          -1.3489490141055358,
          -1.4637047590016388,
          -1.0843959661397582,
          -0.6484142596777619,
          -0.9065676013804067,
          -1.6326363641939725,
          -1.382889617693559,
          -1.5726545519967976,
          -2.2916485051253788,
          -1.1863987080665017,
          -1.7367733886346,
          -1.504336948709565,
          -1.4416672026673523,
          -2.0665050385418757,
          -1.899820873487235,
          -1.8332939315656729,
          -1.5497718132083025,
          -1.5056375224897005,
          -1.7896064549923252,
          -1.5073317311921528,
          -1.4615483940608136,
          -1.829824536388017,
          -1.379087363532547,
          -1.6994997208644032,
          -1.1954984026925812,
          -1.0605524484049427,
          -1.0539860644156795,
          -1.6863882279245108,
          -1.4285270565946446,
          -0.7987966555909438,
          -1.9586311287154101,
          -2.0932835820826026
         ]
        },
        {
         "hovertemplate": "color=2<br>PC1=%{x}<br>PC2=%{y}<br>PC3=%{z}<extra></extra>",
         "legendgroup": "2",
         "marker": {
          "color": "#ab63fa",
          "symbol": "circle"
         },
         "mode": "markers",
         "name": "2",
         "scene": "scene",
         "showlegend": true,
         "type": "scatter3d",
         "x": [
          -2.692060704425849,
          -1.5406940584595927,
          -1.316010240782202,
          -1.6194904086095443,
          -1.0389517366724816,
          -1.6172304094512329,
          -2.567156192342916,
          -2.028774862773804,
          -2.5191951498803276,
          -2.6550278319594733,
          -0.6378659915312032,
          -1.688101294642451,
          -1.4581793247445591,
          -2.188386916718371,
          -2.8418273714615085,
          -1.7667636307264831,
          -2.9683680081667467,
          -1.7999403917498615,
          -1.1335508779166856,
          -0.8566926285347515,
          -1.0724572985984686,
          -2.140607613499652,
          -2.256452939059835,
          -1.835941173723811,
          -1.97486735720389,
          -1.7722549615072003,
          -2.520698397315936,
          -2.151521666561257,
          -2.255849991446133,
          -1.375513062056845,
          -1.4855516852521975,
          -1.1168031741862003,
          -1.1251668185493668,
          -1.932971570796551,
          -2.042459361504647,
          -2.039397654397404,
          -2.3261615725976026,
          -2.184401729988538,
          -1.0152258956048867,
          -1.6465495549137348,
          0.1425041572941093,
          -3.315615867823588,
          -2.2981455314435437,
          -2.21964088653628,
          -1.0834037012748219,
          -3.9474917242742142,
          -1.0564905822524797,
          0.013854806152469763,
          -1.2627745411721156,
          0.05585348521053735,
          -2.5816943776858454,
          -2.6017082802814375,
          -1.4660613543359677,
          -2.574809455902662,
          -2.838621746378267,
          -2.986967471174882,
          -2.7096726421926314,
          -4.081465521802716,
          -4.1049276775084085,
          -2.6202804769930075,
          -2.4833590434624493,
          -2.7967618316591767,
          -2.343483703750006,
          -2.5649686280254955,
          -2.220192451862845,
          -1.8729543084866642,
          -2.95305087674035,
          -4.345385388105531
         ],
         "y": [
          2.8963047558532913,
          2.8880670591107243,
          2.8619662709239733,
          2.8905999047184214,
          2.7936877988624738,
          2.65729390486976,
          2.708287903440591,
          2.630789537630881,
          2.7465723321324957,
          2.782597202319481,
          2.7618564687139355,
          2.7196722444412944,
          2.770865732026837,
          2.6454137992047464,
          2.5675432235097886,
          2.5025523443974977,
          2.4974414475730415,
          2.5282529009198553,
          2.594288858125678,
          2.644441840046537,
          2.5210615996244834,
          2.343571641813594,
          2.3860661555163385,
          2.371097168143639,
          2.4252905300587746,
          2.3545797902115404,
          2.2961546738741054,
          2.3080505063964276,
          2.188660187085612,
          2.3279731450063346,
          2.3563553216458226,
          2.341047016670804,
          2.270863554688398,
          2.122861959235313,
          2.1953651839236614,
          2.138169211380603,
          2.079228200615832,
          2.035621192083478,
          2.2859142208890475,
          2.3997127914012486,
          2.3171118034430247,
          1.8955183824719812,
          1.9716245235678982,
          1.9384689191771787,
          2.101243039475354,
          1.6817972054516155,
          2.02977377743129,
          2.0326457227207717,
          2.0346393406112315,
          2.087273494531778,
          1.817241889618452,
          1.6826216591640246,
          1.8583178862053844,
          1.930863106450247,
          1.587965437578194,
          1.393310423977709,
          1.5525336429146972,
          1.4373170740532142,
          1.4877077145225333,
          1.5422272754891557,
          1.7150175802169858,
          1.6269861539710684,
          1.5251473224794254,
          1.4365885616254213,
          1.6249470956717456,
          1.5074060075944642,
          1.2802153359460071,
          1.2616269767666672
         ],
         "z": [
          -0.2221616526695112,
          0.4805555098260754,
          1.0029332219438225,
          0.542542777025001,
          1.466020753074,
          0.980391188750669,
          -0.0481839576251532,
          0.8012220341880872,
          0.004688073917119138,
          -0.8531535636589056,
          0.959738796864438,
          0.16963386908432865,
          -0.02376535747348277,
          0.11497623527043252,
          -0.5948856692152613,
          0.5491674051418594,
          -0.3515225157378014,
          0.47809205959847884,
          0.8220944730308957,
          0.6991577121067996,
          0.9100217492589847,
          0.23306759755330234,
          0.3264558997930663,
          0.5415695679522048,
          0.38161724913829687,
          0.6097277691806766,
          0.21305614107641563,
          0.08811340049546276,
          0.47717421930579457,
          0.4698075747649199,
          0.09082695559100552,
          0.5639217209103541,
          0.8241395947876469,
          0.21832971265999304,
          -0.007866563072599574,
          0.25053128520261153,
          0.34937370446448757,
          0.6833013748542774,
          0.30160044014173704,
          -0.7904088784943919,
          0.26610932554704547,
          -0.5714603829384862,
          0.25462511126600107,
          0.2983281453079554,
          0.7415097684076146,
          -1.2474983000065138,
          0.11004317337526959,
          0.6378673564706839,
          0.1958307241093346,
          0.32117022014992247,
          0.033216332029034505,
          0.08462124617371924,
          -0.8821831022857234,
          -1.6933066820986868,
          -0.08362557506200262,
          -0.16187918829313022,
          -0.28664398821617465,
          -1.4827839532944258,
          -1.8139212622011327,
          -1.0531612475959227,
          -1.3453318428737906,
          -0.2595545016979672,
          -0.12837863016689535,
          -0.13766151410787783,
          -1.1228577798423198,
          -1.005639474221225,
          -0.41966213373091127,
          -2.1192352006962785
         ]
        }
       ],
       "layout": {
        "autosize": true,
        "legend": {
         "title": {
          "text": "color"
         },
         "tracegroupgap": 0
        },
        "margin": {
         "t": 60
        },
        "scene": {
         "aspectmode": "auto",
         "aspectratio": {
          "x": 1.5800923334563446,
          "y": 0.7797777911424518,
          "z": 0.8116086596873553
         },
         "camera": {
          "center": {
           "x": 0,
           "y": 0,
           "z": 0
          },
          "eye": {
           "x": -0.7802363120621811,
           "y": -0.7902192768347981,
           "z": 0.1407589391137088
          },
          "projection": {
           "type": "perspective"
          },
          "up": {
           "x": 0,
           "y": 0,
           "z": 1
          }
         },
         "domain": {
          "x": [
           0,
           1
          ],
          "y": [
           0,
           1
          ]
         },
         "xaxis": {
          "title": {
           "text": "PC1"
          },
          "type": "linear"
         },
         "yaxis": {
          "title": {
           "text": "PC2"
          },
          "type": "linear"
         },
         "zaxis": {
          "title": {
           "text": "PC3"
          },
          "type": "linear"
         }
        },
        "template": {
         "data": {
          "bar": [
           {
            "error_x": {
             "color": "#2a3f5f"
            },
            "error_y": {
             "color": "#2a3f5f"
            },
            "marker": {
             "line": {
              "color": "#E5ECF6",
              "width": 0.5
             },
             "pattern": {
              "fillmode": "overlay",
              "size": 10,
              "solidity": 0.2
             }
            },
            "type": "bar"
           }
          ],
          "barpolar": [
           {
            "marker": {
             "line": {
              "color": "#E5ECF6",
              "width": 0.5
             },
             "pattern": {
              "fillmode": "overlay",
              "size": 10,
              "solidity": 0.2
             }
            },
            "type": "barpolar"
           }
          ],
          "carpet": [
           {
            "aaxis": {
             "endlinecolor": "#2a3f5f",
             "gridcolor": "white",
             "linecolor": "white",
             "minorgridcolor": "white",
             "startlinecolor": "#2a3f5f"
            },
            "baxis": {
             "endlinecolor": "#2a3f5f",
             "gridcolor": "white",
             "linecolor": "white",
             "minorgridcolor": "white",
             "startlinecolor": "#2a3f5f"
            },
            "type": "carpet"
           }
          ],
          "choropleth": [
           {
            "colorbar": {
             "outlinewidth": 0,
             "ticks": ""
            },
            "type": "choropleth"
           }
          ],
          "contour": [
           {
            "colorbar": {
             "outlinewidth": 0,
             "ticks": ""
            },
            "colorscale": [
             [
              0,
              "#0d0887"
             ],
             [
              0.1111111111111111,
              "#46039f"
             ],
             [
              0.2222222222222222,
              "#7201a8"
             ],
             [
              0.3333333333333333,
              "#9c179e"
             ],
             [
              0.4444444444444444,
              "#bd3786"
             ],
             [
              0.5555555555555556,
              "#d8576b"
             ],
             [
              0.6666666666666666,
              "#ed7953"
             ],
             [
              0.7777777777777778,
              "#fb9f3a"
             ],
             [
              0.8888888888888888,
              "#fdca26"
             ],
             [
              1,
              "#f0f921"
             ]
            ],
            "type": "contour"
           }
          ],
          "contourcarpet": [
           {
            "colorbar": {
             "outlinewidth": 0,
             "ticks": ""
            },
            "type": "contourcarpet"
           }
          ],
          "heatmap": [
           {
            "colorbar": {
             "outlinewidth": 0,
             "ticks": ""
            },
            "colorscale": [
             [
              0,
              "#0d0887"
             ],
             [
              0.1111111111111111,
              "#46039f"
             ],
             [
              0.2222222222222222,
              "#7201a8"
             ],
             [
              0.3333333333333333,
              "#9c179e"
             ],
             [
              0.4444444444444444,
              "#bd3786"
             ],
             [
              0.5555555555555556,
              "#d8576b"
             ],
             [
              0.6666666666666666,
              "#ed7953"
             ],
             [
              0.7777777777777778,
              "#fb9f3a"
             ],
             [
              0.8888888888888888,
              "#fdca26"
             ],
             [
              1,
              "#f0f921"
             ]
            ],
            "type": "heatmap"
           }
          ],
          "heatmapgl": [
           {
            "colorbar": {
             "outlinewidth": 0,
             "ticks": ""
            },
            "colorscale": [
             [
              0,
              "#0d0887"
             ],
             [
              0.1111111111111111,
              "#46039f"
             ],
             [
              0.2222222222222222,
              "#7201a8"
             ],
             [
              0.3333333333333333,
              "#9c179e"
             ],
             [
              0.4444444444444444,
              "#bd3786"
             ],
             [
              0.5555555555555556,
              "#d8576b"
             ],
             [
              0.6666666666666666,
              "#ed7953"
             ],
             [
              0.7777777777777778,
              "#fb9f3a"
             ],
             [
              0.8888888888888888,
              "#fdca26"
             ],
             [
              1,
              "#f0f921"
             ]
            ],
            "type": "heatmapgl"
           }
          ],
          "histogram": [
           {
            "marker": {
             "pattern": {
              "fillmode": "overlay",
              "size": 10,
              "solidity": 0.2
             }
            },
            "type": "histogram"
           }
          ],
          "histogram2d": [
           {
            "colorbar": {
             "outlinewidth": 0,
             "ticks": ""
            },
            "colorscale": [
             [
              0,
              "#0d0887"
             ],
             [
              0.1111111111111111,
              "#46039f"
             ],
             [
              0.2222222222222222,
              "#7201a8"
             ],
             [
              0.3333333333333333,
              "#9c179e"
             ],
             [
              0.4444444444444444,
              "#bd3786"
             ],
             [
              0.5555555555555556,
              "#d8576b"
             ],
             [
              0.6666666666666666,
              "#ed7953"
             ],
             [
              0.7777777777777778,
              "#fb9f3a"
             ],
             [
              0.8888888888888888,
              "#fdca26"
             ],
             [
              1,
              "#f0f921"
             ]
            ],
            "type": "histogram2d"
           }
          ],
          "histogram2dcontour": [
           {
            "colorbar": {
             "outlinewidth": 0,
             "ticks": ""
            },
            "colorscale": [
             [
              0,
              "#0d0887"
             ],
             [
              0.1111111111111111,
              "#46039f"
             ],
             [
              0.2222222222222222,
              "#7201a8"
             ],
             [
              0.3333333333333333,
              "#9c179e"
             ],
             [
              0.4444444444444444,
              "#bd3786"
             ],
             [
              0.5555555555555556,
              "#d8576b"
             ],
             [
              0.6666666666666666,
              "#ed7953"
             ],
             [
              0.7777777777777778,
              "#fb9f3a"
             ],
             [
              0.8888888888888888,
              "#fdca26"
             ],
             [
              1,
              "#f0f921"
             ]
            ],
            "type": "histogram2dcontour"
           }
          ],
          "mesh3d": [
           {
            "colorbar": {
             "outlinewidth": 0,
             "ticks": ""
            },
            "type": "mesh3d"
           }
          ],
          "parcoords": [
           {
            "line": {
             "colorbar": {
              "outlinewidth": 0,
              "ticks": ""
             }
            },
            "type": "parcoords"
           }
          ],
          "pie": [
           {
            "automargin": true,
            "type": "pie"
           }
          ],
          "scatter": [
           {
            "marker": {
             "colorbar": {
              "outlinewidth": 0,
              "ticks": ""
             }
            },
            "type": "scatter"
           }
          ],
          "scatter3d": [
           {
            "line": {
             "colorbar": {
              "outlinewidth": 0,
              "ticks": ""
             }
            },
            "marker": {
             "colorbar": {
              "outlinewidth": 0,
              "ticks": ""
             }
            },
            "type": "scatter3d"
           }
          ],
          "scattercarpet": [
           {
            "marker": {
             "colorbar": {
              "outlinewidth": 0,
              "ticks": ""
             }
            },
            "type": "scattercarpet"
           }
          ],
          "scattergeo": [
           {
            "marker": {
             "colorbar": {
              "outlinewidth": 0,
              "ticks": ""
             }
            },
            "type": "scattergeo"
           }
          ],
          "scattergl": [
           {
            "marker": {
             "colorbar": {
              "outlinewidth": 0,
              "ticks": ""
             }
            },
            "type": "scattergl"
           }
          ],
          "scattermapbox": [
           {
            "marker": {
             "colorbar": {
              "outlinewidth": 0,
              "ticks": ""
             }
            },
            "type": "scattermapbox"
           }
          ],
          "scatterpolar": [
           {
            "marker": {
             "colorbar": {
              "outlinewidth": 0,
              "ticks": ""
             }
            },
            "type": "scatterpolar"
           }
          ],
          "scatterpolargl": [
           {
            "marker": {
             "colorbar": {
              "outlinewidth": 0,
              "ticks": ""
             }
            },
            "type": "scatterpolargl"
           }
          ],
          "scatterternary": [
           {
            "marker": {
             "colorbar": {
              "outlinewidth": 0,
              "ticks": ""
             }
            },
            "type": "scatterternary"
           }
          ],
          "surface": [
           {
            "colorbar": {
             "outlinewidth": 0,
             "ticks": ""
            },
            "colorscale": [
             [
              0,
              "#0d0887"
             ],
             [
              0.1111111111111111,
              "#46039f"
             ],
             [
              0.2222222222222222,
              "#7201a8"
             ],
             [
              0.3333333333333333,
              "#9c179e"
             ],
             [
              0.4444444444444444,
              "#bd3786"
             ],
             [
              0.5555555555555556,
              "#d8576b"
             ],
             [
              0.6666666666666666,
              "#ed7953"
             ],
             [
              0.7777777777777778,
              "#fb9f3a"
             ],
             [
              0.8888888888888888,
              "#fdca26"
             ],
             [
              1,
              "#f0f921"
             ]
            ],
            "type": "surface"
           }
          ],
          "table": [
           {
            "cells": {
             "fill": {
              "color": "#EBF0F8"
             },
             "line": {
              "color": "white"
             }
            },
            "header": {
             "fill": {
              "color": "#C8D4E3"
             },
             "line": {
              "color": "white"
             }
            },
            "type": "table"
           }
          ]
         },
         "layout": {
          "annotationdefaults": {
           "arrowcolor": "#2a3f5f",
           "arrowhead": 0,
           "arrowwidth": 1
          },
          "autotypenumbers": "strict",
          "coloraxis": {
           "colorbar": {
            "outlinewidth": 0,
            "ticks": ""
           }
          },
          "colorscale": {
           "diverging": [
            [
             0,
             "#8e0152"
            ],
            [
             0.1,
             "#c51b7d"
            ],
            [
             0.2,
             "#de77ae"
            ],
            [
             0.3,
             "#f1b6da"
            ],
            [
             0.4,
             "#fde0ef"
            ],
            [
             0.5,
             "#f7f7f7"
            ],
            [
             0.6,
             "#e6f5d0"
            ],
            [
             0.7,
             "#b8e186"
            ],
            [
             0.8,
             "#7fbc41"
            ],
            [
             0.9,
             "#4d9221"
            ],
            [
             1,
             "#276419"
            ]
           ],
           "sequential": [
            [
             0,
             "#0d0887"
            ],
            [
             0.1111111111111111,
             "#46039f"
            ],
            [
             0.2222222222222222,
             "#7201a8"
            ],
            [
             0.3333333333333333,
             "#9c179e"
            ],
            [
             0.4444444444444444,
             "#bd3786"
            ],
            [
             0.5555555555555556,
             "#d8576b"
            ],
            [
             0.6666666666666666,
             "#ed7953"
            ],
            [
             0.7777777777777778,
             "#fb9f3a"
            ],
            [
             0.8888888888888888,
             "#fdca26"
            ],
            [
             1,
             "#f0f921"
            ]
           ],
           "sequentialminus": [
            [
             0,
             "#0d0887"
            ],
            [
             0.1111111111111111,
             "#46039f"
            ],
            [
             0.2222222222222222,
             "#7201a8"
            ],
            [
             0.3333333333333333,
             "#9c179e"
            ],
            [
             0.4444444444444444,
             "#bd3786"
            ],
            [
             0.5555555555555556,
             "#d8576b"
            ],
            [
             0.6666666666666666,
             "#ed7953"
            ],
            [
             0.7777777777777778,
             "#fb9f3a"
            ],
            [
             0.8888888888888888,
             "#fdca26"
            ],
            [
             1,
             "#f0f921"
            ]
           ]
          },
          "colorway": [
           "#636efa",
           "#EF553B",
           "#00cc96",
           "#ab63fa",
           "#FFA15A",
           "#19d3f3",
           "#FF6692",
           "#B6E880",
           "#FF97FF",
           "#FECB52"
          ],
          "font": {
           "color": "#2a3f5f"
          },
          "geo": {
           "bgcolor": "white",
           "lakecolor": "white",
           "landcolor": "#E5ECF6",
           "showlakes": true,
           "showland": true,
           "subunitcolor": "white"
          },
          "hoverlabel": {
           "align": "left"
          },
          "hovermode": "closest",
          "mapbox": {
           "style": "light"
          },
          "paper_bgcolor": "white",
          "plot_bgcolor": "#E5ECF6",
          "polar": {
           "angularaxis": {
            "gridcolor": "white",
            "linecolor": "white",
            "ticks": ""
           },
           "bgcolor": "#E5ECF6",
           "radialaxis": {
            "gridcolor": "white",
            "linecolor": "white",
            "ticks": ""
           }
          },
          "scene": {
           "xaxis": {
            "backgroundcolor": "#E5ECF6",
            "gridcolor": "white",
            "gridwidth": 2,
            "linecolor": "white",
            "showbackground": true,
            "ticks": "",
            "zerolinecolor": "white"
           },
           "yaxis": {
            "backgroundcolor": "#E5ECF6",
            "gridcolor": "white",
            "gridwidth": 2,
            "linecolor": "white",
            "showbackground": true,
            "ticks": "",
            "zerolinecolor": "white"
           },
           "zaxis": {
            "backgroundcolor": "#E5ECF6",
            "gridcolor": "white",
            "gridwidth": 2,
            "linecolor": "white",
            "showbackground": true,
            "ticks": "",
            "zerolinecolor": "white"
           }
          },
          "shapedefaults": {
           "line": {
            "color": "#2a3f5f"
           }
          },
          "ternary": {
           "aaxis": {
            "gridcolor": "white",
            "linecolor": "white",
            "ticks": ""
           },
           "baxis": {
            "gridcolor": "white",
            "linecolor": "white",
            "ticks": ""
           },
           "bgcolor": "#E5ECF6",
           "caxis": {
            "gridcolor": "white",
            "linecolor": "white",
            "ticks": ""
           }
          },
          "title": {
           "x": 0.05
          },
          "xaxis": {
           "automargin": true,
           "gridcolor": "white",
           "linecolor": "white",
           "ticks": "",
           "title": {
            "standoff": 15
           },
           "zerolinecolor": "white",
           "zerolinewidth": 2
          },
          "yaxis": {
           "automargin": true,
           "gridcolor": "white",
           "linecolor": "white",
           "ticks": "",
           "title": {
            "standoff": 15
           },
           "zerolinecolor": "white",
           "zerolinewidth": 2
          }
         }
        }
       }
      },
      "image/png": "[encoded data removed]",
      "text/html": [
       "<div>                            <div id=\"7fcb1822-cfec-402f-abb4-43ea59ee91df\" class=\"plotly-graph-div\" style=\"height:525px; width:100%;\"></div>            <script type=\"text/javascript\">                require([\"plotly\"], function(Plotly) {                    window.PLOTLYENV=window.PLOTLYENV || {};                                    if (document.getElementById(\"7fcb1822-cfec-402f-abb4-43ea59ee91df\")) {                    Plotly.newPlot(                        \"7fcb1822-cfec-402f-abb4-43ea59ee91df\",                        [{\"hovertemplate\":\"color=3<br>PC1=%{x}<br>PC2=%{y}<br>PC3=%{z}<extra></extra>\",\"legendgroup\":\"3\",\"marker\":{\"color\":\"#636efa\",\"symbol\":\"circle\"},\"mode\":\"markers\",\"name\":\"3\",\"scene\":\"scene\",\"showlegend\":true,\"type\":\"scatter3d\",\"x\":[2.8010053925697003,3.5843677216333694,3.0997424557229882,3.0493563335969744,3.0374694323636136,4.64258774182745,5.098861210497749,5.021478315769318,5.094612727458124,4.325466600106039,3.8361061590902117,3.819686885185852,3.8385036763689526,4.4868709117224,4.547196234612775,3.9972040266291646,4.228339292928204,3.8113009862357092,3.7685759448259493,4.220039317432944,3.494294219184748,3.3564331820271898,4.521474412905388,4.301000457807533,4.529235148279989,3.7929463552318716,4.0869548908831055,3.2296706797600163,3.4754409451373043,3.0507238553525755,4.8684201418539015,3.663033734601399,3.738797983489546,4.25434407884225,3.155326319576284,3.0226085921166996,3.0117340397365786,3.205720511540576,3.6706966935924927,3.1400634496732382,3.323420417103428,2.9026925657272153,3.104537124110996,4.7699293036050365,3.87064457664869,3.6259236348577,3.1811127795096605,4.879297941927822,5.180999991696969,3.761918401375256,4.027588887903247,4.241616905332304,3.911147712102041,3.9932972647942213,3.271613677293492,4.65933302288281,3.0675541341023034,3.796127917691505,2.8752930743177205,3.508584350839617,3.3183203511909247,3.015897799787,2.994327396999508,3.9592831825981376,3.23964555378279,3.1003691098749484,3.4637186356491516,1.8111953054629577,2.5942119965642934,2.834536896342746,3.042790310284386,2.531958534427682,3.2894506455161414,3.053083430495636,3.6055126555354335,3.286450296424116,2.600728894454318,2.897338695595047,2.724388635189004,2.8791347749254084,2.6557605193882217,3.7859143750051767,3.4667886371991568,3.857309355657027,3.0385240782651075,2.4541822268470397,2.3060553624007993,2.322401426160607,1.8435760656731157,2.383139730247638,2.6556566901582923,2.216702741658335,2.294204640818577,2.745641318980752,2.272765530871965,2.922183211246442,2.778642436865955,1.846647119530452,2.815452058010306,1.9045159688337865],\"y\":[0.32033883146139275,0.36964487186921674,0.3076631084518731,0.36739276225374806,0.32217414260840155,0.33465994321395676,0.3376721055076673,0.3331875166958079,0.3550304745803665,0.3192893719381092,0.33478224798492756,0.33710238720057417,0.3150542990964916,0.3427103520452007,0.5287730337709162,0.5565927732797205,0.5137014886483264,0.6313298675910325,0.28910572477228746,0.2683508643863819,0.30662651767292426,0.31002641185809854,0.320392103586275,0.2962860796997461,0.3017632348319804,0.19679849962061574,0.16276305944825964,0.1859502533114701,0.1862987008699834,0.11744057653708913,0.20962499038848958,0.2180476906642606,0.239050481364431,0.19585189668224473,0.17384979934777292,0.22918958032676598,0.2670892974327063,0.21260909878260148,0.10165896540506122,0.06368342749975077,0.08951665892023711,0.10875074147648933,0.0549400750028117,0.0844211764448726,0.06132481823942444,0.09739840861722841,0.10922032990564769,0.05730768912418706,0.07681712109853331,0.06478083711333196,0.13585081540216026,0.09888084188418231,0.1010670242950852,0.11913776303294119,0.051233411449309006,-0.0075694833160473655,0.028606803849616207,0.10817371065672014,-0.048473113580069054,0.00828646544580279,-0.01647167751031067,0.02572164802533595,0.017534106599692817,-0.22068967845392018,-0.15519448877186093,-0.1524850716386593,-0.14051478952892188,-0.25109460158677405,-0.14572167821637494,-0.3185001266432384,-0.2906536331625433,-0.27499078921238757,-0.27603225354160604,-0.23118429657568423,-0.31357329482285196,-0.2625418186342624,-0.2056701565482257,-0.2206969871402045,-0.439828283657303,-0.38499216731533287,-0.3549109231192753,-0.45216125409135355,-0.4228265341261171,-0.420943631628803,-0.3919771085082316,-0.5870071990370432,-0.6045100416966391,-0.579104206199638,-0.4599092164294043,-0.5911418391989461,-0.539023692379566,-0.616736995955212,-0.6592324785364452,-0.6541014878447309,-0.6465018161014721,-0.6256216284924997,-0.6153743954020381,-0.6553270696504844,-0.6954438877594182,-0.7222755436571136],\"z\":[0.6566625150371935,0.9648836233569161,0.9448984734374967,0.7930468886717251,0.9687365288265433,1.3877335557950286,1.6921806330734097,1.7431449226113984,1.55690590035164,1.6010632683202282,1.249366777336936,1.5113503458037862,1.2020899141314438,1.6215308771387675,0.8494674523990522,0.6006189940556361,0.8997394202452756,-0.02126303821355003,0.7695905120710744,0.9058245670876858,0.45625769441367914,0.5175226240872031,0.9222945073346304,0.7868758270328957,0.7981541059138605,0.6772035068326214,0.7331533474564687,0.3330613405846754,0.44325867357738746,0.6658664885071917,1.105640605739828,0.36219346825285,0.40080269414586916,0.7472057608115455,0.5051599752133359,0.14322219365166922,-0.13088743535327335,0.26081637079378794,0.4885663976418858,0.5888065333186042,0.31220706959536654,0.005076374755424494,0.4172733195516469,0.8470772266048285,0.48861994113233476,0.37300925997352474,0.07661014783760854,1.0370938034118373,1.095396237502407,0.8279515681687227,0.15052848335208488,0.4952432483720338,0.4328969693597293,0.5868375330167434,0.2954803747905893,1.369714458412494,0.6789346157614311,0.8766502576466337,-0.007920763991073259,-0.030576695457062528,0.13292575893082234,-0.34427473173074324,-0.18388624333415218,0.472115420553231,-0.07476608838682636,-0.13886622635126664,0.02030764307433601,-0.18931955500301653,0.21984126700128068,-0.048637103521765784,0.024071788931686034,-0.29159992875285945,0.0810780701812905,0.021966878101671437,0.3440304828826389,0.18521735722074933,-0.3901128263947531,-0.09892710071887312,-0.016380262461304845,-0.20970142551487742,-0.5019317615349878,0.42854752044376515,0.31816390856423893,0.30860932693669607,-0.3232506506148117,-0.25842475054949937,-0.19866508351137968,-0.21372147862828483,-0.15046202698996367,0.09139604014197843,-0.3446344942079677,-0.7635817797888876,-0.4435992261669989,-0.35433276153191046,-0.7058916824441247,-0.5493270374444847,-0.507286865075399,-0.7362099752560913,-0.25941061528398984,-1.1517659545973917]},{\"hovertemplate\":\"color=0<br>PC1=%{x}<br>PC2=%{y}<br>PC3=%{z}<extra></extra>\",\"legendgroup\":\"0\",\"marker\":{\"color\":\"#EF553B\",\"symbol\":\"circle\"},\"mode\":\"markers\",\"name\":\"0\",\"scene\":\"scene\",\"showlegend\":true,\"type\":\"scatter3d\",\"x\":[-1.4207873669281632,-1.7580973495827472,-1.8104645759693214,-1.496026769533781,-2.8923272887755345,-3.020801727551429,-1.6130471806084405,-1.546327128944939,-2.0231336160372475,-1.3259559909558984,-2.055891671492581,-1.9206700325799995,-1.6439097266442106,-1.7141272915518775,-0.17076036229840086,-2.918601910541776,-3.2475138473623884,-2.990658558032495,-2.9857064380816216,-1.5305028530534122,-1.7999324785409163,-2.358836587517926,-1.3077190065028421,-1.7407374886421478,-3.0934563488668045,-3.13685139787093,-2.8202831563094293,-2.407118954658668,-0.5425826685856852,-2.9284818496001574,-2.945983920516323,-2.4765876480027966,-2.710167752507619,-0.8462361943815909,-1.5823719446629665,-3.3851599094375913,-3.3818057476456453,-3.2268552690620997,-1.7672825401934542,-1.9538329889097612,-1.5392322025442962,-1.7682427156896368,-2.6750575274522057,-2.967454584427309,-3.201116296615045,-3.5728237824814686,-3.2539477159520627,-2.078168711592649,-2.607165882067798,-2.536980353762289,-2.6151338235173673,-3.791242239725344,-3.63775502066014,-3.407952097175538,-3.117699194747775,-0.7571521160282886,-2.027057353231047,-2.8082183991659253,-3.6568038786766452,-3.3663698544587466,-3.117578846649784,-3.5898447422772306,-3.414733359330461,-3.0905785064857887,-2.6953812922557887,-2.7819234318550174,-2.216534228214355,-2.7131520132927633,-0.7350067195666854,-0.8173500870385815,-3.4591617999862363,-3.146878350337914,-2.7096653219252946,-2.8676319788149813,-3.015903933475214,-3.256401773945833,-3.0357933742084917,-3.350451581047475,-2.066446669156449],\"y\":[-0.1755168424091727,-0.24053716116100984,-0.3530165206709523,-0.32413207950678874,-0.3645736659677919,-0.45848112928180357,-0.39372202167279247,-0.2832064562270439,-0.44404245849761675,-0.38923233075339303,-0.43529817941037474,-0.3710199080165867,-0.4493388079437917,-0.3805999014142049,-0.5108098208204359,-0.7027122411399048,-0.6905324220281966,-0.7479786026755084,-0.7255559470498651,-0.6263031041213679,-0.6556112946276454,-0.8236646722689298,-0.7654205954961599,-0.7074097456861991,-0.8884114833807538,-1.0024145294107782,-0.9785419350170793,-0.9106224313442701,-0.8022538820391607,-1.0636022127311557,-1.1238438172501504,-0.9555151845302771,-1.0667772446421044,-0.9899874336370607,-0.8899722547467569,-1.1866183905122154,-1.3232337098651286,-1.300650973813514,-1.1623790473861058,-1.1447838806694028,-1.0283769237040579,-1.0761759724004931,-1.1650553869142497,-1.3868856312638334,-1.2801200324195017,-1.525876126268146,-1.541355526562196,-1.4130128198410166,-1.4136388082795113,-1.557616461297601,-1.46424414819213,-1.7016591983607705,-1.5679379344539304,-1.728552336941578,-1.4527456474166796,-1.5787065984099011,-1.2883370587682854,-1.4412300275237022,-1.6857428742680607,-1.6196167589334114,-1.539647353746774,-1.6042305876650687,-1.6518858881337983,-1.6003703298202219,-1.618396427190648,-1.5554772534574668,-1.5882609818642517,-1.5193155980150255,-1.5360293085323078,-1.4840564745838472,-1.7357253498370775,-1.6279291023360576,-1.775005918404835,-1.7744184664813571,-1.7005695083852685,-1.8049798410948383,-1.676869614509059,-1.7864195732227512,-1.707451686111532],\"z\":[2.4477738267595615,2.4777157580223585,2.3823709299522107,2.515562435080342,1.5020720399863219,1.6720644104738736,2.1804817332417707,2.5274843879945963,1.8918447225640254,2.350922606476086,1.9639171425376212,1.4969017466276304,1.9234335558131803,2.405765022728716,2.6015445735690563,1.2207027572514402,0.8823451228660846,1.5496349363658366,1.1762419596524794,2.073819257188757,1.9593493393226464,1.6646404740643208,2.2074609590760135,1.6510785236215952,1.2808782327204216,1.2017612480358533,1.3655386049681866,1.5112514478748558,1.9062881570808599,1.016823030914658,1.2956788897791423,1.1306863567724321,1.3634508912662606,1.892477337765294,2.0968275692711473,0.6707332194625706,0.866239679238368,1.1966261379898981,1.7872938239886282,1.730605157870876,1.731106355039872,1.7131951519844082,1.2376534173234446,1.3293719782618634,0.6919685073304112,0.5958974874851287,1.018275061981995,1.3340418537424112,0.9157088167486618,1.3947399206846045,1.2951974673416422,0.7131728207890567,0.5374253355141311,1.4160518883756816,0.7868878959450997,2.2547619644560073,1.9121906566017004,0.9823579438080181,0.7995864636786731,0.9659379310521623,0.7370022800659579,0.4393012473083094,0.754568333887153,1.0272348016766444,1.3230511730883832,0.9348857465365248,1.3965750192065332,0.6781654099469819,1.9127175878305718,1.7450867606697351,0.5552714975153707,0.6918628022650777,1.2804096306704769,1.1977014171513172,0.7883346800594554,1.0653045165404558,0.9882793586045203,0.869122487546351,1.4295246366787335]},{\"hovertemplate\":\"color=1<br>PC1=%{x}<br>PC2=%{y}<br>PC3=%{z}<extra></extra>\",\"legendgroup\":\"1\",\"marker\":{\"color\":\"#00cc96\",\"symbol\":\"circle\"},\"mode\":\"markers\",\"name\":\"1\",\"scene\":\"scene\",\"showlegend\":true,\"type\":\"scatter3d\",\"x\":[0.7747612264006061,0.9605286840547924,0.5743500969848153,0.7373243977709647,-0.5456669240688596,1.1780844875777723,1.4833782035993928,1.432833957899309,1.2075312509149114,1.2978514683515265,1.5280108622888864,-0.6887863536598683,1.361891394009277,1.2705066182251306,-0.3035403448944276,-1.4258894519626355,-0.9156013599002374,-0.5136780473929342,-0.4830175277398241,-0.40868697001578047,-0.8586967949089089,1.0501177554269931,1.127882930938237,0.992576186323082,0.9327710866179517,0.5577883476138624,1.0114930884113584,-0.7943232281233128,-0.5921127881249325,0.5890420986151947,0.6921347768413122,0.8730027481854229,1.2387979734881664,-0.7810960057873609,-0.7176875356058543,1.3935378019870968,1.365730261283165,1.2210582014392068,-1.016406540279889,0.9090990452213431,1.2396796199187845,0.594436671602988,0.6046569294184283,1.018071521906739,1.3086446928832887,1.3153568515011138,0.9236394471539177,0.9734941688656048,-0.5525062394835295,0.779300320874453,-0.7578281388179475,0.7761807164453397,0.7728017334804127,-0.4524061364189982,-1.1845218344504034,0.8041948651518183,1.0848416240692935,0.12825736630161919,0.4440882683922373,-2.146560405213152,-1.737493676851576,0.8820267452227303,0.5241016148047427,1.2795784301402966,0.8606135770167291,-0.6074263888822907,-1.1512117473674102,-0.7352911873721587,1.7278190516420224,1.1997677830256943,0.8476958174857049,0.867363700697157,0.802948147253647,-0.5008727665435259,-0.5557254025838031,-1.637337441458089,-1.4718292473671941,-1.805226476708395,1.5370499924916887,0.700301312397649,0.33825854363113006,0.382710776924459,-0.579076785402025,0.6982284742843297,0.5784075794119058,0.8688744993842181,0.3212769415480401,0.8384441726183385,1.31531294952409,-1.5246157280568293,-1.2575866556815645,-0.3651807782937525,-0.641178208141427,0.8474244928209864,0.14525247069321287,-0.592496527631209,0.42349334973976405,0.762013337898007,-1.6481639568169857,-0.8789211747834264,0.52193970353128,-1.4122164019622665,-1.601607968680821,-0.8018347024006867,0.3526658263885984,0.3512393272813187,-0.8432573525478311,-1.6349460892628163,-0.8765375538751395,-0.9193847090357448,-0.8772540446539134,0.40398721547403704,-0.46059924765110166,-1.0254121455418186,-0.9326078826019426,-0.6239278326296603,0.39123884240632895,-0.9541080033670954,-2.3105689004184917,-1.755457315184726,-1.9422082585216567,-1.9813470863912868,0.6920414378027622,1.2091219446800003,0.18173334413088396,0.5996078230378761,-1.4621041599796039,-1.3092610708503603,-1.697277213689032,-1.3420174721315028,-1.1738342880977262,-1.0427480496559027,-0.7209704753759065,-1.986606654047559,-2.0831292149248117,0.05765644935224606,-0.5143825011157603,-0.7106000661815175,0.5176173189250196,-1.3056692092944586,-0.8823591706500297,-0.8842290826631977,-1.025157102049867,-1.4215094814013343,-1.566072163827157],\"y\":[0.36885921040037956,0.4469696869147271,0.3893168737650648,0.3768769670232538,0.2049030140832841,0.2639839718943115,0.372743232071931,0.34071178148802833,0.29687049616015376,0.3276676510120593,0.28792129253900733,0.37033432794345816,0.2935127621504805,0.2997079401211816,0.2849388310065891,0.3287873906658455,0.18533611445340245,0.31128861886620257,0.2497549807399746,0.22411744490394644,0.09629794499586716,0.12094732384803503,0.1729500452548295,0.10717142581023516,0.10413723495389693,0.02011876444038193,0.09049920652765353,0.1725037047675892,0.2072999817184353,0.04576355199003922,-0.024198156431229606,-0.0252868473162023,0.06534154798841724,-0.07322622600667082,-0.053955579522115486,0.04986191735899945,0.06436190948934985,0.012994850288280096,-0.13542015326524162,-0.1335920886421786,-0.1181131997303948,0.004321934630066497,-0.021054433801951343,-0.009089882691061953,-0.036842863799096674,-0.01240481786728735,-0.06351370828860639,-0.18679381185284372,-0.12343115734653197,-0.15722066414353256,-0.10286027194438338,-0.11798726591983746,-0.12338096739120961,-0.3043390015107934,-0.27286492000100476,-0.3123690423870244,-0.332719442368284,-0.3174736624534501,-0.296386777782693,-0.2700575516235357,-0.18433636847475898,-0.23433009924996231,-0.16335073592616123,-0.23376887158906323,-0.20260041933990455,-0.3609803023300918,-0.5133656938154342,-0.4115771926753862,-0.32504125838206815,-0.32477691136426245,-0.371315836635814,-0.32742860934414636,-0.30913384540596756,-0.394427635621329,-0.4123196162552072,-0.4918966934783747,-0.5597507680589768,-0.7548049637200414,-0.5540091360057386,-0.42229200633168806,-0.45827977082424726,-0.4944281458766386,-0.52375652154749,-0.47872770423152533,-0.46561050193159226,-0.5029271993290699,-0.4914933055815446,-0.41322955351329105,-0.46918667227980837,-0.5993985818117769,-0.6468922745341614,-0.46637087018597145,-0.4688792276999776,-0.6366561694471046,-0.5622793761490208,-0.5509142728251691,-0.5780061980430484,-0.5992467270629589,-0.8532110768454445,-0.6834832710389809,-0.649599588884673,-0.8459019859331399,-0.8263315855241969,-0.6956285110040533,-0.825742201467252,-0.7612489731219974,-0.8391684039679768,-0.8802809615421263,-0.792586201948946,-0.731641847574425,-0.6623191066394528,-0.6575822075811234,-0.8178664545844447,-0.8994082266409416,-0.8818035514020811,-0.8957115560904259,-0.9278062614666739,-0.9978449493532018,-1.1139800408331757,-1.057199806742657,-1.0296569168286038,-0.8699253768353133,-0.8734246035958305,-1.0023399676789677,-0.8100730262273609,-0.7737769617863728,-0.9567575402884062,-0.9520983007620589,-1.1005131529726817,-1.0686723016610917,-1.042227818304575,-0.9745910967109674,-0.9340899012145286,-1.238149059705955,-1.1541061918764122,-1.0127922790116526,-1.297811143483243,-1.0109040776814213,-0.9998144054730409,-1.2263830581038266,-0.9832786899952568,-1.0079140370979607,-1.1701084628326004,-0.9782137823503826,-1.0223774950122093],\"z\":[-0.15377418157563225,-0.11429286560360023,-0.27726132547130006,-0.08776910535924905,-0.3199790883449647,0.21939391581611822,-0.1775292901913265,-0.2052025050732894,-0.2887952438441132,-0.21177161360005528,0.19265063890892184,-0.9673927328097763,-0.1339848136245638,-0.11255488356628224,-0.07065132317049637,-1.232121954103075,-0.7001763087872818,-1.0226279509831204,-0.5597919022991894,-0.49290419346675685,-0.3956701934722709,-0.527339466750001,-0.7930318440017324,-0.4670460676705,-0.6221063011740454,-0.5304695568100825,-0.297238510305524,-1.2327888029651148,-0.9776166546751487,-0.10602679881349804,-0.6982249241497581,-0.566362254429348,-0.7228025700987214,-0.8281686298524875,-0.9354460609684051,-0.7503748351719678,-0.8437835025979133,-0.64642999204141,-0.5347226979108435,-0.7104748443454056,-0.6497961193970809,-1.6415416361429969,-1.3848997556059999,-1.4490105217302025,-1.0644417509425868,-1.1000416408960265,-1.2163605302617782,-0.4578269336813017,-0.9748119168067082,-0.6684294670857812,-1.2462553199180681,-0.44268964467069577,-0.899535520354913,-0.6837988312289266,-1.2134621790433988,-0.69494717090138,-0.5209871842950191,-1.172008009826609,-1.1074985452916621,-2.1167419584400724,-2.0290706028453322,-1.0761718434309597,-1.7256717995091067,-0.7593270028254429,-1.0808546089438078,-0.6028180267829794,-0.8499226082951049,-0.8446481412163737,-1.295021446136741,-0.8749996085097708,-1.0027220317608818,-1.164408178016916,-1.3759657532701028,-0.9854470277643661,-0.9552504548842209,-1.3097348905693909,-1.0294952444918213,-0.9869969013931739,-0.8065239223248032,-1.4686928101302335,-1.360810473247277,-1.0209319425856664,-0.987615528353408,-1.1781035031522793,-1.2204154107751526,-0.9179982158016486,-1.175707186917219,-1.3585225365638638,-0.6960519615911422,-1.2956182964679657,-0.9368009340941763,-1.0830231720292909,-1.3598976803338865,-0.8868132603360335,-1.5045136191648065,-1.3824283134739614,-1.4855691374759539,-1.1127240296092475,-1.000630463931822,-1.0807140666778665,-2.1373451548221127,-0.8701433920572255,-1.1454320362883172,-1.1844109089528598,-0.24249750325516933,-0.4950207614550948,-0.7556135262601154,-1.323022046500069,-1.3588430797979378,-1.6316199426554454,-1.9361797724356695,-1.6619012366042656,-0.9317732298221438,-1.3489490141055358,-1.4637047590016388,-1.0843959661397582,-0.6484142596777619,-0.9065676013804067,-1.6326363641939725,-1.382889617693559,-1.5726545519967976,-2.2916485051253788,-1.1863987080665017,-1.7367733886346,-1.504336948709565,-1.4416672026673523,-2.0665050385418757,-1.899820873487235,-1.8332939315656729,-1.5497718132083025,-1.5056375224897005,-1.7896064549923252,-1.5073317311921528,-1.4615483940608136,-1.829824536388017,-1.379087363532547,-1.6994997208644032,-1.1954984026925812,-1.0605524484049427,-1.0539860644156795,-1.6863882279245108,-1.4285270565946446,-0.7987966555909438,-1.9586311287154101,-2.0932835820826026]},{\"hovertemplate\":\"color=2<br>PC1=%{x}<br>PC2=%{y}<br>PC3=%{z}<extra></extra>\",\"legendgroup\":\"2\",\"marker\":{\"color\":\"#ab63fa\",\"symbol\":\"circle\"},\"mode\":\"markers\",\"name\":\"2\",\"scene\":\"scene\",\"showlegend\":true,\"type\":\"scatter3d\",\"x\":[-2.692060704425849,-1.5406940584595927,-1.316010240782202,-1.6194904086095443,-1.0389517366724816,-1.6172304094512329,-2.567156192342916,-2.028774862773804,-2.5191951498803276,-2.6550278319594733,-0.6378659915312032,-1.688101294642451,-1.4581793247445591,-2.188386916718371,-2.8418273714615085,-1.7667636307264831,-2.9683680081667467,-1.7999403917498615,-1.1335508779166856,-0.8566926285347515,-1.0724572985984686,-2.140607613499652,-2.256452939059835,-1.835941173723811,-1.97486735720389,-1.7722549615072003,-2.520698397315936,-2.151521666561257,-2.255849991446133,-1.375513062056845,-1.4855516852521975,-1.1168031741862003,-1.1251668185493668,-1.932971570796551,-2.042459361504647,-2.039397654397404,-2.3261615725976026,-2.184401729988538,-1.0152258956048867,-1.6465495549137348,0.1425041572941093,-3.315615867823588,-2.2981455314435437,-2.21964088653628,-1.0834037012748219,-3.9474917242742142,-1.0564905822524797,0.013854806152469763,-1.2627745411721156,0.05585348521053735,-2.5816943776858454,-2.6017082802814375,-1.4660613543359677,-2.574809455902662,-2.838621746378267,-2.986967471174882,-2.7096726421926314,-4.081465521802716,-4.1049276775084085,-2.6202804769930075,-2.4833590434624493,-2.7967618316591767,-2.343483703750006,-2.5649686280254955,-2.220192451862845,-1.8729543084866642,-2.95305087674035,-4.345385388105531],\"y\":[2.8963047558532913,2.8880670591107243,2.8619662709239733,2.8905999047184214,2.7936877988624738,2.65729390486976,2.708287903440591,2.630789537630881,2.7465723321324957,2.782597202319481,2.7618564687139355,2.7196722444412944,2.770865732026837,2.6454137992047464,2.5675432235097886,2.5025523443974977,2.4974414475730415,2.5282529009198553,2.594288858125678,2.644441840046537,2.5210615996244834,2.343571641813594,2.3860661555163385,2.371097168143639,2.4252905300587746,2.3545797902115404,2.2961546738741054,2.3080505063964276,2.188660187085612,2.3279731450063346,2.3563553216458226,2.341047016670804,2.270863554688398,2.122861959235313,2.1953651839236614,2.138169211380603,2.079228200615832,2.035621192083478,2.2859142208890475,2.3997127914012486,2.3171118034430247,1.8955183824719812,1.9716245235678982,1.9384689191771787,2.101243039475354,1.6817972054516155,2.02977377743129,2.0326457227207717,2.0346393406112315,2.087273494531778,1.817241889618452,1.6826216591640246,1.8583178862053844,1.930863106450247,1.587965437578194,1.393310423977709,1.5525336429146972,1.4373170740532142,1.4877077145225333,1.5422272754891557,1.7150175802169858,1.6269861539710684,1.5251473224794254,1.4365885616254213,1.6249470956717456,1.5074060075944642,1.2802153359460071,1.2616269767666672],\"z\":[-0.2221616526695112,0.4805555098260754,1.0029332219438225,0.542542777025001,1.466020753074,0.980391188750669,-0.0481839576251532,0.8012220341880872,0.004688073917119138,-0.8531535636589056,0.959738796864438,0.16963386908432865,-0.02376535747348277,0.11497623527043252,-0.5948856692152613,0.5491674051418594,-0.3515225157378014,0.47809205959847884,0.8220944730308957,0.6991577121067996,0.9100217492589847,0.23306759755330234,0.3264558997930663,0.5415695679522048,0.38161724913829687,0.6097277691806766,0.21305614107641563,0.08811340049546276,0.47717421930579457,0.4698075747649199,0.09082695559100552,0.5639217209103541,0.8241395947876469,0.21832971265999304,-0.007866563072599574,0.25053128520261153,0.34937370446448757,0.6833013748542774,0.30160044014173704,-0.7904088784943919,0.26610932554704547,-0.5714603829384862,0.25462511126600107,0.2983281453079554,0.7415097684076146,-1.2474983000065138,0.11004317337526959,0.6378673564706839,0.1958307241093346,0.32117022014992247,0.033216332029034505,0.08462124617371924,-0.8821831022857234,-1.6933066820986868,-0.08362557506200262,-0.16187918829313022,-0.28664398821617465,-1.4827839532944258,-1.8139212622011327,-1.0531612475959227,-1.3453318428737906,-0.2595545016979672,-0.12837863016689535,-0.13766151410787783,-1.1228577798423198,-1.005639474221225,-0.41966213373091127,-2.1192352006962785]}],                        {\"legend\":{\"title\":{\"text\":\"color\"},\"tracegroupgap\":0},\"margin\":{\"t\":60},\"scene\":{\"domain\":{\"x\":[0.0,1.0],\"y\":[0.0,1.0]},\"xaxis\":{\"title\":{\"text\":\"PC1\"}},\"yaxis\":{\"title\":{\"text\":\"PC2\"}},\"zaxis\":{\"title\":{\"text\":\"PC3\"}}},\"template\":{\"data\":{\"bar\":[{\"error_x\":{\"color\":\"#2a3f5f\"},\"error_y\":{\"color\":\"#2a3f5f\"},\"marker\":{\"line\":{\"color\":\"#E5ECF6\",\"width\":0.5},\"pattern\":{\"fillmode\":\"overlay\",\"size\":10,\"solidity\":0.2}},\"type\":\"bar\"}],\"barpolar\":[{\"marker\":{\"line\":{\"color\":\"#E5ECF6\",\"width\":0.5},\"pattern\":{\"fillmode\":\"overlay\",\"size\":10,\"solidity\":0.2}},\"type\":\"barpolar\"}],\"carpet\":[{\"aaxis\":{\"endlinecolor\":\"#2a3f5f\",\"gridcolor\":\"white\",\"linecolor\":\"white\",\"minorgridcolor\":\"white\",\"startlinecolor\":\"#2a3f5f\"},\"baxis\":{\"endlinecolor\":\"#2a3f5f\",\"gridcolor\":\"white\",\"linecolor\":\"white\",\"minorgridcolor\":\"white\",\"startlinecolor\":\"#2a3f5f\"},\"type\":\"carpet\"}],\"choropleth\":[{\"colorbar\":{\"outlinewidth\":0,\"ticks\":\"\"},\"type\":\"choropleth\"}],\"contour\":[{\"colorbar\":{\"outlinewidth\":0,\"ticks\":\"\"},\"colorscale\":[[0.0,\"#0d0887\"],[0.1111111111111111,\"#46039f\"],[0.2222222222222222,\"#7201a8\"],[0.3333333333333333,\"#9c179e\"],[0.4444444444444444,\"#bd3786\"],[0.5555555555555556,\"#d8576b\"],[0.6666666666666666,\"#ed7953\"],[0.7777777777777778,\"#fb9f3a\"],[0.8888888888888888,\"#fdca26\"],[1.0,\"#f0f921\"]],\"type\":\"contour\"}],\"contourcarpet\":[{\"colorbar\":{\"outlinewidth\":0,\"ticks\":\"\"},\"type\":\"contourcarpet\"}],\"heatmap\":[{\"colorbar\":{\"outlinewidth\":0,\"ticks\":\"\"},\"colorscale\":[[0.0,\"#0d0887\"],[0.1111111111111111,\"#46039f\"],[0.2222222222222222,\"#7201a8\"],[0.3333333333333333,\"#9c179e\"],[0.4444444444444444,\"#bd3786\"],[0.5555555555555556,\"#d8576b\"],[0.6666666666666666,\"#ed7953\"],[0.7777777777777778,\"#fb9f3a\"],[0.8888888888888888,\"#fdca26\"],[1.0,\"#f0f921\"]],\"type\":\"heatmap\"}],\"heatmapgl\":[{\"colorbar\":{\"outlinewidth\":0,\"ticks\":\"\"},\"colorscale\":[[0.0,\"#0d0887\"],[0.1111111111111111,\"#46039f\"],[0.2222222222222222,\"#7201a8\"],[0.3333333333333333,\"#9c179e\"],[0.4444444444444444,\"#bd3786\"],[0.5555555555555556,\"#d8576b\"],[0.6666666666666666,\"#ed7953\"],[0.7777777777777778,\"#fb9f3a\"],[0.8888888888888888,\"#fdca26\"],[1.0,\"#f0f921\"]],\"type\":\"heatmapgl\"}],\"histogram\":[{\"marker\":{\"pattern\":{\"fillmode\":\"overlay\",\"size\":10,\"solidity\":0.2}},\"type\":\"histogram\"}],\"histogram2d\":[{\"colorbar\":{\"outlinewidth\":0,\"ticks\":\"\"},\"colorscale\":[[0.0,\"#0d0887\"],[0.1111111111111111,\"#46039f\"],[0.2222222222222222,\"#7201a8\"],[0.3333333333333333,\"#9c179e\"],[0.4444444444444444,\"#bd3786\"],[0.5555555555555556,\"#d8576b\"],[0.6666666666666666,\"#ed7953\"],[0.7777777777777778,\"#fb9f3a\"],[0.8888888888888888,\"#fdca26\"],[1.0,\"#f0f921\"]],\"type\":\"histogram2d\"}],\"histogram2dcontour\":[{\"colorbar\":{\"outlinewidth\":0,\"ticks\":\"\"},\"colorscale\":[[0.0,\"#0d0887\"],[0.1111111111111111,\"#46039f\"],[0.2222222222222222,\"#7201a8\"],[0.3333333333333333,\"#9c179e\"],[0.4444444444444444,\"#bd3786\"],[0.5555555555555556,\"#d8576b\"],[0.6666666666666666,\"#ed7953\"],[0.7777777777777778,\"#fb9f3a\"],[0.8888888888888888,\"#fdca26\"],[1.0,\"#f0f921\"]],\"type\":\"histogram2dcontour\"}],\"mesh3d\":[{\"colorbar\":{\"outlinewidth\":0,\"ticks\":\"\"},\"type\":\"mesh3d\"}],\"parcoords\":[{\"line\":{\"colorbar\":{\"outlinewidth\":0,\"ticks\":\"\"}},\"type\":\"parcoords\"}],\"pie\":[{\"automargin\":true,\"type\":\"pie\"}],\"scatter\":[{\"marker\":{\"colorbar\":{\"outlinewidth\":0,\"ticks\":\"\"}},\"type\":\"scatter\"}],\"scatter3d\":[{\"line\":{\"colorbar\":{\"outlinewidth\":0,\"ticks\":\"\"}},\"marker\":{\"colorbar\":{\"outlinewidth\":0,\"ticks\":\"\"}},\"type\":\"scatter3d\"}],\"scattercarpet\":[{\"marker\":{\"colorbar\":{\"outlinewidth\":0,\"ticks\":\"\"}},\"type\":\"scattercarpet\"}],\"scattergeo\":[{\"marker\":{\"colorbar\":{\"outlinewidth\":0,\"ticks\":\"\"}},\"type\":\"scattergeo\"}],\"scattergl\":[{\"marker\":{\"colorbar\":{\"outlinewidth\":0,\"ticks\":\"\"}},\"type\":\"scattergl\"}],\"scattermapbox\":[{\"marker\":{\"colorbar\":{\"outlinewidth\":0,\"ticks\":\"\"}},\"type\":\"scattermapbox\"}],\"scatterpolar\":[{\"marker\":{\"colorbar\":{\"outlinewidth\":0,\"ticks\":\"\"}},\"type\":\"scatterpolar\"}],\"scatterpolargl\":[{\"marker\":{\"colorbar\":{\"outlinewidth\":0,\"ticks\":\"\"}},\"type\":\"scatterpolargl\"}],\"scatterternary\":[{\"marker\":{\"colorbar\":{\"outlinewidth\":0,\"ticks\":\"\"}},\"type\":\"scatterternary\"}],\"surface\":[{\"colorbar\":{\"outlinewidth\":0,\"ticks\":\"\"},\"colorscale\":[[0.0,\"#0d0887\"],[0.1111111111111111,\"#46039f\"],[0.2222222222222222,\"#7201a8\"],[0.3333333333333333,\"#9c179e\"],[0.4444444444444444,\"#bd3786\"],[0.5555555555555556,\"#d8576b\"],[0.6666666666666666,\"#ed7953\"],[0.7777777777777778,\"#fb9f3a\"],[0.8888888888888888,\"#fdca26\"],[1.0,\"#f0f921\"]],\"type\":\"surface\"}],\"table\":[{\"cells\":{\"fill\":{\"color\":\"#EBF0F8\"},\"line\":{\"color\":\"white\"}},\"header\":{\"fill\":{\"color\":\"#C8D4E3\"},\"line\":{\"color\":\"white\"}},\"type\":\"table\"}]},\"layout\":{\"annotationdefaults\":{\"arrowcolor\":\"#2a3f5f\",\"arrowhead\":0,\"arrowwidth\":1},\"autotypenumbers\":\"strict\",\"coloraxis\":{\"colorbar\":{\"outlinewidth\":0,\"ticks\":\"\"}},\"colorscale\":{\"diverging\":[[0,\"#8e0152\"],[0.1,\"#c51b7d\"],[0.2,\"#de77ae\"],[0.3,\"#f1b6da\"],[0.4,\"#fde0ef\"],[0.5,\"#f7f7f7\"],[0.6,\"#e6f5d0\"],[0.7,\"#b8e186\"],[0.8,\"#7fbc41\"],[0.9,\"#4d9221\"],[1,\"#276419\"]],\"sequential\":[[0.0,\"#0d0887\"],[0.1111111111111111,\"#46039f\"],[0.2222222222222222,\"#7201a8\"],[0.3333333333333333,\"#9c179e\"],[0.4444444444444444,\"#bd3786\"],[0.5555555555555556,\"#d8576b\"],[0.6666666666666666,\"#ed7953\"],[0.7777777777777778,\"#fb9f3a\"],[0.8888888888888888,\"#fdca26\"],[1.0,\"#f0f921\"]],\"sequentialminus\":[[0.0,\"#0d0887\"],[0.1111111111111111,\"#46039f\"],[0.2222222222222222,\"#7201a8\"],[0.3333333333333333,\"#9c179e\"],[0.4444444444444444,\"#bd3786\"],[0.5555555555555556,\"#d8576b\"],[0.6666666666666666,\"#ed7953\"],[0.7777777777777778,\"#fb9f3a\"],[0.8888888888888888,\"#fdca26\"],[1.0,\"#f0f921\"]]},\"colorway\":[\"#636efa\",\"#EF553B\",\"#00cc96\",\"#ab63fa\",\"#FFA15A\",\"#19d3f3\",\"#FF6692\",\"#B6E880\",\"#FF97FF\",\"#FECB52\"],\"font\":{\"color\":\"#2a3f5f\"},\"geo\":{\"bgcolor\":\"white\",\"lakecolor\":\"white\",\"landcolor\":\"#E5ECF6\",\"showlakes\":true,\"showland\":true,\"subunitcolor\":\"white\"},\"hoverlabel\":{\"align\":\"left\"},\"hovermode\":\"closest\",\"mapbox\":{\"style\":\"light\"},\"paper_bgcolor\":\"white\",\"plot_bgcolor\":\"#E5ECF6\",\"polar\":{\"angularaxis\":{\"gridcolor\":\"white\",\"linecolor\":\"white\",\"ticks\":\"\"},\"bgcolor\":\"#E5ECF6\",\"radialaxis\":{\"gridcolor\":\"white\",\"linecolor\":\"white\",\"ticks\":\"\"}},\"scene\":{\"xaxis\":{\"backgroundcolor\":\"#E5ECF6\",\"gridcolor\":\"white\",\"gridwidth\":2,\"linecolor\":\"white\",\"showbackground\":true,\"ticks\":\"\",\"zerolinecolor\":\"white\"},\"yaxis\":{\"backgroundcolor\":\"#E5ECF6\",\"gridcolor\":\"white\",\"gridwidth\":2,\"linecolor\":\"white\",\"showbackground\":true,\"ticks\":\"\",\"zerolinecolor\":\"white\"},\"zaxis\":{\"backgroundcolor\":\"#E5ECF6\",\"gridcolor\":\"white\",\"gridwidth\":2,\"linecolor\":\"white\",\"showbackground\":true,\"ticks\":\"\",\"zerolinecolor\":\"white\"}},\"shapedefaults\":{\"line\":{\"color\":\"#2a3f5f\"}},\"ternary\":{\"aaxis\":{\"gridcolor\":\"white\",\"linecolor\":\"white\",\"ticks\":\"\"},\"baxis\":{\"gridcolor\":\"white\",\"linecolor\":\"white\",\"ticks\":\"\"},\"bgcolor\":\"#E5ECF6\",\"caxis\":{\"gridcolor\":\"white\",\"linecolor\":\"white\",\"ticks\":\"\"}},\"title\":{\"x\":0.05},\"xaxis\":{\"automargin\":true,\"gridcolor\":\"white\",\"linecolor\":\"white\",\"ticks\":\"\",\"title\":{\"standoff\":15},\"zerolinecolor\":\"white\",\"zerolinewidth\":2},\"yaxis\":{\"automargin\":true,\"gridcolor\":\"white\",\"linecolor\":\"white\",\"ticks\":\"\",\"title\":{\"standoff\":15},\"zerolinecolor\":\"white\",\"zerolinewidth\":2}}}},                        {\"responsive\": true}                    ).then(function(){\n",
       "                            \n",
       "var gd = document.getElementById('7fcb1822-cfec-402f-abb4-43ea59ee91df');\n",
       "var x = new MutationObserver(function (mutations, observer) {{\n",
       "        var display = window.getComputedStyle(gd).display;\n",
       "        if (!display || display === 'none') {{\n",
       "            console.log([gd, 'removed!']);\n",
       "            Plotly.purge(gd);\n",
       "            observer.disconnect();\n",
       "        }}\n",
       "}});\n",
       "\n",
       "// Listen for the removal of the full notebook cells\n",
       "var notebookContainer = gd.closest('#notebook-container');\n",
       "if (notebookContainer) {{\n",
       "    x.observe(notebookContainer, {childList: true});\n",
       "}}\n",
       "\n",
       "// Listen for the clearing of the current output cell\n",
       "var outputEl = gd.closest('.output');\n",
       "if (outputEl) {{\n",
       "    x.observe(outputEl, {childList: true});\n",
       "}}\n",
       "\n",
       "                        })                };                });            </script>        </div>"
      ]
     },
     "metadata": {},
     "output_type": "display_data"
    }
   ],
   "source": [
    "px.scatter_3d(x='PC1', y='PC2', data_frame=dfpca, z='PC3', color=model_pred.astype(str))"
   ]
  },
  {
   "cell_type": "markdown",
   "metadata": {},
   "source": [
    "## Interpretar Visualización"
   ]
  },
  {
   "cell_type": "markdown",
   "metadata": {},
   "source": [
    "> - Qué tienen que ver `PC1` Y `PC2` con las variables originales?\n",
    "> - Por qué se distinguen los grupos? Uno se sitúa más a la derecha? Otro más a la izquierda? Uno más arriba o abajo? Por qué?"
   ]
  },
  {
   "cell_type": "code",
   "execution_count": null,
   "metadata": {},
   "outputs": [],
   "source": []
  },
  {
   "cell_type": "markdown",
   "metadata": {},
   "source": [
    "# Objetivos Alcanzados"
   ]
  },
  {
   "cell_type": "markdown",
   "metadata": {},
   "source": [
    "_Haz doble click sobre esta celda y pon una `X` dentro de las casillas [X] si crees que has superado los objetivos:_\n",
    "\n",
    "- [ ] En este capítulo empezaremos a ir conectando los puntos de estadística y serás capaz de ir simplificando la gran variedad que existe en ella.\n",
    "- [ ] Nos daremos cuenta de lo simple que es la estadística y que podría resumirse en la **Suma de Cuadrados**.\n",
    "- [ ] Distinguir cuándo usar un modelo u otro porque no vale todo con todo. Sino que hay que ir viendo las soluciones concretas a cada necesidad.\n",
    "- [ ] Entender la necesidad de **Normalizar** los datos.\n",
    "- [ ] Familiarizarnos, aún más, con el término de la optimización.\n",
    "- [ ] Ver de forma práctica cómo se usa el **Álgebra en Machine Learning**."
   ]
  }
 ],
 "metadata": {
  "authors": [
   {
    "name": "Jesús López @sotastica"
   }
  ],
  "kernelspec": {
   "display_name": "Python 3 (ipykernel)",
   "language": "python",
   "name": "python3"
  },
  "language_info": {
   "codemirror_mode": {
    "name": "ipython",
    "version": 3
   },
   "file_extension": ".py",
   "mimetype": "text/x-python",
   "name": "python",
   "nbconvert_exporter": "python",
   "pygments_lexer": "ipython3",
   "version": "3.9.7"
  }
 },
 "nbformat": 4,
 "nbformat_minor": 4
}
