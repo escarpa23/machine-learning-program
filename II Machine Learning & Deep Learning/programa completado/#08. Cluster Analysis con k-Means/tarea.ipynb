{
 "cells": [
  {
   "cell_type": "markdown",
   "metadata": {},
   "source": [
    "<font size=\"+5\">#08. Cluster Analysis con k-Means</font>"
   ]
  },
  {
   "cell_type": "markdown",
   "metadata": {},
   "source": [
    "<ul>\n",
    "    <li>Resolver dudas → Pregunta en <img src=\"https://discord.com/assets/f9bb9c4af2b9c32a2c5ee0014661546d.png\" style=\"height: 1em; vertical-align: middle;\"> <a href=\"https://discord.gg/cmB3KGsqMy\">Discord</a></li>\n",
    "    <li>Tutoriales → <img src=\"https://openmoji.org/php/download_asset.php?type=emoji&emoji_hexcode=E044&emoji_variant=color\" style=\"height: 1em; vertical-align: middle;\"> <a href=\"https://www.youtube.com/channel/UCovCte2I3loteQE_kRsfQcw\">YouTube</a></li>\n",
    "    <li>Reservar Clases → <span style=\"color: orange\">@</span> <a href=\"https://sotastica.com/reservar\">sotastica</a></li>\n",
    "</ul>"
   ]
  },
  {
   "cell_type": "markdown",
   "metadata": {},
   "source": [
    "# Cargar Datos"
   ]
  },
  {
   "cell_type": "markdown",
   "metadata": {},
   "source": [
    "> - Simplemente, copiamos y pegamos las siguientes líneas de código para cargar los datos.\n",
    "> - La tabla contiene **estadísticas sobre Coches** (columnas).\n",
    "> - Para distintas **Marcas/Modelos de coche** (filas).\n",
    "\n",
    "```python\n",
    "import seaborn as sns\n",
    "\n",
    "df = sns.load_dataset(name='mpg', index_col='name')\n",
    "df.sample(10)\n",
    "```"
   ]
  },
  {
   "cell_type": "code",
   "execution_count": 3,
   "metadata": {},
   "outputs": [
    {
     "data": {
      "text/html": [
       "<div>\n",
       "<style scoped>\n",
       "    .dataframe tbody tr th:only-of-type {\n",
       "        vertical-align: middle;\n",
       "    }\n",
       "\n",
       "    .dataframe tbody tr th {\n",
       "        vertical-align: top;\n",
       "    }\n",
       "\n",
       "    .dataframe thead th {\n",
       "        text-align: right;\n",
       "    }\n",
       "</style>\n",
       "<table border=\"1\" class=\"dataframe\">\n",
       "  <thead>\n",
       "    <tr style=\"text-align: right;\">\n",
       "      <th></th>\n",
       "      <th>mpg</th>\n",
       "      <th>cylinders</th>\n",
       "      <th>displacement</th>\n",
       "      <th>horsepower</th>\n",
       "      <th>weight</th>\n",
       "      <th>acceleration</th>\n",
       "      <th>model_year</th>\n",
       "      <th>origin</th>\n",
       "    </tr>\n",
       "    <tr>\n",
       "      <th>name</th>\n",
       "      <th></th>\n",
       "      <th></th>\n",
       "      <th></th>\n",
       "      <th></th>\n",
       "      <th></th>\n",
       "      <th></th>\n",
       "      <th></th>\n",
       "      <th></th>\n",
       "    </tr>\n",
       "  </thead>\n",
       "  <tbody>\n",
       "    <tr>\n",
       "      <th>chevroelt chevelle malibu</th>\n",
       "      <td>16.0</td>\n",
       "      <td>6</td>\n",
       "      <td>250.0</td>\n",
       "      <td>105.0</td>\n",
       "      <td>3897</td>\n",
       "      <td>18.5</td>\n",
       "      <td>75</td>\n",
       "      <td>usa</td>\n",
       "    </tr>\n",
       "    <tr>\n",
       "      <th>datsun b210 gx</th>\n",
       "      <td>39.4</td>\n",
       "      <td>4</td>\n",
       "      <td>85.0</td>\n",
       "      <td>70.0</td>\n",
       "      <td>2070</td>\n",
       "      <td>18.6</td>\n",
       "      <td>78</td>\n",
       "      <td>japan</td>\n",
       "    </tr>\n",
       "    <tr>\n",
       "      <th>honda civic</th>\n",
       "      <td>38.0</td>\n",
       "      <td>4</td>\n",
       "      <td>91.0</td>\n",
       "      <td>67.0</td>\n",
       "      <td>1965</td>\n",
       "      <td>15.0</td>\n",
       "      <td>82</td>\n",
       "      <td>japan</td>\n",
       "    </tr>\n",
       "    <tr>\n",
       "      <th>datsun 610</th>\n",
       "      <td>22.0</td>\n",
       "      <td>4</td>\n",
       "      <td>108.0</td>\n",
       "      <td>94.0</td>\n",
       "      <td>2379</td>\n",
       "      <td>16.5</td>\n",
       "      <td>73</td>\n",
       "      <td>japan</td>\n",
       "    </tr>\n",
       "    <tr>\n",
       "      <th>datsun 200-sx</th>\n",
       "      <td>23.9</td>\n",
       "      <td>4</td>\n",
       "      <td>119.0</td>\n",
       "      <td>97.0</td>\n",
       "      <td>2405</td>\n",
       "      <td>14.9</td>\n",
       "      <td>78</td>\n",
       "      <td>japan</td>\n",
       "    </tr>\n",
       "    <tr>\n",
       "      <th>dodge st. regis</th>\n",
       "      <td>18.2</td>\n",
       "      <td>8</td>\n",
       "      <td>318.0</td>\n",
       "      <td>135.0</td>\n",
       "      <td>3830</td>\n",
       "      <td>15.2</td>\n",
       "      <td>79</td>\n",
       "      <td>usa</td>\n",
       "    </tr>\n",
       "    <tr>\n",
       "      <th>ford escort 4w</th>\n",
       "      <td>34.4</td>\n",
       "      <td>4</td>\n",
       "      <td>98.0</td>\n",
       "      <td>65.0</td>\n",
       "      <td>2045</td>\n",
       "      <td>16.2</td>\n",
       "      <td>81</td>\n",
       "      <td>usa</td>\n",
       "    </tr>\n",
       "    <tr>\n",
       "      <th>plymouth reliant</th>\n",
       "      <td>30.0</td>\n",
       "      <td>4</td>\n",
       "      <td>135.0</td>\n",
       "      <td>84.0</td>\n",
       "      <td>2385</td>\n",
       "      <td>12.9</td>\n",
       "      <td>81</td>\n",
       "      <td>usa</td>\n",
       "    </tr>\n",
       "    <tr>\n",
       "      <th>oldsmobile delta 88 royale</th>\n",
       "      <td>12.0</td>\n",
       "      <td>8</td>\n",
       "      <td>350.0</td>\n",
       "      <td>160.0</td>\n",
       "      <td>4456</td>\n",
       "      <td>13.5</td>\n",
       "      <td>72</td>\n",
       "      <td>usa</td>\n",
       "    </tr>\n",
       "    <tr>\n",
       "      <th>mercury marquis</th>\n",
       "      <td>11.0</td>\n",
       "      <td>8</td>\n",
       "      <td>429.0</td>\n",
       "      <td>208.0</td>\n",
       "      <td>4633</td>\n",
       "      <td>11.0</td>\n",
       "      <td>72</td>\n",
       "      <td>usa</td>\n",
       "    </tr>\n",
       "  </tbody>\n",
       "</table>\n",
       "</div>"
      ],
      "text/plain": [
       "                             mpg  cylinders  displacement  horsepower  weight  \\\n",
       "name                                                                            \n",
       "chevroelt chevelle malibu   16.0          6         250.0       105.0    3897   \n",
       "datsun b210 gx              39.4          4          85.0        70.0    2070   \n",
       "honda civic                 38.0          4          91.0        67.0    1965   \n",
       "datsun 610                  22.0          4         108.0        94.0    2379   \n",
       "datsun 200-sx               23.9          4         119.0        97.0    2405   \n",
       "dodge st. regis             18.2          8         318.0       135.0    3830   \n",
       "ford escort 4w              34.4          4          98.0        65.0    2045   \n",
       "plymouth reliant            30.0          4         135.0        84.0    2385   \n",
       "oldsmobile delta 88 royale  12.0          8         350.0       160.0    4456   \n",
       "mercury marquis             11.0          8         429.0       208.0    4633   \n",
       "\n",
       "                            acceleration  model_year origin  \n",
       "name                                                         \n",
       "chevroelt chevelle malibu           18.5          75    usa  \n",
       "datsun b210 gx                      18.6          78  japan  \n",
       "honda civic                         15.0          82  japan  \n",
       "datsun 610                          16.5          73  japan  \n",
       "datsun 200-sx                       14.9          78  japan  \n",
       "dodge st. regis                     15.2          79    usa  \n",
       "ford escort 4w                      16.2          81    usa  \n",
       "plymouth reliant                    12.9          81    usa  \n",
       "oldsmobile delta 88 royale          13.5          72    usa  \n",
       "mercury marquis                     11.0          72    usa  "
      ]
     },
     "execution_count": 3,
     "metadata": {},
     "output_type": "execute_result"
    }
   ],
   "source": [
    "import seaborn as sns\n",
    "\n",
    "df = sns.load_dataset(name='mpg', index_col='name')\n",
    "df.sample(10)"
   ]
  },
  {
   "cell_type": "markdown",
   "metadata": {},
   "source": [
    "# Seleccionar 2 Variables para el Análisis de Clúster"
   ]
  },
  {
   "cell_type": "markdown",
   "metadata": {},
   "source": [
    "> En este caso **ambas variables son explicativas**. La variable que queremos predecir no se la damos al modelo. Sino que tratará de adivinarla en base a cómo de cerca estén los puntos."
   ]
  },
  {
   "cell_type": "code",
   "execution_count": 4,
   "metadata": {},
   "outputs": [],
   "source": [
    "dfsel = df[['mpg', 'acceleration']].copy()"
   ]
  },
  {
   "cell_type": "code",
   "execution_count": 5,
   "metadata": {},
   "outputs": [],
   "source": [
    "from sklearn.preprocessing import MinMaxScaler"
   ]
  },
  {
   "cell_type": "code",
   "execution_count": 15,
   "metadata": {},
   "outputs": [],
   "source": [
    "scaler = MinMaxScaler(feature_range=(0,1))"
   ]
  },
  {
   "cell_type": "code",
   "execution_count": 16,
   "metadata": {},
   "outputs": [],
   "source": [
    "import pandas as pd"
   ]
  },
  {
   "cell_type": "code",
   "execution_count": 17,
   "metadata": {},
   "outputs": [],
   "source": [
    "dfnorm = pd.DataFrame(scaler.fit_transform(dfsel), columns=dfsel.columns, index=dfsel.index)"
   ]
  },
  {
   "cell_type": "code",
   "execution_count": null,
   "metadata": {},
   "outputs": [],
   "source": []
  },
  {
   "cell_type": "markdown",
   "metadata": {},
   "source": [
    "# Scatterplot con las Variables"
   ]
  },
  {
   "cell_type": "markdown",
   "metadata": {},
   "source": [
    "> Deberíamos observar en la gráfica cuántos posibles grupos podríamos hacer para agrupar los puntos."
   ]
  },
  {
   "cell_type": "code",
   "execution_count": 18,
   "metadata": {},
   "outputs": [
    {
     "data": {
      "text/plain": [
       "<AxesSubplot:xlabel='mpg', ylabel='acceleration'>"
      ]
     },
     "execution_count": 18,
     "metadata": {},
     "output_type": "execute_result"
    },
    {
     "data": {
      "image/png": "[encoded data removed]",
      "text/plain": [
       "<Figure size 432x288 with 1 Axes>"
      ]
     },
     "metadata": {
      "needs_background": "light"
     },
     "output_type": "display_data"
    }
   ],
   "source": [
    "sns.scatterplot(x='mpg', y='acceleration', data=dfnorm)"
   ]
  },
  {
   "cell_type": "markdown",
   "metadata": {},
   "source": [
    "# Transformación de los Datos"
   ]
  },
  {
   "cell_type": "markdown",
   "metadata": {},
   "source": [
    "> Deberíamos valorar si tenemos que realizar algunos cambios a los datos para que el modelo de k-Means se compute adecuadamente y pueda comparar ambas variables.\n",
    ">\n",
    "> Las variables originales pueden tener un rango de valores diferente.\n",
    ">\n",
    "> Imaginemos que tenemos dos variables:\n",
    ">\n",
    "> - Peso (en kilogramos)\n",
    "> - Altura (en metros)\n",
    ">\n",
    "> **Es lo mismo** incrementar 1 kilogramo de peso, que incrementar 1 metro de altura?\n",
    "> \n",
    "> - Hazte las mismas preguntas con tus variables."
   ]
  },
  {
   "cell_type": "code",
   "execution_count": null,
   "metadata": {},
   "outputs": [],
   "source": []
  },
  {
   "cell_type": "markdown",
   "metadata": {},
   "source": [
    "# Entrenar Modelo `KMeans()`"
   ]
  },
  {
   "cell_type": "markdown",
   "metadata": {},
   "source": [
    "> Podremos predecir 1, 2, 3,..., k grupos. Tantos como queramos. Sin embargo, seleccionaremos `n_cluster = 3` para no complicarnos la vida.\n",
    "> 1. **Necesidad:** Entrenar Modelo\n",
    "> 2. **Solución: Función** `fit()`"
   ]
  },
  {
   "cell_type": "code",
   "execution_count": 41,
   "metadata": {},
   "outputs": [],
   "source": [
    "dfnorm = dfnorm[['mpg', 'acceleration']]"
   ]
  },
  {
   "cell_type": "code",
   "execution_count": 42,
   "metadata": {},
   "outputs": [],
   "source": [
    "model = KMeans(n_clusters=1)"
   ]
  },
  {
   "cell_type": "code",
   "execution_count": 45,
   "metadata": {},
   "outputs": [
    {
     "data": {
      "text/plain": [
       "KMeans(n_clusters=1)"
      ]
     },
     "execution_count": 45,
     "metadata": {},
     "output_type": "execute_result"
    }
   ],
   "source": [
    "model.fit(X=dfnorm)"
   ]
  },
  {
   "cell_type": "code",
   "execution_count": 46,
   "metadata": {},
   "outputs": [
    {
     "data": {
      "text/plain": [
       "27.851674663710998"
      ]
     },
     "execution_count": 46,
     "metadata": {},
     "output_type": "execute_result"
    }
   ],
   "source": [
    "model.inertia_"
   ]
  },
  {
   "cell_type": "code",
   "execution_count": null,
   "metadata": {},
   "outputs": [],
   "source": []
  },
  {
   "cell_type": "code",
   "execution_count": 51,
   "metadata": {},
   "outputs": [],
   "source": [
    "def calcular_error(pepa):\n",
    "    model = KMeans(n_clusters=pepa)\n",
    "\n",
    "    model.fit(X=dfnorm)\n",
    "\n",
    "    error = model.inertia_\n",
    "\n",
    "    return error"
   ]
  },
  {
   "cell_type": "code",
   "execution_count": 52,
   "metadata": {},
   "outputs": [
    {
     "data": {
      "text/plain": [
       "27.851674663710998"
      ]
     },
     "execution_count": 52,
     "metadata": {},
     "output_type": "execute_result"
    }
   ],
   "source": [
    "calcular_error(1)"
   ]
  },
  {
   "cell_type": "code",
   "execution_count": 54,
   "metadata": {},
   "outputs": [
    {
     "name": "stdout",
     "output_type": "stream",
     "text": [
      "27.851674663710998\n",
      "14.241356630170085\n",
      "9.760509464123619\n",
      "7.487331370547567\n",
      "5.9821868600712165\n",
      "5.0863088691496765\n",
      "4.379104973360375\n",
      "3.897508614107763\n",
      "3.47679077401364\n",
      "3.0559955310528055\n"
     ]
    }
   ],
   "source": [
    "for algo in [1,2,3,4,5,6,7,8,9,10]:\n",
    "    error = calcular_error(algo)\n",
    "    \n",
    "    print(error)"
   ]
  },
  {
   "cell_type": "code",
   "execution_count": 55,
   "metadata": {},
   "outputs": [],
   "source": [
    "wss = []\n",
    "for algo in [1,2,3,4,5,6,7,8,9,10]:\n",
    "    error = calcular_error(algo)\n",
    "    \n",
    "    wss.append(error)"
   ]
  },
  {
   "cell_type": "code",
   "execution_count": 57,
   "metadata": {},
   "outputs": [],
   "source": [
    "intentos = [1,2,3,4,5,6,7,8,9,10]"
   ]
  },
  {
   "cell_type": "code",
   "execution_count": 58,
   "metadata": {},
   "outputs": [
    {
     "data": {
      "text/plain": [
       "[27.851674663710998,\n",
       " 14.241356630170085,\n",
       " 9.760509464123619,\n",
       " 7.487883932020559,\n",
       " 5.974628501306633,\n",
       " 5.150071770444384,\n",
       " 4.3992306007193696,\n",
       " 3.8438438696437967,\n",
       " 3.415080833492554,\n",
       " 3.067536770038536]"
      ]
     },
     "execution_count": 58,
     "metadata": {},
     "output_type": "execute_result"
    }
   ],
   "source": [
    "wss"
   ]
  },
  {
   "cell_type": "code",
   "execution_count": 60,
   "metadata": {},
   "outputs": [
    {
     "data": {
      "text/plain": [
       "<AxesSubplot:>"
      ]
     },
     "execution_count": 60,
     "metadata": {},
     "output_type": "execute_result"
    },
    {
     "data": {
      "image/png": "[encoded data removed]",
      "text/plain": [
       "<Figure size 432x288 with 1 Axes>"
      ]
     },
     "metadata": {
      "needs_background": "light"
     },
     "output_type": "display_data"
    }
   ],
   "source": [
    "sns.scatterplot(x=intentos, y=wss)\n",
    "sns.lineplot(x=intentos, y=wss)"
   ]
  },
  {
   "cell_type": "code",
   "execution_count": null,
   "metadata": {},
   "outputs": [],
   "source": []
  },
  {
   "cell_type": "code",
   "execution_count": 19,
   "metadata": {},
   "outputs": [],
   "source": [
    "from sklearn.cluster import KMeans"
   ]
  },
  {
   "cell_type": "code",
   "execution_count": 20,
   "metadata": {},
   "outputs": [],
   "source": [
    "model = KMeans(n_clusters=3)"
   ]
  },
  {
   "cell_type": "code",
   "execution_count": 61,
   "metadata": {},
   "outputs": [],
   "source": [
    "model = KMeans(n_clusters=4, verbose=2)"
   ]
  },
  {
   "cell_type": "code",
   "execution_count": 62,
   "metadata": {},
   "outputs": [
    {
     "name": "stdout",
     "output_type": "stream",
     "text": [
      "Initialization complete\n",
      "Iteration 0, inertia 8.436286529852627\n",
      "Iteration 1, inertia 7.6603105637854325\n",
      "Iteration 2, inertia 7.622294028204727\n",
      "Iteration 3, inertia 7.605125866908202\n",
      "Iteration 4, inertia 7.601681348125802\n",
      "Iteration 5, inertia 7.5967979783754895\n",
      "Iteration 6, inertia 7.59318768461878\n",
      "Iteration 7, inertia 7.588232204395121\n",
      "Iteration 8, inertia 7.585894799598841\n",
      "Converged at iteration 8: strict convergence.\n",
      "Initialization complete\n",
      "Iteration 0, inertia 9.644745226444284\n",
      "Iteration 1, inertia 8.021473005320795\n",
      "Iteration 2, inertia 7.736520696286065\n",
      "Iteration 3, inertia 7.680243640037563\n",
      "Iteration 4, inertia 7.604174653558081\n",
      "Iteration 5, inertia 7.542252879204956\n",
      "Iteration 6, inertia 7.533443572470982\n",
      "Iteration 7, inertia 7.529700743696186\n",
      "Iteration 8, inertia 7.527774331189459\n",
      "Iteration 9, inertia 7.5232552493660085\n",
      "Iteration 10, inertia 7.517904098302859\n",
      "Iteration 11, inertia 7.5043290861684\n",
      "Iteration 12, inertia 7.493617933267427\n",
      "Iteration 13, inertia 7.48958632747858\n",
      "Iteration 14, inertia 7.487684726543531\n",
      "Converged at iteration 14: strict convergence.\n",
      "Initialization complete\n",
      "Iteration 0, inertia 8.99195585224432\n",
      "Iteration 1, inertia 8.056556589226316\n",
      "Iteration 2, inertia 7.754878743096748\n",
      "Iteration 3, inertia 7.619730481119195\n",
      "Iteration 4, inertia 7.545501952167672\n",
      "Iteration 5, inertia 7.527150961425684\n",
      "Iteration 6, inertia 7.517137083780469\n",
      "Iteration 7, inertia 7.512205805468356\n",
      "Iteration 8, inertia 7.505454256843696\n",
      "Iteration 9, inertia 7.493713450859084\n",
      "Iteration 10, inertia 7.490765528540662\n",
      "Iteration 11, inertia 7.48833915471726\n",
      "Iteration 12, inertia 7.487883932020559\n",
      "Converged at iteration 12: strict convergence.\n",
      "Initialization complete\n",
      "Iteration 0, inertia 10.039810260719655\n",
      "Iteration 1, inertia 8.918329736073945\n",
      "Iteration 2, inertia 8.410847620697965\n",
      "Iteration 3, inertia 8.168147430774678\n",
      "Iteration 4, inertia 7.916224352944015\n",
      "Iteration 5, inertia 7.62045755327871\n",
      "Iteration 6, inertia 7.509585877595934\n",
      "Iteration 7, inertia 7.49112522429517\n",
      "Iteration 8, inertia 7.488217049170825\n",
      "Converged at iteration 8: strict convergence.\n",
      "Initialization complete\n",
      "Iteration 0, inertia 9.240731074382364\n",
      "Iteration 1, inertia 7.632216678269407\n",
      "Iteration 2, inertia 7.60353226474276\n",
      "Iteration 3, inertia 7.590460389814622\n",
      "Iteration 4, inertia 7.558681156631612\n",
      "Iteration 5, inertia 7.554184465345924\n",
      "Iteration 6, inertia 7.5526366118813995\n",
      "Converged at iteration 6: strict convergence.\n",
      "Initialization complete\n",
      "Iteration 0, inertia 11.680094248918826\n",
      "Iteration 1, inertia 8.851156005318103\n",
      "Iteration 2, inertia 8.592609681082951\n",
      "Iteration 3, inertia 8.349780583019802\n",
      "Iteration 4, inertia 8.011337638018619\n",
      "Iteration 5, inertia 7.719842939960266\n",
      "Iteration 6, inertia 7.614768281466556\n",
      "Iteration 7, inertia 7.602586705984689\n",
      "Iteration 8, inertia 7.595480894936832\n",
      "Iteration 9, inertia 7.59029063240681\n",
      "Iteration 10, inertia 7.588232204395121\n",
      "Iteration 11, inertia 7.585894799598841\n",
      "Converged at iteration 11: strict convergence.\n",
      "Initialization complete\n",
      "Iteration 0, inertia 12.401102295263959\n",
      "Iteration 1, inertia 10.801998611755073\n",
      "Iteration 2, inertia 10.484209701604462\n",
      "Iteration 3, inertia 10.00083914798458\n",
      "Iteration 4, inertia 9.489962303008587\n",
      "Iteration 5, inertia 9.119494306598648\n",
      "Iteration 6, inertia 8.52286877338181\n",
      "Iteration 7, inertia 7.915333247220454\n",
      "Iteration 8, inertia 7.645917373830521\n",
      "Iteration 9, inertia 7.535084160211349\n",
      "Iteration 10, inertia 7.522504136398083\n",
      "Iteration 11, inertia 7.5197971556693295\n",
      "Converged at iteration 11: strict convergence.\n",
      "Initialization complete\n",
      "Iteration 0, inertia 9.195802829770814\n",
      "Iteration 1, inertia 7.702316174819298\n",
      "Iteration 2, inertia 7.617780157475801\n",
      "Iteration 3, inertia 7.602404085754552\n",
      "Iteration 4, inertia 7.590877904380676\n",
      "Iteration 5, inertia 7.588191805347988\n",
      "Iteration 6, inertia 7.587861254384572\n",
      "Converged at iteration 6: strict convergence.\n",
      "Initialization complete\n",
      "Iteration 0, inertia 9.960308895325138\n",
      "Iteration 1, inertia 8.250281327997753\n",
      "Iteration 2, inertia 7.768808708456649\n",
      "Iteration 3, inertia 7.55559015412702\n",
      "Iteration 4, inertia 7.511424105325565\n",
      "Iteration 5, inertia 7.500691106209612\n",
      "Iteration 6, inertia 7.500142498850361\n",
      "Iteration 7, inertia 7.4996314410647145\n",
      "Iteration 8, inertia 7.498547130715526\n",
      "Iteration 9, inertia 7.497384561588419\n",
      "Iteration 10, inertia 7.493761932776492\n",
      "Iteration 11, inertia 7.491879059355251\n",
      "Iteration 12, inertia 7.489590065665222\n",
      "Iteration 13, inertia 7.487722291945176\n",
      "Iteration 14, inertia 7.487331370547567\n",
      "Converged at iteration 14: strict convergence.\n",
      "Initialization complete\n",
      "Iteration 0, inertia 10.811534513647027\n",
      "Iteration 1, inertia 8.838191346765687\n",
      "Iteration 2, inertia 8.555505542709623\n",
      "Iteration 3, inertia 8.39469239979245\n",
      "Iteration 4, inertia 8.260030306019301\n",
      "Iteration 5, inertia 8.216949449061925\n",
      "Iteration 6, inertia 8.177543486848887\n",
      "Iteration 7, inertia 8.12724487082415\n",
      "Iteration 8, inertia 7.990446767701283\n",
      "Iteration 9, inertia 7.746904520110652\n",
      "Iteration 10, inertia 7.622466414109096\n",
      "Iteration 11, inertia 7.560242440990392\n",
      "Iteration 12, inertia 7.53423457228119\n",
      "Iteration 13, inertia 7.524135823372659\n",
      "Iteration 14, inertia 7.517137083780469\n",
      "Iteration 15, inertia 7.512205805468356\n",
      "Iteration 16, inertia 7.505454256843696\n",
      "Iteration 17, inertia 7.493713450859084\n",
      "Iteration 18, inertia 7.490765528540662\n",
      "Iteration 19, inertia 7.48833915471726\n",
      "Iteration 20, inertia 7.487883932020559\n",
      "Converged at iteration 20: strict convergence.\n"
     ]
    },
    {
     "data": {
      "text/plain": [
       "KMeans(n_clusters=4, verbose=2)"
      ]
     },
     "execution_count": 62,
     "metadata": {},
     "output_type": "execute_result"
    }
   ],
   "source": [
    "model.fit(X=dfnorm)"
   ]
  },
  {
   "cell_type": "markdown",
   "metadata": {},
   "source": [
    "# Realizar Predicciones"
   ]
  },
  {
   "cell_type": "markdown",
   "metadata": {},
   "source": [
    "> - `model.predict()`"
   ]
  },
  {
   "cell_type": "code",
   "execution_count": 63,
   "metadata": {},
   "outputs": [],
   "source": [
    "dfpred = dfnorm"
   ]
  },
  {
   "cell_type": "code",
   "execution_count": 64,
   "metadata": {},
   "outputs": [],
   "source": [
    "dfpred['cluster'] = model.predict(dfnorm)"
   ]
  },
  {
   "cell_type": "code",
   "execution_count": 65,
   "metadata": {},
   "outputs": [
    {
     "data": {
      "text/html": [
       "<div>\n",
       "<style scoped>\n",
       "    .dataframe tbody tr th:only-of-type {\n",
       "        vertical-align: middle;\n",
       "    }\n",
       "\n",
       "    .dataframe tbody tr th {\n",
       "        vertical-align: top;\n",
       "    }\n",
       "\n",
       "    .dataframe thead th {\n",
       "        text-align: right;\n",
       "    }\n",
       "</style>\n",
       "<table border=\"1\" class=\"dataframe\">\n",
       "  <thead>\n",
       "    <tr style=\"text-align: right;\">\n",
       "      <th></th>\n",
       "      <th>mpg</th>\n",
       "      <th>acceleration</th>\n",
       "      <th>cluster</th>\n",
       "    </tr>\n",
       "    <tr>\n",
       "      <th>name</th>\n",
       "      <th></th>\n",
       "      <th></th>\n",
       "      <th></th>\n",
       "    </tr>\n",
       "  </thead>\n",
       "  <tbody>\n",
       "    <tr>\n",
       "      <th>chevrolet chevelle malibu</th>\n",
       "      <td>0.239362</td>\n",
       "      <td>0.238095</td>\n",
       "      <td>0</td>\n",
       "    </tr>\n",
       "    <tr>\n",
       "      <th>buick skylark 320</th>\n",
       "      <td>0.159574</td>\n",
       "      <td>0.208333</td>\n",
       "      <td>0</td>\n",
       "    </tr>\n",
       "    <tr>\n",
       "      <th>plymouth satellite</th>\n",
       "      <td>0.239362</td>\n",
       "      <td>0.178571</td>\n",
       "      <td>0</td>\n",
       "    </tr>\n",
       "    <tr>\n",
       "      <th>amc rebel sst</th>\n",
       "      <td>0.186170</td>\n",
       "      <td>0.238095</td>\n",
       "      <td>0</td>\n",
       "    </tr>\n",
       "    <tr>\n",
       "      <th>ford torino</th>\n",
       "      <td>0.212766</td>\n",
       "      <td>0.148810</td>\n",
       "      <td>0</td>\n",
       "    </tr>\n",
       "  </tbody>\n",
       "</table>\n",
       "</div>"
      ],
      "text/plain": [
       "                                mpg  acceleration  cluster\n",
       "name                                                      \n",
       "chevrolet chevelle malibu  0.239362      0.238095        0\n",
       "buick skylark 320          0.159574      0.208333        0\n",
       "plymouth satellite         0.239362      0.178571        0\n",
       "amc rebel sst              0.186170      0.238095        0\n",
       "ford torino                0.212766      0.148810        0"
      ]
     },
     "execution_count": 65,
     "metadata": {},
     "output_type": "execute_result"
    }
   ],
   "source": [
    "dfnorm.head()"
   ]
  },
  {
   "cell_type": "markdown",
   "metadata": {},
   "source": [
    "# Visualizar Modelo"
   ]
  },
  {
   "cell_type": "markdown",
   "metadata": {},
   "source": [
    "> - Scatterplot con puntos coloreados según el grupo al que pertenece cada observación: `hue = model.labels_`\n",
    "> - Añade otra capa de puntos, los cuales indicarán los centroides (se encuentran en `model.cluster_centers_`)"
   ]
  },
  {
   "cell_type": "code",
   "execution_count": 66,
   "metadata": {},
   "outputs": [],
   "source": [
    "df_centroides = pd.DataFrame(model.cluster_centers_, columns=['mpg', 'acceleration'])"
   ]
  },
  {
   "cell_type": "code",
   "execution_count": 67,
   "metadata": {},
   "outputs": [
    {
     "data": {
      "text/plain": [
       "<AxesSubplot:xlabel='mpg', ylabel='acceleration'>"
      ]
     },
     "execution_count": 67,
     "metadata": {},
     "output_type": "execute_result"
    },
    {
     "data": {
      "image/png": "[encoded data removed]",
      "text/plain": [
       "<Figure size 432x288 with 1 Axes>"
      ]
     },
     "metadata": {
      "needs_background": "light"
     },
     "output_type": "display_data"
    }
   ],
   "source": [
    "sns.scatterplot(x='mpg', y='acceleration', data=dfpred, hue= 'cluster', palette='Set1')\n",
    "sns.scatterplot(x='mpg', y='acceleration', data=df_centroides, hue= df_centroides.index, palette='Set1', s=500, marker='X')"
   ]
  },
  {
   "cell_type": "code",
   "execution_count": 70,
   "metadata": {},
   "outputs": [
    {
     "data": {
      "text/html": [
       "<div>\n",
       "<style scoped>\n",
       "    .dataframe tbody tr th:only-of-type {\n",
       "        vertical-align: middle;\n",
       "    }\n",
       "\n",
       "    .dataframe tbody tr th {\n",
       "        vertical-align: top;\n",
       "    }\n",
       "\n",
       "    .dataframe thead th {\n",
       "        text-align: right;\n",
       "    }\n",
       "</style>\n",
       "<table border=\"1\" class=\"dataframe\">\n",
       "  <thead>\n",
       "    <tr style=\"text-align: right;\">\n",
       "      <th></th>\n",
       "      <th>mpg</th>\n",
       "      <th>acceleration</th>\n",
       "      <th>cluster</th>\n",
       "    </tr>\n",
       "    <tr>\n",
       "      <th>name</th>\n",
       "      <th></th>\n",
       "      <th></th>\n",
       "      <th></th>\n",
       "    </tr>\n",
       "  </thead>\n",
       "  <tbody>\n",
       "    <tr>\n",
       "      <th>chevrolet chevelle malibu</th>\n",
       "      <td>0.239362</td>\n",
       "      <td>0.238095</td>\n",
       "      <td>0</td>\n",
       "    </tr>\n",
       "    <tr>\n",
       "      <th>buick skylark 320</th>\n",
       "      <td>0.159574</td>\n",
       "      <td>0.208333</td>\n",
       "      <td>0</td>\n",
       "    </tr>\n",
       "    <tr>\n",
       "      <th>plymouth satellite</th>\n",
       "      <td>0.239362</td>\n",
       "      <td>0.178571</td>\n",
       "      <td>0</td>\n",
       "    </tr>\n",
       "    <tr>\n",
       "      <th>amc rebel sst</th>\n",
       "      <td>0.186170</td>\n",
       "      <td>0.238095</td>\n",
       "      <td>0</td>\n",
       "    </tr>\n",
       "    <tr>\n",
       "      <th>ford torino</th>\n",
       "      <td>0.212766</td>\n",
       "      <td>0.148810</td>\n",
       "      <td>0</td>\n",
       "    </tr>\n",
       "  </tbody>\n",
       "</table>\n",
       "</div>"
      ],
      "text/plain": [
       "                                mpg  acceleration  cluster\n",
       "name                                                      \n",
       "chevrolet chevelle malibu  0.239362      0.238095        0\n",
       "buick skylark 320          0.159574      0.208333        0\n",
       "plymouth satellite         0.239362      0.178571        0\n",
       "amc rebel sst              0.186170      0.238095        0\n",
       "ford torino                0.212766      0.148810        0"
      ]
     },
     "execution_count": 70,
     "metadata": {},
     "output_type": "execute_result"
    }
   ],
   "source": [
    "dfnorm.head()"
   ]
  },
  {
   "cell_type": "code",
   "execution_count": 71,
   "metadata": {},
   "outputs": [
    {
     "data": {
      "text/plain": [
       "array([0], dtype=int32)"
      ]
     },
     "execution_count": 71,
     "metadata": {},
     "output_type": "execute_result"
    }
   ],
   "source": [
    "model.predict(X=[[0.2, 0.3]])"
   ]
  },
  {
   "cell_type": "markdown",
   "metadata": {},
   "source": [
    "# Interpretar Modelo"
   ]
  },
  {
   "cell_type": "markdown",
   "metadata": {},
   "source": [
    "> 1. Si tuvieras que ponerle nombre a cada grupo, ¿cuál le darías?\n",
    "> 2. ¿En qué te basas para ello?"
   ]
  },
  {
   "cell_type": "code",
   "execution_count": 68,
   "metadata": {},
   "outputs": [
    {
     "data": {
      "text/html": [
       "<div>\n",
       "<style scoped>\n",
       "    .dataframe tbody tr th:only-of-type {\n",
       "        vertical-align: middle;\n",
       "    }\n",
       "\n",
       "    .dataframe tbody tr th {\n",
       "        vertical-align: top;\n",
       "    }\n",
       "\n",
       "    .dataframe thead th {\n",
       "        text-align: right;\n",
       "    }\n",
       "</style>\n",
       "<table border=\"1\" class=\"dataframe\">\n",
       "  <thead>\n",
       "    <tr style=\"text-align: right;\">\n",
       "      <th></th>\n",
       "      <th>mpg</th>\n",
       "      <th>acceleration</th>\n",
       "    </tr>\n",
       "    <tr>\n",
       "      <th>cluster</th>\n",
       "      <th></th>\n",
       "      <th></th>\n",
       "    </tr>\n",
       "  </thead>\n",
       "  <tbody>\n",
       "    <tr>\n",
       "      <th>0</th>\n",
       "      <td>0.166689</td>\n",
       "      <td>0.292023</td>\n",
       "    </tr>\n",
       "    <tr>\n",
       "      <th>1</th>\n",
       "      <td>0.694149</td>\n",
       "      <td>0.552064</td>\n",
       "    </tr>\n",
       "    <tr>\n",
       "      <th>2</th>\n",
       "      <td>0.323764</td>\n",
       "      <td>0.599848</td>\n",
       "    </tr>\n",
       "    <tr>\n",
       "      <th>3</th>\n",
       "      <td>0.462739</td>\n",
       "      <td>0.403274</td>\n",
       "    </tr>\n",
       "  </tbody>\n",
       "</table>\n",
       "</div>"
      ],
      "text/plain": [
       "              mpg  acceleration\n",
       "cluster                        \n",
       "0        0.166689      0.292023\n",
       "1        0.694149      0.552064\n",
       "2        0.323764      0.599848\n",
       "3        0.462739      0.403274"
      ]
     },
     "execution_count": 68,
     "metadata": {},
     "output_type": "execute_result"
    }
   ],
   "source": [
    "dfpred.groupby('cluster').mean()"
   ]
  },
  {
   "cell_type": "markdown",
   "metadata": {},
   "source": [
    "# Objetivos Alcanzados"
   ]
  },
  {
   "cell_type": "markdown",
   "metadata": {},
   "source": [
    "_Haz doble click sobre esta celda y pon una `X` dentro de las casillas [X] si crees que has superado los objetivos:_\n",
    "\n",
    "- [X] Entender **cómo la máquina optimiza un modelo**, que no es más que encontrar **los números** una ecuación matemática.\n",
    "- [X] La importancia de la **Suma de Cuadrados** como concepto fundamental de la estadística para medir el **error**.\n",
    "- [X] Entender la necesidad de **Normalizar** los datos al emplear un algoritmo que involucra el **cálculo de distancias**.\n",
    "- [X] Entender que la estadística no es más que una forma de aproximarse a la realidad. Y esta aproximación no es una ciencia exacta, sino **subjetiva**.\n",
    "- [X] Empezar a distinguir, más aún, que la programación es una herramienta hacia un fin.\n",
    "- [X] Al principio, nos salen muchos errores programando y creemos que no valemos para esto. Sin embargo, en este momento del programa, veremos que existen unos **patrones que siempre se cumplen en los errores** y empezaremos a **entender la máquina**.\n",
    "- [X] Una vez más, nos daremos cuenta de que existen **distintos modelos para realizar el Análisis de Cluster**. De la misma manera que en el anterior capítulo también existían diversos Modelos de Regresión."
   ]
  },
  {
   "cell_type": "code",
   "execution_count": 72,
   "metadata": {},
   "outputs": [],
   "source": [
    "dfnorm = dfnorm[['mpg', 'acceleration']]"
   ]
  },
  {
   "cell_type": "code",
   "execution_count": 89,
   "metadata": {},
   "outputs": [],
   "source": [
    "from sklearn.mixture import GaussianMixture "
   ]
  },
  {
   "cell_type": "code",
   "execution_count": 91,
   "metadata": {},
   "outputs": [],
   "source": [
    "model = GaussianMixture(n_components=3)"
   ]
  },
  {
   "cell_type": "code",
   "execution_count": 92,
   "metadata": {},
   "outputs": [
    {
     "data": {
      "text/plain": [
       "GaussianMixture(n_components=3)"
      ]
     },
     "execution_count": 92,
     "metadata": {},
     "output_type": "execute_result"
    }
   ],
   "source": [
    "model.fit(X=dfnorm)"
   ]
  },
  {
   "cell_type": "markdown",
   "metadata": {},
   "source": [
    "# Realizar Predicciones"
   ]
  },
  {
   "cell_type": "markdown",
   "metadata": {},
   "source": [
    "> - `model.predict()`"
   ]
  },
  {
   "cell_type": "code",
   "execution_count": 93,
   "metadata": {},
   "outputs": [],
   "source": [
    "dfpred = dfnorm"
   ]
  },
  {
   "cell_type": "code",
   "execution_count": 98,
   "metadata": {},
   "outputs": [],
   "source": [
    "dfpred['cluster'] = model.predict(dfnorm)"
   ]
  },
  {
   "cell_type": "code",
   "execution_count": 99,
   "metadata": {},
   "outputs": [
    {
     "data": {
      "text/html": [
       "<div>\n",
       "<style scoped>\n",
       "    .dataframe tbody tr th:only-of-type {\n",
       "        vertical-align: middle;\n",
       "    }\n",
       "\n",
       "    .dataframe tbody tr th {\n",
       "        vertical-align: top;\n",
       "    }\n",
       "\n",
       "    .dataframe thead th {\n",
       "        text-align: right;\n",
       "    }\n",
       "</style>\n",
       "<table border=\"1\" class=\"dataframe\">\n",
       "  <thead>\n",
       "    <tr style=\"text-align: right;\">\n",
       "      <th></th>\n",
       "      <th>mpg</th>\n",
       "      <th>acceleration</th>\n",
       "      <th>cluster</th>\n",
       "    </tr>\n",
       "    <tr>\n",
       "      <th>name</th>\n",
       "      <th></th>\n",
       "      <th></th>\n",
       "      <th></th>\n",
       "    </tr>\n",
       "  </thead>\n",
       "  <tbody>\n",
       "    <tr>\n",
       "      <th>chevrolet chevelle malibu</th>\n",
       "      <td>0.239362</td>\n",
       "      <td>0.238095</td>\n",
       "      <td>2</td>\n",
       "    </tr>\n",
       "    <tr>\n",
       "      <th>buick skylark 320</th>\n",
       "      <td>0.159574</td>\n",
       "      <td>0.208333</td>\n",
       "      <td>2</td>\n",
       "    </tr>\n",
       "    <tr>\n",
       "      <th>plymouth satellite</th>\n",
       "      <td>0.239362</td>\n",
       "      <td>0.178571</td>\n",
       "      <td>2</td>\n",
       "    </tr>\n",
       "    <tr>\n",
       "      <th>amc rebel sst</th>\n",
       "      <td>0.186170</td>\n",
       "      <td>0.238095</td>\n",
       "      <td>2</td>\n",
       "    </tr>\n",
       "    <tr>\n",
       "      <th>ford torino</th>\n",
       "      <td>0.212766</td>\n",
       "      <td>0.148810</td>\n",
       "      <td>2</td>\n",
       "    </tr>\n",
       "  </tbody>\n",
       "</table>\n",
       "</div>"
      ],
      "text/plain": [
       "                                mpg  acceleration  cluster\n",
       "name                                                      \n",
       "chevrolet chevelle malibu  0.239362      0.238095        2\n",
       "buick skylark 320          0.159574      0.208333        2\n",
       "plymouth satellite         0.239362      0.178571        2\n",
       "amc rebel sst              0.186170      0.238095        2\n",
       "ford torino                0.212766      0.148810        2"
      ]
     },
     "execution_count": 99,
     "metadata": {},
     "output_type": "execute_result"
    }
   ],
   "source": [
    "dfnorm.head()"
   ]
  },
  {
   "cell_type": "markdown",
   "metadata": {},
   "source": [
    "# Visualizar Modelo"
   ]
  },
  {
   "cell_type": "markdown",
   "metadata": {},
   "source": [
    "> - Scatterplot con puntos coloreados según el grupo al que pertenece cada observación: `hue = model.labels_`\n",
    "> - Añade otra capa de puntos, los cuales indicarán los centroides (se encuentran en `model.cluster_centers_`)"
   ]
  },
  {
   "cell_type": "code",
   "execution_count": 100,
   "metadata": {},
   "outputs": [
    {
     "data": {
      "text/plain": [
       "<AxesSubplot:xlabel='mpg', ylabel='acceleration'>"
      ]
     },
     "execution_count": 100,
     "metadata": {},
     "output_type": "execute_result"
    },
    {
     "data": {
      "image/png": "[encoded data removed]",
      "text/plain": [
       "<Figure size 432x288 with 1 Axes>"
      ]
     },
     "metadata": {
      "needs_background": "light"
     },
     "output_type": "display_data"
    }
   ],
   "source": [
    "sns.scatterplot(x='mpg', y='acceleration', data=dfpred, hue= 'cluster', palette='Set1')"
   ]
  },
  {
   "cell_type": "code",
   "execution_count": 97,
   "metadata": {},
   "outputs": [
    {
     "data": {
      "text/html": [
       "<div>\n",
       "<style scoped>\n",
       "    .dataframe tbody tr th:only-of-type {\n",
       "        vertical-align: middle;\n",
       "    }\n",
       "\n",
       "    .dataframe tbody tr th {\n",
       "        vertical-align: top;\n",
       "    }\n",
       "\n",
       "    .dataframe thead th {\n",
       "        text-align: right;\n",
       "    }\n",
       "</style>\n",
       "<table border=\"1\" class=\"dataframe\">\n",
       "  <thead>\n",
       "    <tr style=\"text-align: right;\">\n",
       "      <th></th>\n",
       "      <th>mpg</th>\n",
       "      <th>acceleration</th>\n",
       "      <th>cluster</th>\n",
       "    </tr>\n",
       "    <tr>\n",
       "      <th>name</th>\n",
       "      <th></th>\n",
       "      <th></th>\n",
       "      <th></th>\n",
       "    </tr>\n",
       "  </thead>\n",
       "  <tbody>\n",
       "    <tr>\n",
       "      <th>chevrolet chevelle malibu</th>\n",
       "      <td>0.239362</td>\n",
       "      <td>0.238095</td>\n",
       "      <td>0</td>\n",
       "    </tr>\n",
       "    <tr>\n",
       "      <th>buick skylark 320</th>\n",
       "      <td>0.159574</td>\n",
       "      <td>0.208333</td>\n",
       "      <td>0</td>\n",
       "    </tr>\n",
       "    <tr>\n",
       "      <th>plymouth satellite</th>\n",
       "      <td>0.239362</td>\n",
       "      <td>0.178571</td>\n",
       "      <td>0</td>\n",
       "    </tr>\n",
       "    <tr>\n",
       "      <th>amc rebel sst</th>\n",
       "      <td>0.186170</td>\n",
       "      <td>0.238095</td>\n",
       "      <td>0</td>\n",
       "    </tr>\n",
       "    <tr>\n",
       "      <th>ford torino</th>\n",
       "      <td>0.212766</td>\n",
       "      <td>0.148810</td>\n",
       "      <td>0</td>\n",
       "    </tr>\n",
       "  </tbody>\n",
       "</table>\n",
       "</div>"
      ],
      "text/plain": [
       "                                mpg  acceleration  cluster\n",
       "name                                                      \n",
       "chevrolet chevelle malibu  0.239362      0.238095        0\n",
       "buick skylark 320          0.159574      0.208333        0\n",
       "plymouth satellite         0.239362      0.178571        0\n",
       "amc rebel sst              0.186170      0.238095        0\n",
       "ford torino                0.212766      0.148810        0"
      ]
     },
     "execution_count": 97,
     "metadata": {},
     "output_type": "execute_result"
    }
   ],
   "source": [
    "dfnorm.head()"
   ]
  },
  {
   "cell_type": "code",
   "execution_count": 71,
   "metadata": {},
   "outputs": [
    {
     "data": {
      "text/plain": [
       "array([0], dtype=int32)"
      ]
     },
     "execution_count": 71,
     "metadata": {},
     "output_type": "execute_result"
    }
   ],
   "source": [
    "model.predict(X=[[0.2, 0.3]])"
   ]
  },
  {
   "cell_type": "markdown",
   "metadata": {},
   "source": [
    "# Interpretar Modelo"
   ]
  },
  {
   "cell_type": "markdown",
   "metadata": {},
   "source": [
    "> 1. Si tuvieras que ponerle nombre a cada grupo, ¿cuál le darías?\n",
    "> 2. ¿En qué te basas para ello?"
   ]
  },
  {
   "cell_type": "code",
   "execution_count": 68,
   "metadata": {},
   "outputs": [
    {
     "data": {
      "text/html": [
       "<div>\n",
       "<style scoped>\n",
       "    .dataframe tbody tr th:only-of-type {\n",
       "        vertical-align: middle;\n",
       "    }\n",
       "\n",
       "    .dataframe tbody tr th {\n",
       "        vertical-align: top;\n",
       "    }\n",
       "\n",
       "    .dataframe thead th {\n",
       "        text-align: right;\n",
       "    }\n",
       "</style>\n",
       "<table border=\"1\" class=\"dataframe\">\n",
       "  <thead>\n",
       "    <tr style=\"text-align: right;\">\n",
       "      <th></th>\n",
       "      <th>mpg</th>\n",
       "      <th>acceleration</th>\n",
       "    </tr>\n",
       "    <tr>\n",
       "      <th>cluster</th>\n",
       "      <th></th>\n",
       "      <th></th>\n",
       "    </tr>\n",
       "  </thead>\n",
       "  <tbody>\n",
       "    <tr>\n",
       "      <th>0</th>\n",
       "      <td>0.166689</td>\n",
       "      <td>0.292023</td>\n",
       "    </tr>\n",
       "    <tr>\n",
       "      <th>1</th>\n",
       "      <td>0.694149</td>\n",
       "      <td>0.552064</td>\n",
       "    </tr>\n",
       "    <tr>\n",
       "      <th>2</th>\n",
       "      <td>0.323764</td>\n",
       "      <td>0.599848</td>\n",
       "    </tr>\n",
       "    <tr>\n",
       "      <th>3</th>\n",
       "      <td>0.462739</td>\n",
       "      <td>0.403274</td>\n",
       "    </tr>\n",
       "  </tbody>\n",
       "</table>\n",
       "</div>"
      ],
      "text/plain": [
       "              mpg  acceleration\n",
       "cluster                        \n",
       "0        0.166689      0.292023\n",
       "1        0.694149      0.552064\n",
       "2        0.323764      0.599848\n",
       "3        0.462739      0.403274"
      ]
     },
     "execution_count": 68,
     "metadata": {},
     "output_type": "execute_result"
    }
   ],
   "source": [
    "dfpred.groupby('cluster').mean()"
   ]
  },
  {
   "cell_type": "markdown",
   "metadata": {},
   "source": [
    "# Objetivos Alcanzados"
   ]
  },
  {
   "cell_type": "markdown",
   "metadata": {},
   "source": [
    "_Haz doble click sobre esta celda y pon una `X` dentro de las casillas [X] si crees que has superado los objetivos:_\n",
    "\n",
    "- [X] Entender **cómo la máquina optimiza un modelo**, que no es más que encontrar **los números** una ecuación matemática.\n",
    "- [X] La importancia de la **Suma de Cuadrados** como concepto fundamental de la estadística para medir el **error**.\n",
    "- [X] Entender la necesidad de **Normalizar** los datos al emplear un algoritmo que involucra el **cálculo de distancias**.\n",
    "- [X] Entender que la estadística no es más que una forma de aproximarse a la realidad. Y esta aproximación no es una ciencia exacta, sino **subjetiva**.\n",
    "- [X] Empezar a distinguir, más aún, que la programación es una herramienta hacia un fin.\n",
    "- [X] Al principio, nos salen muchos errores programando y creemos que no valemos para esto. Sin embargo, en este momento del programa, veremos que existen unos **patrones que siempre se cumplen en los errores** y empezaremos a **entender la máquina**.\n",
    "- [X] Una vez más, nos daremos cuenta de que existen **distintos modelos para realizar el Análisis de Cluster**. De la misma manera que en el anterior capítulo también existían diversos Modelos de Regresión."
   ]
  }
 ],
 "metadata": {
  "authors": [
   {
    "name": "Jesús López @sotastica"
   }
  ],
  "kernelspec": {
   "display_name": "Python 3",
   "language": "python",
   "name": "python3"
  },
  "language_info": {
   "codemirror_mode": {
    "name": "ipython",
    "version": 3
   },
   "file_extension": ".py",
   "mimetype": "text/x-python",
   "name": "python",
   "nbconvert_exporter": "python",
   "pygments_lexer": "ipython3",
   "version": "3.8.8"
  }
 },
 "nbformat": 4,
 "nbformat_minor": 4
}
