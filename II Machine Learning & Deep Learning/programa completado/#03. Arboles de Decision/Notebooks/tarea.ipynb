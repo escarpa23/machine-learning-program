{
 "cells": [
  {
   "cell_type": "markdown",
   "id": "d938988d",
   "metadata": {},
   "source": [
    "<font size=\"+5\">#03. Arboles de Decision</font>"
   ]
  },
  {
   "cell_type": "markdown",
   "id": "0d876d50",
   "metadata": {},
   "source": [
    "<ul>\n",
    "    <li>Resolver dudas → Pregunta en <img src=\"https://discord.com/assets/f9bb9c4af2b9c32a2c5ee0014661546d.png\" style=\"height: 1em; vertical-align: middle;\"> <a href=\"https://discord.gg/cmB3KGsqMy\">Discord</a></li>\n",
    "    <li>Tutoriales → <img src=\"https://openmoji.org/php/download_asset.php?type=emoji&emoji_hexcode=E044&emoji_variant=color\" style=\"height: 1em; vertical-align: middle;\"> <a href=\"https://www.youtube.com/channel/UCovCte2I3loteQE_kRsfQcw\">YouTube</a></li>\n",
    "    <li>Reservar Clases → <span style=\"color: orange\">@</span> <a href=\"https://sotastica.com/reservar\">sotastica</a></li>\n",
    "</ul>"
   ]
  },
  {
   "cell_type": "markdown",
   "id": "18bca0f8",
   "metadata": {},
   "source": [
    "# Cargar Datos"
   ]
  },
  {
   "cell_type": "markdown",
   "id": "88ff4d12",
   "metadata": {},
   "source": [
    "Usamos la base de datos del **CIS** sobre una muestra de 2455, cuyas características son de aspecto sociológico. El `objetivo es determinar si una persona usa internet o no`.\n",
    "\n",
    "```python\n",
    "df = pd.read_csv('https://raw.githubusercontent.com/sotastica/data/main/uso_internet_espana.csv')\n",
    "df.head()\n",
    "```"
   ]
  },
  {
   "cell_type": "code",
   "execution_count": 1,
   "id": "6d90f39f-4a1f-40ca-81b2-45124d76d040",
   "metadata": {},
   "outputs": [],
   "source": [
    "import pandas as pd"
   ]
  },
  {
   "cell_type": "code",
   "execution_count": 2,
   "id": "1df549df",
   "metadata": {},
   "outputs": [
    {
     "data": {
      "text/html": [
       "<div>\n",
       "<style scoped>\n",
       "    .dataframe tbody tr th:only-of-type {\n",
       "        vertical-align: middle;\n",
       "    }\n",
       "\n",
       "    .dataframe tbody tr th {\n",
       "        vertical-align: top;\n",
       "    }\n",
       "\n",
       "    .dataframe thead th {\n",
       "        text-align: right;\n",
       "    }\n",
       "</style>\n",
       "<table border=\"1\" class=\"dataframe\">\n",
       "  <thead>\n",
       "    <tr style=\"text-align: right;\">\n",
       "      <th></th>\n",
       "      <th>uso_internet</th>\n",
       "      <th>sexo</th>\n",
       "      <th>edad</th>\n",
       "      <th>estudios</th>\n",
       "    </tr>\n",
       "  </thead>\n",
       "  <tbody>\n",
       "    <tr>\n",
       "      <th>0</th>\n",
       "      <td>0</td>\n",
       "      <td>Mujer</td>\n",
       "      <td>66</td>\n",
       "      <td>Primaria</td>\n",
       "    </tr>\n",
       "    <tr>\n",
       "      <th>1</th>\n",
       "      <td>1</td>\n",
       "      <td>Hombre</td>\n",
       "      <td>72</td>\n",
       "      <td>Primaria</td>\n",
       "    </tr>\n",
       "    <tr>\n",
       "      <th>2</th>\n",
       "      <td>1</td>\n",
       "      <td>Hombre</td>\n",
       "      <td>48</td>\n",
       "      <td>Medios universitarios</td>\n",
       "    </tr>\n",
       "    <tr>\n",
       "      <th>3</th>\n",
       "      <td>0</td>\n",
       "      <td>Hombre</td>\n",
       "      <td>59</td>\n",
       "      <td>Superiores</td>\n",
       "    </tr>\n",
       "    <tr>\n",
       "      <th>4</th>\n",
       "      <td>1</td>\n",
       "      <td>Mujer</td>\n",
       "      <td>44</td>\n",
       "      <td>Superiores</td>\n",
       "    </tr>\n",
       "  </tbody>\n",
       "</table>\n",
       "</div>"
      ],
      "text/plain": [
       "   uso_internet    sexo  edad               estudios\n",
       "0             0   Mujer    66               Primaria\n",
       "1             1  Hombre    72               Primaria\n",
       "2             1  Hombre    48  Medios universitarios\n",
       "3             0  Hombre    59             Superiores\n",
       "4             1   Mujer    44             Superiores"
      ]
     },
     "execution_count": 2,
     "metadata": {},
     "output_type": "execute_result"
    }
   ],
   "source": [
    "df = pd.read_csv('https://raw.githubusercontent.com/sotastica/data/main/uso_internet_espana.csv')\n",
    "df.head()"
   ]
  },
  {
   "cell_type": "markdown",
   "id": "5e0769a9",
   "metadata": {},
   "source": [
    "# Transformación de los Datos"
   ]
  },
  {
   "cell_type": "markdown",
   "id": "cb47faca",
   "metadata": {},
   "source": [
    "> 1. Las variables categóricas tienen valores de tipo `string` u `object`. Podéis consultarlo con `df.dtypes`.\n",
    "> 2. El modelo no puede optimizarse si hay columnas de dichos tipos.\n",
    "> 3. Deberíamos convertir las columnas categóricas a 0s y 1s. Es decir, **Variables Dummy**. Para ello, usaremos la función `pd.get_dummies(df)`."
   ]
  },
  {
   "cell_type": "code",
   "execution_count": 3,
   "id": "5a14dffd",
   "metadata": {},
   "outputs": [
    {
     "data": {
      "text/html": [
       "<div>\n",
       "<style scoped>\n",
       "    .dataframe tbody tr th:only-of-type {\n",
       "        vertical-align: middle;\n",
       "    }\n",
       "\n",
       "    .dataframe tbody tr th {\n",
       "        vertical-align: top;\n",
       "    }\n",
       "\n",
       "    .dataframe thead th {\n",
       "        text-align: right;\n",
       "    }\n",
       "</style>\n",
       "<table border=\"1\" class=\"dataframe\">\n",
       "  <thead>\n",
       "    <tr style=\"text-align: right;\">\n",
       "      <th></th>\n",
       "      <th>uso_internet</th>\n",
       "      <th>edad</th>\n",
       "      <th>sexo_Hombre</th>\n",
       "      <th>sexo_Mujer</th>\n",
       "      <th>estudios_F.P.</th>\n",
       "      <th>estudios_Medios universitarios</th>\n",
       "      <th>estudios_Primaria</th>\n",
       "      <th>estudios_Secundaria</th>\n",
       "      <th>estudios_Sin estudios</th>\n",
       "      <th>estudios_Superiores</th>\n",
       "    </tr>\n",
       "  </thead>\n",
       "  <tbody>\n",
       "    <tr>\n",
       "      <th>0</th>\n",
       "      <td>0</td>\n",
       "      <td>66</td>\n",
       "      <td>0</td>\n",
       "      <td>1</td>\n",
       "      <td>0</td>\n",
       "      <td>0</td>\n",
       "      <td>1</td>\n",
       "      <td>0</td>\n",
       "      <td>0</td>\n",
       "      <td>0</td>\n",
       "    </tr>\n",
       "    <tr>\n",
       "      <th>1</th>\n",
       "      <td>1</td>\n",
       "      <td>72</td>\n",
       "      <td>1</td>\n",
       "      <td>0</td>\n",
       "      <td>0</td>\n",
       "      <td>0</td>\n",
       "      <td>1</td>\n",
       "      <td>0</td>\n",
       "      <td>0</td>\n",
       "      <td>0</td>\n",
       "    </tr>\n",
       "    <tr>\n",
       "      <th>2</th>\n",
       "      <td>1</td>\n",
       "      <td>48</td>\n",
       "      <td>1</td>\n",
       "      <td>0</td>\n",
       "      <td>0</td>\n",
       "      <td>1</td>\n",
       "      <td>0</td>\n",
       "      <td>0</td>\n",
       "      <td>0</td>\n",
       "      <td>0</td>\n",
       "    </tr>\n",
       "    <tr>\n",
       "      <th>3</th>\n",
       "      <td>0</td>\n",
       "      <td>59</td>\n",
       "      <td>1</td>\n",
       "      <td>0</td>\n",
       "      <td>0</td>\n",
       "      <td>0</td>\n",
       "      <td>0</td>\n",
       "      <td>0</td>\n",
       "      <td>0</td>\n",
       "      <td>1</td>\n",
       "    </tr>\n",
       "    <tr>\n",
       "      <th>4</th>\n",
       "      <td>1</td>\n",
       "      <td>44</td>\n",
       "      <td>0</td>\n",
       "      <td>1</td>\n",
       "      <td>0</td>\n",
       "      <td>0</td>\n",
       "      <td>0</td>\n",
       "      <td>0</td>\n",
       "      <td>0</td>\n",
       "      <td>1</td>\n",
       "    </tr>\n",
       "    <tr>\n",
       "      <th>...</th>\n",
       "      <td>...</td>\n",
       "      <td>...</td>\n",
       "      <td>...</td>\n",
       "      <td>...</td>\n",
       "      <td>...</td>\n",
       "      <td>...</td>\n",
       "      <td>...</td>\n",
       "      <td>...</td>\n",
       "      <td>...</td>\n",
       "      <td>...</td>\n",
       "    </tr>\n",
       "    <tr>\n",
       "      <th>2450</th>\n",
       "      <td>1</td>\n",
       "      <td>43</td>\n",
       "      <td>1</td>\n",
       "      <td>0</td>\n",
       "      <td>0</td>\n",
       "      <td>0</td>\n",
       "      <td>1</td>\n",
       "      <td>0</td>\n",
       "      <td>0</td>\n",
       "      <td>0</td>\n",
       "    </tr>\n",
       "    <tr>\n",
       "      <th>2451</th>\n",
       "      <td>1</td>\n",
       "      <td>18</td>\n",
       "      <td>0</td>\n",
       "      <td>1</td>\n",
       "      <td>0</td>\n",
       "      <td>0</td>\n",
       "      <td>0</td>\n",
       "      <td>1</td>\n",
       "      <td>0</td>\n",
       "      <td>0</td>\n",
       "    </tr>\n",
       "    <tr>\n",
       "      <th>2452</th>\n",
       "      <td>0</td>\n",
       "      <td>54</td>\n",
       "      <td>0</td>\n",
       "      <td>1</td>\n",
       "      <td>0</td>\n",
       "      <td>0</td>\n",
       "      <td>1</td>\n",
       "      <td>0</td>\n",
       "      <td>0</td>\n",
       "      <td>0</td>\n",
       "    </tr>\n",
       "    <tr>\n",
       "      <th>2453</th>\n",
       "      <td>1</td>\n",
       "      <td>31</td>\n",
       "      <td>1</td>\n",
       "      <td>0</td>\n",
       "      <td>0</td>\n",
       "      <td>0</td>\n",
       "      <td>0</td>\n",
       "      <td>1</td>\n",
       "      <td>0</td>\n",
       "      <td>0</td>\n",
       "    </tr>\n",
       "    <tr>\n",
       "      <th>2454</th>\n",
       "      <td>0</td>\n",
       "      <td>52</td>\n",
       "      <td>1</td>\n",
       "      <td>0</td>\n",
       "      <td>0</td>\n",
       "      <td>0</td>\n",
       "      <td>1</td>\n",
       "      <td>0</td>\n",
       "      <td>0</td>\n",
       "      <td>0</td>\n",
       "    </tr>\n",
       "  </tbody>\n",
       "</table>\n",
       "<p>2455 rows × 10 columns</p>\n",
       "</div>"
      ],
      "text/plain": [
       "      uso_internet  edad  sexo_Hombre  sexo_Mujer  estudios_F.P.  \\\n",
       "0                0    66            0           1              0   \n",
       "1                1    72            1           0              0   \n",
       "2                1    48            1           0              0   \n",
       "3                0    59            1           0              0   \n",
       "4                1    44            0           1              0   \n",
       "...            ...   ...          ...         ...            ...   \n",
       "2450             1    43            1           0              0   \n",
       "2451             1    18            0           1              0   \n",
       "2452             0    54            0           1              0   \n",
       "2453             1    31            1           0              0   \n",
       "2454             0    52            1           0              0   \n",
       "\n",
       "      estudios_Medios universitarios  estudios_Primaria  estudios_Secundaria  \\\n",
       "0                                  0                  1                    0   \n",
       "1                                  0                  1                    0   \n",
       "2                                  1                  0                    0   \n",
       "3                                  0                  0                    0   \n",
       "4                                  0                  0                    0   \n",
       "...                              ...                ...                  ...   \n",
       "2450                               0                  1                    0   \n",
       "2451                               0                  0                    1   \n",
       "2452                               0                  1                    0   \n",
       "2453                               0                  0                    1   \n",
       "2454                               0                  1                    0   \n",
       "\n",
       "      estudios_Sin estudios  estudios_Superiores  \n",
       "0                         0                    0  \n",
       "1                         0                    0  \n",
       "2                         0                    0  \n",
       "3                         0                    1  \n",
       "4                         0                    1  \n",
       "...                     ...                  ...  \n",
       "2450                      0                    0  \n",
       "2451                      0                    0  \n",
       "2452                      0                    0  \n",
       "2453                      0                    0  \n",
       "2454                      0                    0  \n",
       "\n",
       "[2455 rows x 10 columns]"
      ]
     },
     "execution_count": 3,
     "metadata": {},
     "output_type": "execute_result"
    }
   ],
   "source": [
    "pd.get_dummies(df)"
   ]
  },
  {
   "cell_type": "markdown",
   "id": "671a99cd",
   "metadata": {},
   "source": [
    "# Seleccionar Variables"
   ]
  },
  {
   "cell_type": "markdown",
   "id": "57b6ba20",
   "metadata": {},
   "source": [
    "> 1. `Variable Objetivo y`\n",
    "> 2. El resto las usaremos como `Variables Explicativas X`"
   ]
  },
  {
   "cell_type": "code",
   "execution_count": 7,
   "id": "d54c5d9d",
   "metadata": {},
   "outputs": [],
   "source": [
    "objetivo= df['uso_internet']\n",
    "explicativas = df.drop(columns='uso_internet')"
   ]
  },
  {
   "cell_type": "markdown",
   "id": "41562190",
   "metadata": {},
   "source": [
    "# Entrenar Modelo `DecisionTreeClassifier()`"
   ]
  },
  {
   "cell_type": "markdown",
   "id": "b345c7d8",
   "metadata": {},
   "source": [
    "> Antes de irte a la torera a buscar lo que hemos visto durante la sesión. Piensa que:\n",
    ">\n",
    "> 1. Solo queremos importar una cosa; el objeto `DecisionTreeClassifier`.\n",
    "> 2. Por tanto: `from ... import DecisionTreeClassifier()`\n",
    "> 3. Tan solo tienes que pensar qué colocar en lugar de `...`. Teniendo en cuenta que la librería de `sklearn` contiene todo lo relacionado con los modelos de **Machine Learning**.\n",
    "> 4. **Disciplina Sotástica:** Puedes usar el tabulador `tab` para que Python te vaya sugiriendo..."
   ]
  },
  {
   "cell_type": "code",
   "execution_count": 29,
   "id": "48459838",
   "metadata": {},
   "outputs": [
    {
     "data": {
      "text/plain": [
       "DecisionTreeClassifier(max_depth=3)"
      ]
     },
     "execution_count": 29,
     "metadata": {},
     "output_type": "execute_result"
    }
   ],
   "source": [
    "from sklearn.tree import DecisionTreeClassifier \n",
    "\n",
    "model = DecisionTreeClassifier(max_depth=3)\n",
    "explicativas = pd.get_dummies(data=explicativas, drop_first=True)\n",
    "model.fit(y=objetivo, X=explicativas)"
   ]
  },
  {
   "cell_type": "markdown",
   "id": "6c106bda",
   "metadata": {},
   "source": [
    "# Visualizar Modelo"
   ]
  },
  {
   "cell_type": "markdown",
   "id": "a2989338",
   "metadata": {},
   "source": [
    "> 1. Usaremos la función `plot_tree()`, que se encuentra en el módulo `tree` de la librería `sklearn`\n",
    "> 2. Podéis usar `shift + tab` para que `Python` os explique cómo usar la función `plot_tree()`"
   ]
  },
  {
   "cell_type": "code",
   "execution_count": 30,
   "id": "c796c3bf",
   "metadata": {},
   "outputs": [
    {
     "data": {
      "image/png": "[encoded data removed]",
      "text/plain": [
       "<Figure size 432x288 with 1 Axes>"
      ]
     },
     "metadata": {
      "needs_background": "light"
     },
     "output_type": "display_data"
    }
   ],
   "source": [
    "from sklearn.tree import plot_tree\n",
    "plot_tree(decision_tree=model, feature_names=explicativa.columns, filled=True);"
   ]
  },
  {
   "cell_type": "markdown",
   "id": "1dcbdc61",
   "metadata": {},
   "source": [
    "# Explicación Algoritmo Árbol de Decisión"
   ]
  },
  {
   "cell_type": "markdown",
   "id": "a256173b",
   "metadata": {},
   "source": [
    "> _Durante la corrección te explicare en detalle el funcionamiento de este algoritmo. Mientras tanto, podéis ver el vídeo que usaré para que os relacionéis con los conceptos:_\n",
    ">\n",
    "> - https://www.youtube.com/watch?v=7VeUPuFGJHk"
   ]
  },
  {
   "cell_type": "code",
   "execution_count": null,
   "id": "faa31c7c",
   "metadata": {},
   "outputs": [],
   "source": []
  },
  {
   "cell_type": "markdown",
   "id": "d9294487",
   "metadata": {},
   "source": [
    "# Interpretar Modelo"
   ]
  },
  {
   "cell_type": "markdown",
   "id": "57286e16",
   "metadata": {},
   "source": [
    "> - ¿Cómo se ha situado la variable en el **Nodo Raíz**? ¿Es la **variable más importante**? ¿Por qué?"
   ]
  },
  {
   "cell_type": "code",
   "execution_count": null,
   "id": "80a2cb5a",
   "metadata": {},
   "outputs": [],
   "source": []
  },
  {
   "cell_type": "markdown",
   "id": "8c9cce4a",
   "metadata": {},
   "source": [
    "# Realizar Predicciones"
   ]
  },
  {
   "cell_type": "markdown",
   "id": "87916f94",
   "metadata": {},
   "source": [
    "> ¿No crees que si existe un modelo para calcular la ecuación matemática del árbol, probablemente habrá otro para **aplicar la ecuación matemática** sustituyendo por las variables de entrada, `explicativas X`?"
   ]
  },
  {
   "cell_type": "code",
   "execution_count": null,
   "id": "f6038652",
   "metadata": {},
   "outputs": [],
   "source": []
  },
  {
   "cell_type": "markdown",
   "id": "cd72a4d8",
   "metadata": {},
   "source": [
    "# Realidad vs Predicciones"
   ]
  },
  {
   "cell_type": "markdown",
   "id": "9e74a0da",
   "metadata": {},
   "source": [
    "> ¿Cómo de bueno es nuestro modelo?\n",
    ">\n",
    "> 1. Si pasamos las predicciones como una nuevo columna del `DataFrame`, podremos observar que **las predicciones de nuestro modelo pueden no coincidir con la realidad**.\n",
    ">\n",
    ">    - `df['pred'] = predicciones`\n",
    ">\n",
    "> 2. ¿Cómo medimos el **error de nuestro modelo**? ¿Cómo de bueno es nuestro modelo para describir la realidad?\n",
    ">    - `df.sample(10)` para comprobar si las predicciones de nuestro modelo coinciden con la realidad..."
   ]
  },
  {
   "cell_type": "code",
   "execution_count": 12,
   "id": "e8e1a8bc-8d00-48e9-bdda-ab13debbd923",
   "metadata": {},
   "outputs": [],
   "source": [
    "df.insert(0, 'pred', model.predict(X=explicativa))"
   ]
  },
  {
   "cell_type": "code",
   "execution_count": 32,
   "id": "b7fb15ba-d0e9-42b2-bf49-faed681a5323",
   "metadata": {},
   "outputs": [],
   "source": [
    "df.insert(0, 'pred_prob', model.predict_proba(X=explicativa)[:, 1])"
   ]
  },
  {
   "cell_type": "code",
   "execution_count": 33,
   "id": "db7eb5bf-c6ce-473d-be7d-893775c20f64",
   "metadata": {},
   "outputs": [
    {
     "data": {
      "text/html": [
       "<div>\n",
       "<style scoped>\n",
       "    .dataframe tbody tr th:only-of-type {\n",
       "        vertical-align: middle;\n",
       "    }\n",
       "\n",
       "    .dataframe tbody tr th {\n",
       "        vertical-align: top;\n",
       "    }\n",
       "\n",
       "    .dataframe thead th {\n",
       "        text-align: right;\n",
       "    }\n",
       "</style>\n",
       "<table border=\"1\" class=\"dataframe\">\n",
       "  <thead>\n",
       "    <tr style=\"text-align: right;\">\n",
       "      <th></th>\n",
       "      <th>pred_prob</th>\n",
       "      <th>pred</th>\n",
       "      <th>uso_internet</th>\n",
       "      <th>sexo</th>\n",
       "      <th>edad</th>\n",
       "      <th>estudios</th>\n",
       "    </tr>\n",
       "  </thead>\n",
       "  <tbody>\n",
       "    <tr>\n",
       "      <th>0</th>\n",
       "      <td>0.096286</td>\n",
       "      <td>0</td>\n",
       "      <td>0</td>\n",
       "      <td>Mujer</td>\n",
       "      <td>66</td>\n",
       "      <td>Primaria</td>\n",
       "    </tr>\n",
       "    <tr>\n",
       "      <th>1</th>\n",
       "      <td>0.096286</td>\n",
       "      <td>0</td>\n",
       "      <td>1</td>\n",
       "      <td>Hombre</td>\n",
       "      <td>72</td>\n",
       "      <td>Primaria</td>\n",
       "    </tr>\n",
       "    <tr>\n",
       "      <th>2</th>\n",
       "      <td>0.907583</td>\n",
       "      <td>1</td>\n",
       "      <td>1</td>\n",
       "      <td>Hombre</td>\n",
       "      <td>48</td>\n",
       "      <td>Medios universitarios</td>\n",
       "    </tr>\n",
       "    <tr>\n",
       "      <th>3</th>\n",
       "      <td>0.655172</td>\n",
       "      <td>0</td>\n",
       "      <td>0</td>\n",
       "      <td>Hombre</td>\n",
       "      <td>59</td>\n",
       "      <td>Superiores</td>\n",
       "    </tr>\n",
       "    <tr>\n",
       "      <th>4</th>\n",
       "      <td>0.907583</td>\n",
       "      <td>1</td>\n",
       "      <td>1</td>\n",
       "      <td>Mujer</td>\n",
       "      <td>44</td>\n",
       "      <td>Superiores</td>\n",
       "    </tr>\n",
       "    <tr>\n",
       "      <th>...</th>\n",
       "      <td>...</td>\n",
       "      <td>...</td>\n",
       "      <td>...</td>\n",
       "      <td>...</td>\n",
       "      <td>...</td>\n",
       "      <td>...</td>\n",
       "    </tr>\n",
       "    <tr>\n",
       "      <th>2450</th>\n",
       "      <td>0.489362</td>\n",
       "      <td>0</td>\n",
       "      <td>1</td>\n",
       "      <td>Hombre</td>\n",
       "      <td>43</td>\n",
       "      <td>Primaria</td>\n",
       "    </tr>\n",
       "    <tr>\n",
       "      <th>2451</th>\n",
       "      <td>0.907583</td>\n",
       "      <td>1</td>\n",
       "      <td>1</td>\n",
       "      <td>Mujer</td>\n",
       "      <td>18</td>\n",
       "      <td>Secundaria</td>\n",
       "    </tr>\n",
       "    <tr>\n",
       "      <th>2452</th>\n",
       "      <td>0.384615</td>\n",
       "      <td>0</td>\n",
       "      <td>0</td>\n",
       "      <td>Mujer</td>\n",
       "      <td>54</td>\n",
       "      <td>Primaria</td>\n",
       "    </tr>\n",
       "    <tr>\n",
       "      <th>2453</th>\n",
       "      <td>0.907583</td>\n",
       "      <td>1</td>\n",
       "      <td>1</td>\n",
       "      <td>Hombre</td>\n",
       "      <td>31</td>\n",
       "      <td>Secundaria</td>\n",
       "    </tr>\n",
       "    <tr>\n",
       "      <th>2454</th>\n",
       "      <td>0.384615</td>\n",
       "      <td>0</td>\n",
       "      <td>0</td>\n",
       "      <td>Hombre</td>\n",
       "      <td>52</td>\n",
       "      <td>Primaria</td>\n",
       "    </tr>\n",
       "  </tbody>\n",
       "</table>\n",
       "<p>2455 rows × 6 columns</p>\n",
       "</div>"
      ],
      "text/plain": [
       "      pred_prob  pred  uso_internet    sexo  edad               estudios\n",
       "0      0.096286     0             0   Mujer    66               Primaria\n",
       "1      0.096286     0             1  Hombre    72               Primaria\n",
       "2      0.907583     1             1  Hombre    48  Medios universitarios\n",
       "3      0.655172     0             0  Hombre    59             Superiores\n",
       "4      0.907583     1             1   Mujer    44             Superiores\n",
       "...         ...   ...           ...     ...   ...                    ...\n",
       "2450   0.489362     0             1  Hombre    43               Primaria\n",
       "2451   0.907583     1             1   Mujer    18             Secundaria\n",
       "2452   0.384615     0             0   Mujer    54               Primaria\n",
       "2453   0.907583     1             1  Hombre    31             Secundaria\n",
       "2454   0.384615     0             0  Hombre    52               Primaria\n",
       "\n",
       "[2455 rows x 6 columns]"
      ]
     },
     "execution_count": 33,
     "metadata": {},
     "output_type": "execute_result"
    }
   ],
   "source": [
    "df"
   ]
  },
  {
   "cell_type": "code",
   "execution_count": 14,
   "id": "22483fe5",
   "metadata": {},
   "outputs": [],
   "source": [
    "comp = df.uso_internet == df.pred"
   ]
  },
  {
   "cell_type": "code",
   "execution_count": 16,
   "id": "841061bb-e8cc-4032-8d23-02dab3c484b4",
   "metadata": {},
   "outputs": [
    {
     "data": {
      "text/plain": [
       "0.859877800407332"
      ]
     },
     "execution_count": 16,
     "metadata": {},
     "output_type": "execute_result"
    }
   ],
   "source": [
    "comp.mean()"
   ]
  },
  {
   "cell_type": "code",
   "execution_count": 20,
   "id": "ade414d0-af57-4887-a76e-fa675b9d8e26",
   "metadata": {},
   "outputs": [
    {
     "data": {
      "text/plain": [
       "0        True\n",
       "1       False\n",
       "2        True\n",
       "3        True\n",
       "4        True\n",
       "        ...  \n",
       "2450    False\n",
       "2451     True\n",
       "2452     True\n",
       "2453     True\n",
       "2454     True\n",
       "Length: 2455, dtype: bool"
      ]
     },
     "execution_count": 20,
     "metadata": {},
     "output_type": "execute_result"
    }
   ],
   "source": [
    "comp"
   ]
  },
  {
   "cell_type": "markdown",
   "id": "83e302b2",
   "metadata": {},
   "source": [
    "# Matriz de Confusión"
   ]
  },
  {
   "cell_type": "markdown",
   "id": "a9179cb8",
   "metadata": {},
   "source": [
    "> 1. Usar la función `confusion_matrix()`, o `plot_confusion_matrix()`\n",
    "> 2. ¿Qué representa cada número?"
   ]
  },
  {
   "cell_type": "code",
   "execution_count": 22,
   "id": "76a6538b",
   "metadata": {},
   "outputs": [
    {
     "data": {
      "image/png": "[encoded data removed]",
      "text/plain": [
       "<Figure size 432x288 with 2 Axes>"
      ]
     },
     "metadata": {
      "needs_background": "light"
     },
     "output_type": "display_data"
    }
   ],
   "source": [
    "from sklearn.metrics import plot_confusion_matrix,classification_report\n",
    "plot_confusion_matrix(estimator=model, X=explicativa, y_true=objetivo);"
   ]
  },
  {
   "cell_type": "markdown",
   "id": "5ca7d8e8",
   "metadata": {},
   "source": [
    "# Otrás Métricas"
   ]
  },
  {
   "cell_type": "markdown",
   "id": "fcda805e",
   "metadata": {},
   "source": [
    "> Siempre tomaremos como `referencia la realidad (por filas)`. Imaginando que estamos prediciendo si una persona tiene COVID o no, nos preguntaremos:"
   ]
  },
  {
   "cell_type": "markdown",
   "id": "1e18033b",
   "metadata": {},
   "source": [
    "## Sensitividad"
   ]
  },
  {
   "cell_type": "markdown",
   "id": "1f4d1699",
   "metadata": {},
   "source": [
    "> - Dentro de las personas que, realmente, `tienen COVID (1)`, cuántas predice nuestro modelo como que tienen COVID (1)?"
   ]
  },
  {
   "cell_type": "code",
   "execution_count": 24,
   "id": "392727f3",
   "metadata": {},
   "outputs": [
    {
     "data": {
      "text/plain": [
       "0.8577946768060837"
      ]
     },
     "execution_count": 24,
     "metadata": {},
     "output_type": "execute_result"
    }
   ],
   "source": [
    "1128/(187 + 1128)"
   ]
  },
  {
   "cell_type": "markdown",
   "id": "e8db014f",
   "metadata": {},
   "source": [
    "## Especificidad"
   ]
  },
  {
   "cell_type": "markdown",
   "id": "64e02cfb",
   "metadata": {},
   "source": [
    "> - Dentro de las personas que, realmente, `NO tienen COVID (0)`, cuántas predice nuestro modelo como que NO tienen COVID (0)?"
   ]
  },
  {
   "cell_type": "code",
   "execution_count": 25,
   "id": "9debdfb6",
   "metadata": {},
   "outputs": [
    {
     "data": {
      "text/plain": [
       "0.862280701754386"
      ]
     },
     "execution_count": 25,
     "metadata": {},
     "output_type": "execute_result"
    }
   ],
   "source": [
    "983/(983 + 157)"
   ]
  },
  {
   "cell_type": "markdown",
   "id": "208c6496",
   "metadata": {},
   "source": [
    "## Classification Report"
   ]
  },
  {
   "cell_type": "markdown",
   "id": "f43a06c9",
   "metadata": {},
   "source": [
    "> 1. Usaremos la función `classification_report()`\n",
    "> 2. Guardamos el objeto resultante en `reporte`\n",
    "> 3. Coinciden algunos de los números de la tabla, `print(reporte)`, con los que hemos calculado anteriormente?"
   ]
  },
  {
   "cell_type": "code",
   "execution_count": 27,
   "id": "c140fb08",
   "metadata": {},
   "outputs": [],
   "source": [
    "from sklearn.metrics import classification_report\n",
    "\n",
    "report = classification_report(y_true = objetivo, y_pred = df.pred)"
   ]
  },
  {
   "cell_type": "code",
   "execution_count": 28,
   "id": "56171c35-c4dc-48d5-9f35-8d706715e53b",
   "metadata": {},
   "outputs": [
    {
     "name": "stdout",
     "output_type": "stream",
     "text": [
      "              precision    recall  f1-score   support\n",
      "\n",
      "           0       0.84      0.86      0.85      1140\n",
      "           1       0.88      0.86      0.87      1315\n",
      "\n",
      "    accuracy                           0.86      2455\n",
      "   macro avg       0.86      0.86      0.86      2455\n",
      "weighted avg       0.86      0.86      0.86      2455\n",
      "\n"
     ]
    }
   ],
   "source": [
    "print(report)"
   ]
  },
  {
   "cell_type": "markdown",
   "id": "8a691707",
   "metadata": {},
   "source": [
    "## Curva ROC"
   ]
  },
  {
   "cell_type": "markdown",
   "id": "78c457ba",
   "metadata": {},
   "source": [
    "> - Usaremos la función `plot_roc_curve()`\n",
    ">\n",
    "> _PD: Durante la corrección te explicare en detalle el funcionamiento la Curva ROC. Mientras tanto puedes hacer uso del vídeo que usaré:_\n",
    ">\n",
    "> - https://www.youtube.com/watch?v=7VeUPuFGJHk"
   ]
  },
  {
   "cell_type": "code",
   "execution_count": 25,
   "id": "198c791f",
   "metadata": {},
   "outputs": [
    {
     "data": {
      "text/plain": [
       "<sklearn.metrics._plot.roc_curve.RocCurveDisplay at 0x252de2aa490>"
      ]
     },
     "execution_count": 25,
     "metadata": {},
     "output_type": "execute_result"
    },
    {
     "data": {
      "image/png": "[encoded data removed]",
      "text/plain": [
       "<Figure size 432x288 with 1 Axes>"
      ]
     },
     "metadata": {
      "needs_background": "light"
     },
     "output_type": "display_data"
    }
   ],
   "source": [
    "from sklearn.metrics import plot_roc_curve\n",
    "plot_roc_curve(estimator=model, X=explicativa, y=objetivo)"
   ]
  },
  {
   "cell_type": "markdown",
   "id": "a71d3dc7",
   "metadata": {},
   "source": [
    "# Objetivos Alcanzados"
   ]
  },
  {
   "cell_type": "markdown",
   "id": "464e9aa4",
   "metadata": {},
   "source": [
    "_Haz doble click sobre esta celda y pon una `X` dentro de las casillas [X] si crees que has superado los objetivos:_\n",
    "\n",
    "- [ ] Entender cómo se usan los **Algoritmos de Árboles**.\n",
    "- [ ] Entender otra forma de **comparar los datos reales con las predicciones** del modelo.\n",
    "- [ ] No todas las visualizaciones de modelos son iguales. En este caso también podemos **visualizar un árbol** para interpretar el modelo.\n",
    "- [ ] Distinguir el papel de la **probabilidad** a la hora de optimizar este tipo de modelos.\n",
    "- [ ] Saber determinar **por qué una variable es importante** en el modelo. Es decir, por qué aporta diferencias significativas.\n",
    "- [ ] Entender la necesidad de **normalizar** los datos."
   ]
  },
  {
   "cell_type": "code",
   "execution_count": null,
   "id": "199f7791",
   "metadata": {},
   "outputs": [],
   "source": []
  }
 ],
 "metadata": {
  "authors": [
   {
    "name": "Jesús López @sotastica"
   }
  ],
  "kernelspec": {
   "display_name": "Python 3",
   "language": "python",
   "name": "python3"
  },
  "language_info": {
   "codemirror_mode": {
    "name": "ipython",
    "version": 3
   },
   "file_extension": ".py",
   "mimetype": "text/x-python",
   "name": "python",
   "nbconvert_exporter": "python",
   "pygments_lexer": "ipython3",
   "version": "3.8.8"
  }
 },
 "nbformat": 4,
 "nbformat_minor": 5
}
