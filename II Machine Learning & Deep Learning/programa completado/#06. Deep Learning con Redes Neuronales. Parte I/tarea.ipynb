{
 "cells": [
  {
   "cell_type": "markdown",
   "metadata": {},
   "source": [
    "<font size=\"+5\">#06. Deep Learning con Redes Neuronales. Parte I</font>"
   ]
  },
  {
   "cell_type": "markdown",
   "metadata": {},
   "source": [
    "<ul>\n",
    "    <li>Resolver dudas → Pregunta en <img src=\"https://discord.com/assets/f9bb9c4af2b9c32a2c5ee0014661546d.png\" style=\"height: 1em; vertical-align: middle;\"> <a href=\"https://discord.gg/cmB3KGsqMy\">Discord</a></li>\n",
    "    <li>Tutoriales → <img src=\"https://openmoji.org/php/download_asset.php?type=emoji&emoji_hexcode=E044&emoji_variant=color\" style=\"height: 1em; vertical-align: middle;\"> <a href=\"https://www.youtube.com/channel/UCovCte2I3loteQE_kRsfQcw\">YouTube</a></li>\n",
    "    <li>Reservar Clases → <span style=\"color: orange\">@</span> <a href=\"https://sotastica.com/reservar\">sotastica</a></li>\n",
    "</ul>"
   ]
  },
  {
   "cell_type": "markdown",
   "metadata": {},
   "source": [
    "# Cargar Datos"
   ]
  },
  {
   "cell_type": "markdown",
   "metadata": {},
   "source": [
    "# Preparar Datos para el Modelo"
   ]
  },
  {
   "cell_type": "markdown",
   "metadata": {},
   "source": [
    "# Entrenar Modelo `Sequential()`"
   ]
  },
  {
   "cell_type": "markdown",
   "metadata": {},
   "source": [
    "> - Definir la capa de entrada con un número de neuronas igual al número de variables que entran en el modelo.\n",
    "> - Definir la capa de salida con un número de neuronas igual al número de categorías que queremos predecir.\n",
    "> - Podéis usar las capas intermedias como queráis."
   ]
  },
  {
   "cell_type": "code",
   "execution_count": null,
   "metadata": {},
   "outputs": [],
   "source": []
  },
  {
   "cell_type": "markdown",
   "metadata": {},
   "source": [
    "# Realizar Predicciones"
   ]
  },
  {
   "cell_type": "markdown",
   "metadata": {},
   "source": [
    "# Visualizar Modelo"
   ]
  },
  {
   "cell_type": "markdown",
   "metadata": {},
   "source": [
    "# Interpretar Modelo"
   ]
  },
  {
   "cell_type": "markdown",
   "metadata": {},
   "source": [
    "# Realidad vs Predicciones"
   ]
  },
  {
   "cell_type": "markdown",
   "metadata": {},
   "source": [
    "> Cómo de bueno es nuestro modelo?\n",
    ">\n",
    "> Si pasamos las predicciones como una nuevo columna del `DataFrame`, podremos observar que las predicciones de nuestro modelo pueden no coincidir con la realidad.\n",
    ">\n",
    "> Cómo medimos el error de nuestro modelo? Cómo de bueno es nuestro modelo para describir la realidad?"
   ]
  },
  {
   "cell_type": "code",
   "execution_count": null,
   "metadata": {},
   "outputs": [],
   "source": []
  },
  {
   "cell_type": "markdown",
   "metadata": {},
   "source": [
    "# Objetivos Alcanzados"
   ]
  },
  {
   "cell_type": "markdown",
   "metadata": {},
   "source": [
    "_Haz doble click sobre esta celda y pon una `X` dentro de las casillas [X] si crees que has superado los objetivos:_\n",
    "\n",
    "- [ ] Entender qué significado y lugar tiene cada entidad en la Red Neuronal para **saber qué podemos modificar y qué no**.\n",
    "- [ ] Conectar el sentir de una Red Neuronal con la forma en que se **optimiza una Regresión Lineal Simple**.\n",
    "- [ ] Entender la importancia de las **matemáticas** en sus aplicaciones a la vida real para que los coches conduzcan de forma automática, o los e-commerces nos den anuncios al instante.\n",
    "- [ ] Saber **diseñar una Red Neuronal** en Python con diferentes configuraciones y distintos tipos de Datasets."
   ]
  },
  {
   "cell_type": "code",
   "execution_count": null,
   "metadata": {},
   "outputs": [],
   "source": []
  }
 ],
 "metadata": {
  "authors": [
   {
    "name": "Jesús López @sotastica"
   }
  ],
  "kernelspec": {
   "display_name": "Python 3.6.13 64-bit ('menv': conda)",
   "language": "python",
   "name": "python3613jvsc74a57bd026e4d19d95ad3d9dd675f2236565b2265362f6dc4cb865e3b97ba1e8b7adf671"
  },
  "language_info": {
   "codemirror_mode": {
    "name": "ipython",
    "version": 3
   },
   "file_extension": ".py",
   "mimetype": "text/x-python",
   "name": "python",
   "nbconvert_exporter": "python",
   "pygments_lexer": "ipython3",
   "version": "3.7.10"
  }
 },
 "nbformat": 4,
 "nbformat_minor": 4
}
