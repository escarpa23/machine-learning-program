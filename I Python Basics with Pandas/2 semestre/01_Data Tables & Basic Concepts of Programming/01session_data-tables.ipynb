{
 "cells": [
  {
   "cell_type": "markdown",
   "id": "65a62216",
   "metadata": {},
   "source": [
    "<font size=\"+5\">#01 | Data Tables & Basic Concepts of Programming</font>"
   ]
  },
  {
   "cell_type": "markdown",
   "id": "3e9a2e55-8a36-4c00-b184-4286bfc8ce90",
   "metadata": {},
   "source": [
    "- Subscribe to my [Blog ↗](https://blog.pythonassembly.com/)\n",
    "- Let's keep in touch on [LinkedIn ↗](www.linkedin.com/in/jsulopz) 😄"
   ]
  },
  {
   "cell_type": "markdown",
   "id": "de5c0482-fd34-45e2-8f23-7dfb6a507e24",
   "metadata": {},
   "source": [
    "# The Registry (aka the `environment`)"
   ]
  },
  {
   "cell_type": "markdown",
   "id": "21c2d653-fe51-4bfb-8a5f-76ee631650d0",
   "metadata": {},
   "source": [
    "> - Type `your name` and execute ↓"
   ]
  },
  {
   "cell_type": "code",
   "execution_count": null,
   "id": "8378801e-ac12-4983-b960-2865c2812c37",
   "metadata": {},
   "outputs": [],
   "source": []
  },
  {
   "cell_type": "markdown",
   "id": "a5de79f3-8270-4d18-8df6-dfe7da2c9e1c",
   "metadata": {},
   "source": [
    "> - Type `sum` and execute ↓"
   ]
  },
  {
   "cell_type": "code",
   "execution_count": null,
   "id": "30252789-ecde-4403-b8c1-8b2fc47a743e",
   "metadata": {},
   "outputs": [],
   "source": []
  },
  {
   "cell_type": "markdown",
   "id": "7b5790c3-61a4-40c7-934f-bc4c00c1fefa",
   "metadata": {},
   "source": [
    "> - [ ] Why is it recognizing `sum` and not `your name`\n",
    "> - [ ] How can you literally tell `your name` so that Python will recognize it"
   ]
  },
  {
   "cell_type": "code",
   "execution_count": null,
   "id": "2f0d89be-b312-4903-927a-ed60eed47676",
   "metadata": {},
   "outputs": [],
   "source": []
  },
  {
   "cell_type": "markdown",
   "id": "b528565b-6b9f-4cab-b4ef-d364a71c5903",
   "metadata": {},
   "source": [
    "# Object-Oriented Programming"
   ]
  },
  {
   "cell_type": "markdown",
   "id": "93fb3fb7-13df-4716-91d3-db25892b6e26",
   "metadata": {},
   "source": [
    "> Which `objects` are predefined by Python?\n",
    "> - numbers\n",
    "> - text\n",
    "> - set of `objects`"
   ]
  },
  {
   "cell_type": "code",
   "execution_count": null,
   "id": "f484c1d3-0394-4e97-b7b0-fc6ac2e9717a",
   "metadata": {},
   "outputs": [],
   "source": []
  },
  {
   "cell_type": "markdown",
   "id": "72742636-6092-40f4-a634-330da1aa066a",
   "metadata": {},
   "source": [
    "# Use of Functions"
   ]
  },
  {
   "cell_type": "markdown",
   "id": "f1e6d281-9765-4eb8-92a8-6b541b93c9f0",
   "metadata": {},
   "source": [
    "## Functions inside Objects"
   ]
  },
  {
   "cell_type": "markdown",
   "id": "be865b52-fcc2-42d7-a2a6-ba585fdfc957",
   "metadata": {},
   "source": [
    "> - The `dog` makes `guau()`: `dog.guau()`\n",
    "> - The `cat` makes `miau()`: `cat.miau()`\n",
    "> - What could a `DataFrame` make? `object.` + `[tab key]`"
   ]
  },
  {
   "cell_type": "code",
   "execution_count": null,
   "id": "99184069-9686-4e4c-a8cc-c590f12fd7b6",
   "metadata": {},
   "outputs": [],
   "source": []
  },
  {
   "cell_type": "markdown",
   "id": "e512f553-8718-42dc-b94d-da705e8992e6",
   "metadata": {},
   "source": [
    "## Predefined Functions in Python (_Built-in_ Functions)"
   ]
  },
  {
   "cell_type": "markdown",
   "id": "9316ba5d-1385-4f1e-bb2b-b4f8a8c06dde",
   "metadata": {},
   "source": [
    "> - https://docs.python.org/3/library/functions.html"
   ]
  },
  {
   "cell_type": "code",
   "execution_count": null,
   "id": "a092b76e-1629-42d5-9028-c6b0cf55fb5c",
   "metadata": {},
   "outputs": [],
   "source": []
  },
  {
   "cell_type": "markdown",
   "id": "86d29a70",
   "metadata": {},
   "source": [
    "## Discipline to Search Solutions in Google"
   ]
  },
  {
   "cell_type": "markdown",
   "id": "6e4337ce",
   "metadata": {},
   "source": [
    "> Apply the following steps when **looking for solutions in Google**:\n",
    ">\n",
    "> 1. **Necesity**: How to load an Excel in Python?\n",
    "> 2. **Search in Google**: by keywords\n",
    ">   - `load excel python`\n",
    ">   - ~~how to load excel in python~~\n",
    "> 3. **Solution**: What's the `function()` that loads an Excel in Python?\n",
    ">   - A Function to Programming is what the Atom to Phisics.\n",
    ">   - Every time you want to do something in programming\n",
    ">   - **You will need a `function()`** to make it\n",
    ">   - Theferore, you must **detect parenthesis `()`**\n",
    ">   - Out of all the words that you see in a website\n",
    ">   - Because they indicate the presence of a `function()`."
   ]
  },
  {
   "cell_type": "markdown",
   "id": "cf8faa78",
   "metadata": {},
   "source": [
    "## External Functions"
   ]
  },
  {
   "cell_type": "markdown",
   "id": "9f8e0836",
   "metadata": {},
   "source": [
    "> - Download [this Excel](https://github.com/sotastica/data/raw/main/internet_usage_spain.xlsx)\n",
    "> - Apply the above discipline and make it happen 🚀\n",
    "> - I want to see the table, c'mon 👇"
   ]
  },
  {
   "cell_type": "code",
   "execution_count": null,
   "id": "a1f7c8a2-da00-47c9-b5f4-dcebf57d64f9",
   "metadata": {},
   "outputs": [],
   "source": []
  },
  {
   "cell_type": "markdown",
   "id": "5da10922-17cf-406a-ba2e-f779d6b72b09",
   "metadata": {},
   "source": [
    "## Change Default Parameters of a Function"
   ]
  },
  {
   "cell_type": "markdown",
   "id": "2e721cf7-a397-4e34-99ed-ac0dd2c5a269",
   "metadata": {},
   "source": [
    "> - By Default ↓"
   ]
  },
  {
   "cell_type": "code",
   "execution_count": null,
   "id": "6dad4675-40da-4fe7-982a-01067a951b3a",
   "metadata": {},
   "outputs": [],
   "source": []
  },
  {
   "cell_type": "markdown",
   "id": "63f7860e-cc76-481f-acd3-15d17864db01",
   "metadata": {},
   "source": [
    "> - Change the Default Object of the Parameter ↓"
   ]
  },
  {
   "cell_type": "code",
   "execution_count": null,
   "id": "db6475c5-e715-48d4-9496-376b268d4c45",
   "metadata": {},
   "outputs": [],
   "source": []
  },
  {
   "cell_type": "markdown",
   "id": "7d4d82fd",
   "metadata": {},
   "source": [
    "## The Elements of Programming"
   ]
  },
  {
   "cell_type": "markdown",
   "id": "8c5fa32a",
   "metadata": {},
   "source": [
    "> - `Library`: where the code of functions are stored.\n",
    ">   - `Function`: execute several lines of code with one `word()`.\n",
    ">       - `Parameter`: to **configure** the function's behaviour.\n",
    ">           - `Object`: **data structure** to store information."
   ]
  },
  {
   "cell_type": "markdown",
   "id": "140dd81d",
   "metadata": {},
   "source": [
    "## Code Syntax"
   ]
  },
  {
   "cell_type": "markdown",
   "id": "e641dd82",
   "metadata": {},
   "source": [
    "**What happens inside the computer when we run the code?**\n",
    "\n",
    "> In which order Python reads the line of code?\n",
    "> - From left to right.\n",
    "> - From up to down.\n",
    "> Which elements are being used in the previous line of code?"
   ]
  },
  {
   "cell_type": "code",
   "execution_count": null,
   "id": "e06670fc-a012-4921-a8cb-7fab045d5637",
   "metadata": {},
   "outputs": [],
   "source": []
  },
  {
   "cell_type": "markdown",
   "id": "1766242d-996b-4116-a7f8-e8f21f4b5674",
   "metadata": {},
   "source": [
    "## Python doesn't know about the Excel File\n",
    "\n",
    "> - Python just interprets the `string`\n",
    "> - and the `integer`"
   ]
  },
  {
   "cell_type": "code",
   "execution_count": null,
   "id": "d0b306f8-d658-405e-af55-9dfb1c565fb0",
   "metadata": {},
   "outputs": [],
   "source": []
  },
  {
   "cell_type": "markdown",
   "id": "40258955-abd7-4872-acaa-618256e61c58",
   "metadata": {},
   "source": [
    "> - As you pass these two parameters to the function\n",
    "> - `pd.read_excel(io='internet_usage_spain.xlsx', sheet_name=1)`"
   ]
  },
  {
   "cell_type": "code",
   "execution_count": null,
   "id": "bd47e347-5693-420f-b2a2-254ed1023f1b",
   "metadata": {},
   "outputs": [],
   "source": []
  },
  {
   "cell_type": "markdown",
   "id": "61e27a6b-68da-47b8-8197-866aab11826e",
   "metadata": {},
   "source": [
    "`miniforge3/lib/python3.9/site-packages/pandas/io/excel/_base.py`"
   ]
  },
  {
   "cell_type": "markdown",
   "id": "f77f4b8f-efe7-4525-9a4f-80bd99653c2d",
   "metadata": {},
   "source": [
    "## Source Code Execution"
   ]
  },
  {
   "cell_type": "markdown",
   "id": "f13f8f19-2880-4ac9-aca1-509e188a49fe",
   "metadata": {},
   "source": [
    "> - What have happened **inside the computer** execute `read_excel()`?"
   ]
  },
  {
   "cell_type": "code",
   "execution_count": null,
   "id": "fa2a5d08-529f-46a8-8937-6c6e5104a9f7",
   "metadata": {},
   "outputs": [],
   "source": []
  },
  {
   "cell_type": "markdown",
   "id": "f6917b73-6390-47f5-8c83-2a00c92f8dc6",
   "metadata": {},
   "source": [
    "`~/miniforge3/lib/python3.9/site-packages/pandas/io/excel/_base.py`"
   ]
  },
  {
   "cell_type": "markdown",
   "id": "7ea8cc83-7736-4525-9c5b-bd6186ac808b",
   "metadata": {},
   "source": [
    "> - How Python locates the error when it doesn't find the `filename`?"
   ]
  },
  {
   "cell_type": "code",
   "execution_count": null,
   "id": "dc816c6c-c179-48ca-8eb7-5625c7bc4b2f",
   "metadata": {},
   "outputs": [],
   "source": []
  },
  {
   "cell_type": "markdown",
   "id": "0d064658",
   "metadata": {},
   "source": [
    "## Conclusion | Types of Functions"
   ]
  },
  {
   "cell_type": "markdown",
   "id": "85a24444",
   "metadata": {},
   "source": [
    "> 1. Buit-in (Predefined) Functions\n",
    "> 2. External Functions from Libraries\n",
    "> 3. Functions within Objects"
   ]
  },
  {
   "cell_type": "markdown",
   "id": "64d133ff",
   "metadata": {},
   "source": [
    "# Accessing `Objects`"
   ]
  },
  {
   "cell_type": "markdown",
   "id": "8c9fe82b",
   "metadata": {},
   "source": [
    "> - Objects are **data structures** that store information. \n",
    "> - [ ] Which **syntax** do we use to access the information?"
   ]
  },
  {
   "cell_type": "markdown",
   "id": "30ec0a18",
   "metadata": {},
   "source": [
    "## Dot Notation `.`"
   ]
  },
  {
   "cell_type": "markdown",
   "id": "c2cd8860-5521-4e3c-9a85-5a84a22b5245",
   "metadata": {},
   "source": [
    "> - Show just the `age` column from `df`"
   ]
  },
  {
   "cell_type": "code",
   "execution_count": null,
   "id": "ffea94e5-dc0e-40e7-a583-8727c4dc2759",
   "metadata": {},
   "outputs": [],
   "source": []
  },
  {
   "cell_type": "markdown",
   "id": "8b1b50d9-c43d-4522-88ac-bb3f3048c1bb",
   "metadata": {},
   "source": [
    "> - [ ] Could we access to more information than just the columns?"
   ]
  },
  {
   "cell_type": "code",
   "execution_count": null,
   "id": "7b5512a3-443a-44f7-b84f-df19c6dd3964",
   "metadata": {},
   "outputs": [],
   "source": []
  },
  {
   "cell_type": "markdown",
   "id": "25086029-27b2-4012-9842-4f58eb8104c9",
   "metadata": {},
   "source": [
    "### The `function()`"
   ]
  },
  {
   "cell_type": "code",
   "execution_count": null,
   "id": "de030b72-9ee6-44d8-9ddf-2823633d6819",
   "metadata": {},
   "outputs": [],
   "source": []
  },
  {
   "cell_type": "markdown",
   "id": "4c9ac251-d4ec-4d82-aad7-caac24b82f4f",
   "metadata": {},
   "source": [
    "### The `instance`"
   ]
  },
  {
   "cell_type": "code",
   "execution_count": null,
   "id": "57a7390b-bfc6-4013-b4dc-7cd85513b8d1",
   "metadata": {},
   "outputs": [],
   "source": []
  },
  {
   "cell_type": "markdown",
   "id": "385a383e-5ad5-41cf-918b-eacb8bdbddf9",
   "metadata": {},
   "source": [
    "### Recap"
   ]
  },
  {
   "cell_type": "markdown",
   "id": "6245135d-8864-47bd-89f5-d7b65dc1d500",
   "metadata": {},
   "source": [
    "1. The **library** may contain:\n",
    "    - `module` (subfolder)\n",
    "    - `function`\n",
    "    - `class` (object) to be created\n",
    "    - `instance` (object) already created"
   ]
  },
  {
   "cell_type": "code",
   "execution_count": null,
   "id": "44501b07-2aeb-44d2-aefa-bb05c0af67ea",
   "metadata": {},
   "outputs": [],
   "source": []
  },
  {
   "cell_type": "markdown",
   "id": "5f4a8c0b-6614-4074-9161-f82fdf8e9cc7",
   "metadata": {},
   "source": [
    "2. The **instance** (object) may contain:\n",
    "    - `function`\n",
    "    - more `instance`"
   ]
  },
  {
   "cell_type": "code",
   "execution_count": null,
   "id": "32972f42-7bb7-4520-ad32-71f4ad4145f1",
   "metadata": {},
   "outputs": [],
   "source": []
  },
  {
   "cell_type": "markdown",
   "id": "5c5f6350-d4f7-4179-a77b-b31c08ab5848",
   "metadata": {},
   "source": [
    "3. The **function** contains nothing\n",
    "    - it's the endpoint of programming"
   ]
  },
  {
   "cell_type": "code",
   "execution_count": null,
   "id": "c9031107-759f-4959-be30-c2f241309fcc",
   "metadata": {},
   "outputs": [],
   "source": []
  },
  {
   "cell_type": "markdown",
   "id": "dcd78b47-72ff-4427-9ae0-9d0bb83e2a1d",
   "metadata": {},
   "source": [
    "## Square Brackets `[]`"
   ]
  },
  {
   "cell_type": "markdown",
   "id": "5b242b70-48fa-4d61-8a3c-6089bee4e987",
   "metadata": {},
   "source": [
    "> - Show just the `age` column from `df`"
   ]
  },
  {
   "cell_type": "code",
   "execution_count": null,
   "id": "9bc47967-630b-4afd-ac1b-8fe09a0987ef",
   "metadata": {},
   "outputs": [],
   "source": []
  },
  {
   "cell_type": "markdown",
   "id": "d389f1b6",
   "metadata": {},
   "source": [
    "# Filter & Masking"
   ]
  },
  {
   "cell_type": "markdown",
   "id": "ad60e292-ed77-4c06-8614-7391dcd05ebd",
   "metadata": {},
   "source": [
    "## Filter people older than 70"
   ]
  },
  {
   "cell_type": "code",
   "execution_count": null,
   "id": "e6a41d01-8ad0-4319-95eb-07035d154606",
   "metadata": {},
   "outputs": [],
   "source": []
  },
  {
   "cell_type": "markdown",
   "id": "318a0f0d-6642-4081-a7da-cb3f5c751fac",
   "metadata": {},
   "source": [
    "## Filter people without studies"
   ]
  },
  {
   "cell_type": "code",
   "execution_count": null,
   "id": "63d9b1b6-773a-4e50-8248-b4b6cdd32362",
   "metadata": {},
   "outputs": [],
   "source": []
  },
  {
   "cell_type": "markdown",
   "id": "1900bcb9-1ccc-48a2-b4df-cf15aabfa5fb",
   "metadata": {},
   "source": [
    "## Filter people older than 70 and without studies"
   ]
  },
  {
   "cell_type": "code",
   "execution_count": null,
   "id": "39058bdd-1f7b-4cce-8b4e-0decef944526",
   "metadata": {},
   "outputs": [],
   "source": []
  },
  {
   "cell_type": "markdown",
   "id": "a22f80aa-b1c0-4d3e-ab0b-377661e44c0c",
   "metadata": {},
   "source": [
    "## Filter people older than 70 or without studies"
   ]
  },
  {
   "cell_type": "code",
   "execution_count": null,
   "id": "b49cb601-3ed0-45c3-89af-6c2f9a2ad364",
   "metadata": {},
   "outputs": [],
   "source": []
  }
 ],
 "metadata": {
  "authors": [
   {
    "name": "Jesús López @sotastica"
   }
  ],
  "interpreter": {
   "hash": "414fd6d7c0f0aefb3d4e2db41edbeb0df03134e10d94a689550561b640a17652"
  },
  "kernelspec": {
   "display_name": "Python 3 (ipykernel)",
   "language": "python",
   "name": "python3"
  },
  "language_info": {
   "codemirror_mode": {
    "name": "ipython",
    "version": 3
   },
   "file_extension": ".py",
   "mimetype": "text/x-python",
   "name": "python",
   "nbconvert_exporter": "python",
   "pygments_lexer": "ipython3",
   "version": "3.9.7"
  },
  "toc-autonumbering": true
 },
 "nbformat": 4,
 "nbformat_minor": 5
}
