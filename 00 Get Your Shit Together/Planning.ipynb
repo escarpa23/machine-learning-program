{
 "cells": [
  {
   "cell_type": "markdown",
   "id": "e5da47b6-5944-4129-b706-4f6f05b73ef7",
   "metadata": {},
   "source": [
    "# Planning"
   ]
  },
  {
   "cell_type": "markdown",
   "id": "35bd9e88-1255-4a49-bec6-1f1fa12eeed7",
   "metadata": {},
   "source": [
    "# Lesson 1: Corregir Pandas & Object Dissection\n",
    "\n",
    "- **Topics:**\n",
    "    1. [X] corregir pandas\n",
    "    2. [ ] disecting object for data vis\n",
    "    3. tal\n",
    "- **Takeaways:**\n",
    "    1. Accessing the Object `instance[]`\n",
    "    2. Executing a function from the Object `instance.fuction()`\n",
    "    3. Accessing `subinstances` to get a special `function`\n",
    "        - `~~df.item_price.split()~~`\n",
    "        - `df.item_price.str.split()`\n",
    "    4. Partes de un objeto\n",
    "        - serie\n",
    "            - index\n",
    "            - values\n",
    "            - name\n",
    "            - dtypes\n",
    "            - index, value\n",
    "            - s[[0]]\n",
    "- **Task for Next Lesson:**\n",
    "    1. [ ] 09_Time Series | Apple\n",
    "    2. [ ] 01 Chipotle Terminar"
   ]
  },
  {
   "cell_type": "markdown",
   "id": "d997b125-b045-4186-a30d-4efc80e5f9b0",
   "metadata": {
    "tags": []
   },
   "source": [
    "# Lesson 2: 03 Transforming Basic 24/02/22\n",
    "\n",
    "- **Topics:**\n",
    "    1. corregir pandas\n",
    "    2. [ ] 03 Transforming Basic\n",
    "    3. [ ] 04 Manipulate the DataFrame\n",
    "- **Takeaways:**\n",
    "    1. Accessing the Object `instance[]`\n",
    "    2. Executing a function from the Object `instance.fuction()`\n",
    "    3. Accessing `subinstances` to get a special `function`\n",
    "        - `~~df.item_price.split()~~`\n",
    "        - `df.item_price.str.split()`\n",
    "- **Task for Next Lesson:**\n",
    "    1. [ ] 09_Time Series | Apple\n",
    "    2. [ ] 03 Transforming Basic\n",
    "    3. [ ] tal"
   ]
  },
  {
   "cell_type": "code",
   "execution_count": null,
   "id": "e4a0f0dc-57df-4a1c-9759-2d64c9ef134b",
   "metadata": {},
   "outputs": [],
   "source": []
  }
 ],
 "metadata": {
  "kernelspec": {
   "display_name": "Python 3 (ipykernel)",
   "language": "python",
   "name": "python3"
  },
  "language_info": {
   "codemirror_mode": {
    "name": "ipython",
    "version": 3
   },
   "file_extension": ".py",
   "mimetype": "text/x-python",
   "name": "python",
   "nbconvert_exporter": "python",
   "pygments_lexer": "ipython3",
   "version": "3.9.7"
  }
 },
 "nbformat": 4,
 "nbformat_minor": 5
}
